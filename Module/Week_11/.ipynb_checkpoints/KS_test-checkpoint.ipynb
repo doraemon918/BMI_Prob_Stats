{
 "cells": [
  {
   "cell_type": "markdown",
   "metadata": {},
   "source": [
    "## Empirical cumulative distribution:\n",
    "\n",
    "Finding an empirical cumulative distribution is a non-parametric technique that generates an orderd cumulative ranked view of the data. \n",
    "\n",
    "We can statistically compared two curves using the eCDFs and applying the Kolmogorov–Smirnov test (KS test), which is a non_parametric test of equality of two continuous distributions"
   ]
  },
  {
   "cell_type": "code",
   "execution_count": 1,
   "metadata": {},
   "outputs": [
    {
     "data": {
      "text/html": [
       "0.47"
      ],
      "text/latex": [
       "0.47"
      ],
      "text/markdown": [
       "0.47"
      ],
      "text/plain": [
       "[1] 0.47"
      ]
     },
     "metadata": {},
     "output_type": "display_data"
    },
    {
     "data": {
      "image/png": "[encoded data removed]",
      "text/plain": [
       "Plot with title “ecdf(X)”"
      ]
     },
     "metadata": {},
     "output_type": "display_data"
    }
   ],
   "source": [
    "X = rnorm(100)\n",
    "P = ecdf(X)\n",
    "P(0.0)\n",
    "plot(P)"
   ]
  },
  {
   "cell_type": "code",
   "execution_count": 2,
   "metadata": {},
   "outputs": [
    {
     "name": "stderr",
     "output_type": "stream",
     "text": [
      "Loading required package: ggplot2\n"
     ]
    }
   ],
   "source": [
    "require(ggplot2)"
   ]
  },
  {
   "cell_type": "code",
   "execution_count": 3,
   "metadata": {},
   "outputs": [],
   "source": [
    "# simulate two distributions - your data goes here!\n",
    "sample1 <- rnorm(10000, 10, 5)\n",
    "sample2 <- rnorm(10000, 1, 5)\n",
    "group <- c(rep(\"sample1\", length(sample1)), rep(\"sample2\", length(sample2)))\n",
    "dat <- data.frame(KSD = c(sample1,sample2), group = group)\n",
    "# create ECDF of data\n",
    "cdf1 <- ecdf(sample1) \n",
    "cdf2 <- ecdf(sample2) \n",
    "# find min and max statistics to draw line between points of greatest distance\n",
    "minMax <- seq(min(sample1, sample2), max(sample1, sample2), length.out=length(sample1)) \n",
    "x0 <- minMax[which( abs(cdf1(minMax) - cdf2(minMax)) == max(abs(cdf1(minMax) - cdf2(minMax))) )] \n",
    "y0 <- cdf1(x0) \n",
    "y1 <- cdf2(x0) "
   ]
  },
  {
   "cell_type": "code",
   "execution_count": null,
   "metadata": {},
   "outputs": [
    {
     "data": {},
     "metadata": {},
     "output_type": "display_data"
    }
   ],
   "source": [
    "ggplot(dat, aes(x = KSD, group = group, color = group))+\n",
    "  stat_ecdf(size=1) +\n",
    "    theme_bw(base_size = 28) +\n",
    "    theme(legend.position =\"top\") +\n",
    "    xlab(\"Sample\") +\n",
    "    ylab(\"ECDF\") +\n",
    "    #geom_line(size=1) +\n",
    "    geom_segment(aes(x = x0[1], y = y0[1], xend = x0[1], yend = y1[1]),\n",
    "        linetype = \"dashed\", color = \"red\") +\n",
    "    geom_point(aes(x = x0[1] , y= y0[1]), color=\"red\", size=8) +\n",
    "    geom_point(aes(x = x0[1] , y= y1[1]), color=\"red\", size=8) +\n",
    "    ggtitle(\"K-S Test: Sample 1 / Sample 2\") +\n",
    "    theme(legend.title=element_blank())"
   ]
  },
  {
   "cell_type": "code",
   "execution_count": null,
   "metadata": {},
   "outputs": [],
   "source": [
    "######################### non ggplot example\n",
    "plot(cdf1, verticals=TRUE, do.points=FALSE, col=\"blue\") \n",
    "plot(cdf2, verticals=TRUE, do.points=FALSE, col=\"green\", add=TRUE) \n",
    "## alternative, use standard R plot of ecdf \n",
    "#plot(f.a, col=\"blue\") \n",
    "#lines(f.b, col=\"green\") \n",
    "\n",
    "points(c(x0, x0), c(y0, y1), pch=16, col=\"red\") \n",
    "segments(x0, y0, x0, y1, col=\"red\", lty=\"dotted\") "
   ]
  },
  {
   "cell_type": "code",
   "execution_count": null,
   "metadata": {},
   "outputs": [],
   "source": [
    "ks.test(sample1, sample2)"
   ]
  },
  {
   "cell_type": "code",
   "execution_count": null,
   "metadata": {
    "collapsed": true
   },
   "outputs": [],
   "source": []
  }
 ],
 "metadata": {
  "kernelspec": {
   "display_name": "R",
   "language": "R",
   "name": "ir"
  },
  "language_info": {
   "codemirror_mode": "r",
   "file_extension": ".r",
   "mimetype": "text/x-r-source",
   "name": "R",
   "pygments_lexer": "r",
   "version": "3.3.2"
  }
 },
 "nbformat": 4,
 "nbformat_minor": 2
}
