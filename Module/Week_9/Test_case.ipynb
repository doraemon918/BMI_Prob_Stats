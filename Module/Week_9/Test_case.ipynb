{
 "cells": [
  {
   "cell_type": "markdown",
   "metadata": {},
   "source": [
    "# Test Case\n",
    "\n",
    "In order to understand a little better how to utilize unsupervised machine learning algorithms we will runa test case that comes from the final project presented by out TA Soyoung An and Yisurai Du for BMI 6018 Intro to Programming\n",
    "\n",
    "The project title is: \n",
    "### Relationship between amount of 911 calls and characteristics of townships in Montgomery County in Pennsylvania\n",
    "\n",
    "The main goal of the project is to try to understand the factors associated to 911 calls in the Montgomery Count in Pennsylvania.\n",
    "\n",
    "There are 4 predictors included:\n",
    "\n",
    "Levels of education (high - low)\n",
    "employment (yes - no)\n",
    "race (White - others)\n",
    "income (quantitative)\n",
    "\n",
    "The data that we will use is a set already collected and prepared. The data is also normalized by the population size for each township (total of 67 townships)"
   ]
  },
  {
   "cell_type": "code",
   "execution_count": 7,
   "metadata": {},
   "outputs": [
    {
     "name": "stderr",
     "output_type": "stream",
     "text": [
      "also installing the dependencies ‘mclust’, ‘flexmix’, ‘prabclus’, ‘diptest’, ‘trimcluster’, ‘fpc’, ‘flashClust’, ‘leaps’, ‘scatterplot3d’, ‘ggsci’, ‘cowplot’, ‘ggsignif’, ‘dendextend’, ‘FactoMineR’, ‘ggpubr’, ‘ggrepel’\n",
      "\n",
      "Updating HTML index of packages in '.Library'\n",
      "Making 'packages.html' ... done\n"
     ]
    }
   ],
   "source": [
    "install.packages(\"factoextra\")"
   ]
  },
  {
   "cell_type": "code",
   "execution_count": 10,
   "metadata": {},
   "outputs": [
    {
     "data": {
      "text/html": [
       "<table>\n",
       "<thead><tr><th></th><th scope=col>X</th><th scope=col>twp</th><th scope=col>rate_high_edu</th><th scope=col>rate_call_911</th><th scope=col>rate_emp</th><th scope=col>rate_Race_w</th><th scope=col>income</th></tr></thead>\n",
       "<tbody>\n",
       "\t<tr><th scope=row>NEW HANOVER</th><td>0               </td><td>NEW HANOVER     </td><td>0.3173947       </td><td>0.08200756      </td><td>0.5102400       </td><td>0.9141250       </td><td>31053.83        </td></tr>\n",
       "\t<tr><th scope=row>HATFIELD</th><td>1               </td><td>HATFIELD        </td><td>0.3133383       </td><td>0.13338322      </td><td>0.5547176       </td><td>0.7253468       </td><td>28370.42        </td></tr>\n",
       "\t<tr><th scope=row>NORRISTOWN</th><td>2               </td><td>NORRISTOWN      </td><td>0.1514128       </td><td>0.20512671      </td><td>0.4893679       </td><td>0.3495485       </td><td>16071.42        </td></tr>\n",
       "\t<tr><th scope=row>LOWER POTTSGROVE</th><td>3               </td><td>LOWER POTTSGROVE</td><td>0.2815189       </td><td>0.16429517      </td><td>0.5020682       </td><td>0.8520847       </td><td>29904.47        </td></tr>\n",
       "\t<tr><th scope=row>LANSDALE</th><td>4               </td><td>LANSDALE        </td><td>0.2783019       </td><td>0.12987013      </td><td>0.5162950       </td><td>0.7228620       </td><td>23601.85        </td></tr>\n",
       "\t<tr><th scope=row>HORSHAM</th><td>5               </td><td>HORSHAM         </td><td>0.3520987       </td><td>0.13312257      </td><td>0.5294431       </td><td>0.8570123       </td><td>31351.98        </td></tr>\n",
       "</tbody>\n",
       "</table>\n"
      ],
      "text/latex": [
       "\\begin{tabular}{r|lllllll}\n",
       "  & X & twp & rate\\_high\\_edu & rate\\_call\\_911 & rate\\_emp & rate\\_Race\\_w & income\\\\\n",
       "\\hline\n",
       "\tNEW HANOVER & 0                & NEW HANOVER      & 0.3173947        & 0.08200756       & 0.5102400        & 0.9141250        & 31053.83        \\\\\n",
       "\tHATFIELD & 1                & HATFIELD         & 0.3133383        & 0.13338322       & 0.5547176        & 0.7253468        & 28370.42        \\\\\n",
       "\tNORRISTOWN & 2                & NORRISTOWN       & 0.1514128        & 0.20512671       & 0.4893679        & 0.3495485        & 16071.42        \\\\\n",
       "\tLOWER POTTSGROVE & 3                & LOWER POTTSGROVE & 0.2815189        & 0.16429517       & 0.5020682        & 0.8520847        & 29904.47        \\\\\n",
       "\tLANSDALE & 4                & LANSDALE         & 0.2783019        & 0.12987013       & 0.5162950        & 0.7228620        & 23601.85        \\\\\n",
       "\tHORSHAM & 5                & HORSHAM          & 0.3520987        & 0.13312257       & 0.5294431        & 0.8570123        & 31351.98        \\\\\n",
       "\\end{tabular}\n"
      ],
      "text/markdown": [
       "\n",
       "| <!--/--> | X | twp | rate_high_edu | rate_call_911 | rate_emp | rate_Race_w | income | \n",
       "|---|---|---|---|---|---|\n",
       "| NEW HANOVER | 0                | NEW HANOVER      | 0.3173947        | 0.08200756       | 0.5102400        | 0.9141250        | 31053.83         | \n",
       "| HATFIELD | 1                | HATFIELD         | 0.3133383        | 0.13338322       | 0.5547176        | 0.7253468        | 28370.42         | \n",
       "| NORRISTOWN | 2                | NORRISTOWN       | 0.1514128        | 0.20512671       | 0.4893679        | 0.3495485        | 16071.42         | \n",
       "| LOWER POTTSGROVE | 3                | LOWER POTTSGROVE | 0.2815189        | 0.16429517       | 0.5020682        | 0.8520847        | 29904.47         | \n",
       "| LANSDALE | 4                | LANSDALE         | 0.2783019        | 0.12987013       | 0.5162950        | 0.7228620        | 23601.85         | \n",
       "| HORSHAM | 5                | HORSHAM          | 0.3520987        | 0.13312257       | 0.5294431        | 0.8570123        | 31351.98         | \n",
       "\n",
       "\n"
      ],
      "text/plain": [
       "                 X twp              rate_high_edu rate_call_911 rate_emp \n",
       "NEW HANOVER      0 NEW HANOVER      0.3173947     0.08200756    0.5102400\n",
       "HATFIELD         1 HATFIELD         0.3133383     0.13338322    0.5547176\n",
       "NORRISTOWN       2 NORRISTOWN       0.1514128     0.20512671    0.4893679\n",
       "LOWER POTTSGROVE 3 LOWER POTTSGROVE 0.2815189     0.16429517    0.5020682\n",
       "LANSDALE         4 LANSDALE         0.2783019     0.12987013    0.5162950\n",
       "HORSHAM          5 HORSHAM          0.3520987     0.13312257    0.5294431\n",
       "                 rate_Race_w income  \n",
       "NEW HANOVER      0.9141250   31053.83\n",
       "HATFIELD         0.7253468   28370.42\n",
       "NORRISTOWN       0.3495485   16071.42\n",
       "LOWER POTTSGROVE 0.8520847   29904.47\n",
       "LANSDALE         0.7228620   23601.85\n",
       "HORSHAM          0.8570123   31351.98"
      ]
     },
     "metadata": {},
     "output_type": "display_data"
    }
   ],
   "source": [
    "library(tidyverse)  # data manipulation\n",
    "library(cluster)    # clustering algorithms\n",
    "library(factoextra)\n",
    "library(dendextend)\n",
    "library(psych)\n",
    "\n",
    "\n",
    "calls = read.csv(file = \"911calls.csv\")\n",
    "row.names(calls) = calls$twp\n",
    "\n",
    "head(calls)"
   ]
  },
  {
   "cell_type": "code",
   "execution_count": 12,
   "metadata": {},
   "outputs": [
    {
     "data": {
      "text/html": [
       "<table>\n",
       "<thead><tr><th></th><th scope=col>twp</th><th scope=col>rate_high_edu</th><th scope=col>rate_call_911</th><th scope=col>rate_emp</th><th scope=col>rate_Race_w</th><th scope=col>income</th></tr></thead>\n",
       "<tbody>\n",
       "\t<tr><th scope=row>NEW HANOVER</th><td>NEW HANOVER     </td><td>0.3173947       </td><td>0.08200756      </td><td>0.5102400       </td><td>0.9141250       </td><td>31053.83        </td></tr>\n",
       "\t<tr><th scope=row>HATFIELD</th><td>HATFIELD        </td><td>0.3133383       </td><td>0.13338322      </td><td>0.5547176       </td><td>0.7253468       </td><td>28370.42        </td></tr>\n",
       "\t<tr><th scope=row>NORRISTOWN</th><td>NORRISTOWN      </td><td>0.1514128       </td><td>0.20512671      </td><td>0.4893679       </td><td>0.3495485       </td><td>16071.42        </td></tr>\n",
       "\t<tr><th scope=row>LOWER POTTSGROVE</th><td>LOWER POTTSGROVE</td><td>0.2815189       </td><td>0.16429517      </td><td>0.5020682       </td><td>0.8520847       </td><td>29904.47        </td></tr>\n",
       "\t<tr><th scope=row>LANSDALE</th><td>LANSDALE        </td><td>0.2783019       </td><td>0.12987013      </td><td>0.5162950       </td><td>0.7228620       </td><td>23601.85        </td></tr>\n",
       "\t<tr><th scope=row>HORSHAM</th><td>HORSHAM         </td><td>0.3520987       </td><td>0.13312257      </td><td>0.5294431       </td><td>0.8570123       </td><td>31351.98        </td></tr>\n",
       "</tbody>\n",
       "</table>\n"
      ],
      "text/latex": [
       "\\begin{tabular}{r|llllll}\n",
       "  & twp & rate\\_high\\_edu & rate\\_call\\_911 & rate\\_emp & rate\\_Race\\_w & income\\\\\n",
       "\\hline\n",
       "\tNEW HANOVER & NEW HANOVER      & 0.3173947        & 0.08200756       & 0.5102400        & 0.9141250        & 31053.83        \\\\\n",
       "\tHATFIELD & HATFIELD         & 0.3133383        & 0.13338322       & 0.5547176        & 0.7253468        & 28370.42        \\\\\n",
       "\tNORRISTOWN & NORRISTOWN       & 0.1514128        & 0.20512671       & 0.4893679        & 0.3495485        & 16071.42        \\\\\n",
       "\tLOWER POTTSGROVE & LOWER POTTSGROVE & 0.2815189        & 0.16429517       & 0.5020682        & 0.8520847        & 29904.47        \\\\\n",
       "\tLANSDALE & LANSDALE         & 0.2783019        & 0.12987013       & 0.5162950        & 0.7228620        & 23601.85        \\\\\n",
       "\tHORSHAM & HORSHAM          & 0.3520987        & 0.13312257       & 0.5294431        & 0.8570123        & 31351.98        \\\\\n",
       "\\end{tabular}\n"
      ],
      "text/markdown": [
       "\n",
       "| <!--/--> | twp | rate_high_edu | rate_call_911 | rate_emp | rate_Race_w | income | \n",
       "|---|---|---|---|---|---|\n",
       "| NEW HANOVER | NEW HANOVER      | 0.3173947        | 0.08200756       | 0.5102400        | 0.9141250        | 31053.83         | \n",
       "| HATFIELD | HATFIELD         | 0.3133383        | 0.13338322       | 0.5547176        | 0.7253468        | 28370.42         | \n",
       "| NORRISTOWN | NORRISTOWN       | 0.1514128        | 0.20512671       | 0.4893679        | 0.3495485        | 16071.42         | \n",
       "| LOWER POTTSGROVE | LOWER POTTSGROVE | 0.2815189        | 0.16429517       | 0.5020682        | 0.8520847        | 29904.47         | \n",
       "| LANSDALE | LANSDALE         | 0.2783019        | 0.12987013       | 0.5162950        | 0.7228620        | 23601.85         | \n",
       "| HORSHAM | HORSHAM          | 0.3520987        | 0.13312257       | 0.5294431        | 0.8570123        | 31351.98         | \n",
       "\n",
       "\n"
      ],
      "text/plain": [
       "                 twp              rate_high_edu rate_call_911 rate_emp \n",
       "NEW HANOVER      NEW HANOVER      0.3173947     0.08200756    0.5102400\n",
       "HATFIELD         HATFIELD         0.3133383     0.13338322    0.5547176\n",
       "NORRISTOWN       NORRISTOWN       0.1514128     0.20512671    0.4893679\n",
       "LOWER POTTSGROVE LOWER POTTSGROVE 0.2815189     0.16429517    0.5020682\n",
       "LANSDALE         LANSDALE         0.2783019     0.12987013    0.5162950\n",
       "HORSHAM          HORSHAM          0.3520987     0.13312257    0.5294431\n",
       "                 rate_Race_w income  \n",
       "NEW HANOVER      0.9141250   31053.83\n",
       "HATFIELD         0.7253468   28370.42\n",
       "NORRISTOWN       0.3495485   16071.42\n",
       "LOWER POTTSGROVE 0.8520847   29904.47\n",
       "LANSDALE         0.7228620   23601.85\n",
       "HORSHAM          0.8570123   31351.98"
      ]
     },
     "metadata": {},
     "output_type": "display_data"
    }
   ],
   "source": [
    "calls = calls[,-1]\n",
    "head(calls)"
   ]
  },
  {
   "cell_type": "markdown",
   "metadata": {},
   "source": [
    "## First, let's see how correlated are the variables among each other and specially with 911 calls"
   ]
  },
  {
   "cell_type": "code",
   "execution_count": 13,
   "metadata": {},
   "outputs": [
    {
     "ename": "ERROR",
     "evalue": "Error in cor(calls): 'x' must be numeric\n",
     "output_type": "error",
     "traceback": [
      "Error in cor(calls): 'x' must be numeric\nTraceback:\n",
      "1. cor(calls)",
      "2. stop(\"'x' must be numeric\")"
     ]
    }
   ],
   "source": [
    "round(cor(calls),4)\n",
    "pairs.panels(calls)"
   ]
  },
  {
   "cell_type": "code",
   "execution_count": 14,
   "metadata": {},
   "outputs": [
    {
     "ename": "ERROR",
     "evalue": "Error in as.matrix(x): object 'scaled_df' not found\n",
     "output_type": "error",
     "traceback": [
      "Error in as.matrix(x): object 'scaled_df' not found\nTraceback:\n",
      "1. get_dist(scaled_df)",
      "2. stats::dist(x, method = method, ...)",
      "3. as.matrix(x)"
     ]
    }
   ],
   "source": [
    "distance_calls <- get_dist(scaled_df)\n",
    "fviz_dist(distance_calls, gradient = list(low = \"#00AFBB\", mid = \"white\", high = \"#FC4E07\"))\n"
   ]
  },
  {
   "cell_type": "markdown",
   "metadata": {},
   "source": [
    "Let's start by examining the data using a PCA to see if we can use PCs in order to minimize the number of dimensions."
   ]
  },
  {
   "cell_type": "code",
   "execution_count": 15,
   "metadata": {},
   "outputs": [
    {
     "name": "stderr",
     "output_type": "stream",
     "text": [
      "Warning message in FUN(newX[, i], ...):\n",
      "“NAs introduced by coercion”"
     ]
    },
    {
     "data": {
      "text/html": [
       "<dl class=dl-horizontal>\n",
       "\t<dt>twp</dt>\n",
       "\t\t<dd>NA</dd>\n",
       "\t<dt>rate_high_edu</dt>\n",
       "\t\t<dd>0.00947030889825298</dd>\n",
       "\t<dt>rate_call_911</dt>\n",
       "\t\t<dd>0.00666371936315436</dd>\n",
       "\t<dt>rate_emp</dt>\n",
       "\t\t<dd>0.002567471929867</dd>\n",
       "\t<dt>rate_Race_w</dt>\n",
       "\t\t<dd>0.0141898960399883</dd>\n",
       "\t<dt>income</dt>\n",
       "\t\t<dd>42471898.8629148</dd>\n",
       "</dl>\n"
      ],
      "text/latex": [
       "\\begin{description*}\n",
       "\\item[twp] NA\n",
       "\\item[rate\\textbackslash{}\\_high\\textbackslash{}\\_edu] 0.00947030889825298\n",
       "\\item[rate\\textbackslash{}\\_call\\textbackslash{}\\_911] 0.00666371936315436\n",
       "\\item[rate\\textbackslash{}\\_emp] 0.002567471929867\n",
       "\\item[rate\\textbackslash{}\\_Race\\textbackslash{}\\_w] 0.0141898960399883\n",
       "\\item[income] 42471898.8629148\n",
       "\\end{description*}\n"
      ],
      "text/markdown": [
       "twp\n",
       ":   NArate_high_edu\n",
       ":   0.00947030889825298rate_call_911\n",
       ":   0.00666371936315436rate_emp\n",
       ":   0.002567471929867rate_Race_w\n",
       ":   0.0141898960399883income\n",
       ":   42471898.8629148\n",
       "\n"
      ],
      "text/plain": [
       "          twp rate_high_edu rate_call_911      rate_emp   rate_Race_w \n",
       "           NA  9.470309e-03  6.663719e-03  2.567472e-03  1.418990e-02 \n",
       "       income \n",
       " 4.247190e+07 "
      ]
     },
     "metadata": {},
     "output_type": "display_data"
    },
    {
     "ename": "ERROR",
     "evalue": "Error in colMeans(x, na.rm = TRUE): 'x' must be numeric\n",
     "output_type": "error",
     "traceback": [
      "Error in colMeans(x, na.rm = TRUE): 'x' must be numeric\nTraceback:\n",
      "1. apply(calls, 2, scale)",
      "2. FUN(newX[, i], ...)",
      "3. scale.default(newX[, i], ...)",
      "4. colMeans(x, na.rm = TRUE)"
     ]
    }
   ],
   "source": [
    "####PCA###\n",
    "apply(calls, 2, var)\n",
    "scaled_df <- apply(calls, 2, scale)\n",
    "head(scaled_df)\n",
    "row.names(scaled_df) = row.names(calls)\n",
    "glimpse(scaled_df)"
   ]
  },
  {
   "cell_type": "code",
   "execution_count": null,
   "metadata": {},
   "outputs": [],
   "source": [
    "round(cor(scaled_df),4)\n",
    "pairs.panels(scaled_df)"
   ]
  },
  {
   "cell_type": "code",
   "execution_count": null,
   "metadata": {
    "collapsed": true
   },
   "outputs": [],
   "source": [
    "##Should we eliminate this outlier??"
   ]
  },
  {
   "cell_type": "code",
   "execution_count": null,
   "metadata": {},
   "outputs": [],
   "source": [
    "arrests.cov <- cov(scaled_df)\n",
    "arrests.eigen <- eigen(arrests.cov)\n",
    "str(arrests.eigen)\n",
    "\n",
    "(phi <- arrests.eigen$vectors[,1:4])\n",
    "\n",
    "phi <- -phi\n",
    "row.names(phi) <- c(\"rate_high_edu\", \"rate_call_911\", \"rate_emp\", \"rate_Race_w\", \"income\")\n",
    "colnames(phi) <- c(\"PC1\", \"PC2\",\"PC3\",\"PC4\")\n",
    "phi\n",
    "\n",
    "PC1 <- as.matrix(scaled_df) %*% phi[,1]\n",
    "PC2 <- as.matrix(scaled_df) %*% phi[,2]\n",
    "PC3 <- as.matrix(scaled_df) %*% phi[,3]\n",
    "PC4 <- as.matrix(scaled_df) %*% phi[,4]\n",
    "\n",
    "# Create data frame with Principal Components scores\n",
    "PC <- data.frame(State = row.names(scaled_df), PC1, PC2, PC3, PC4)\n",
    "head(PC)\n",
    "\n",
    "ggplot(PC, aes(PC1, PC2)) + \n",
    "  modelr::geom_ref_line(h = 0) +\n",
    "  modelr::geom_ref_line(v = 0) +\n",
    "  geom_point() +\n",
    "  #geom_text(aes(label = State), size = 3) +\n",
    "  xlab(\"First Principal Component\") + \n",
    "  ylab(\"Second Principal Component\") + \n",
    "  ggtitle(\"First Two Principal Components of USArrests Data\")\n"
   ]
  },
  {
   "cell_type": "code",
   "execution_count": null,
   "metadata": {},
   "outputs": [],
   "source": [
    "PVE <- arrests.eigen$values / sum(arrests.eigen$values)\n",
    "round(PVE, 2)"
   ]
  },
  {
   "cell_type": "code",
   "execution_count": null,
   "metadata": {},
   "outputs": [],
   "source": [
    "pca_result <- prcomp(scaled_df, scale = TRUE)\n",
    "names(pca_result)"
   ]
  },
  {
   "cell_type": "code",
   "execution_count": null,
   "metadata": {},
   "outputs": [],
   "source": [
    "pca_result$x <- - pca_result$x\n",
    "head(pca_result$x)\n",
    "\n",
    "biplot(pca_result, scale = 0, cex = 0.5)"
   ]
  },
  {
   "cell_type": "markdown",
   "metadata": {},
   "source": [
    "## Let's use the k-means technique to split the data based on similarities accross variables"
   ]
  },
  {
   "cell_type": "code",
   "execution_count": null,
   "metadata": {},
   "outputs": [],
   "source": [
    "###K-Means###\n",
    "\n",
    "k3 <- kmeans(scaled_df, centers = 4, nstart = 25)\n",
    "k3$cluster\n",
    "PC$Kmeans = k3$cluster\n",
    "PC$Kmeans = as.factor(PC$Kmeans)\n",
    "clusters_one = PC[PC$Kmeans == 1,] \n",
    "clusters_two = PC[PC$Kmeans == 2,] \n",
    "clusters_three = PC[PC$Kmeans == 3,] \n",
    "clusters_four = PC[PC$Kmeans == 4,] \n",
    "\n",
    "\n"
   ]
  },
  {
   "cell_type": "code",
   "execution_count": null,
   "metadata": {},
   "outputs": [],
   "source": [
    "ggplot(PC, aes(PC1, PC2,color = Kmeans)) + \n",
    "  modelr::geom_ref_line(h = 0) +\n",
    "  modelr::geom_ref_line(v = 0) +\n",
    "  geom_point() +\n",
    "  #geom_text(aes(label = State), size = 3) +\n",
    "  xlab(\"First Principal Component\") + \n",
    "  ylab(\"Second Principal Component\") + \n",
    "  ggtitle(\"First Two Principal Components of 911 call rates Montgomery County Pennsylvania\")"
   ]
  },
  {
   "cell_type": "code",
   "execution_count": null,
   "metadata": {},
   "outputs": [],
   "source": [
    "scaled_df_K = cbind(scaled_df,PC$Kmeans)\n",
    "scaled_df_K = as.data.frame(scaled_df_K)\n",
    "\n",
    "\n",
    "high = scaled_df_K[scaled_df_K$V6==1,]\n",
    "high = high[,1:5]\n",
    "round(cor(high),4)\n",
    "pairs.panels(high)\n",
    "\n"
   ]
  },
  {
   "cell_type": "code",
   "execution_count": null,
   "metadata": {},
   "outputs": [],
   "source": [
    "Low = scaled_df_K[scaled_df_K$V6==3,]\n",
    "Low = Low[,1:5]\n",
    "round(cor(Low),4)\n",
    "pairs.panels(Low)"
   ]
  },
  {
   "cell_type": "code",
   "execution_count": null,
   "metadata": {},
   "outputs": [],
   "source": [
    "mid = scaled_df_K[scaled_df_K$V6==4,]\n",
    "mid = mid[,1:5]\n",
    "round(cor(mid),4)\n",
    "pairs.panels(mid)"
   ]
  },
  {
   "cell_type": "markdown",
   "metadata": {},
   "source": [
    "## Finally, let's compare the k-means approach to the hierarchichal clustering approach"
   ]
  },
  {
   "cell_type": "code",
   "execution_count": null,
   "metadata": {},
   "outputs": [],
   "source": [
    "##Hierarchical Clustering\n",
    "\n",
    "# Dissimilarity matrix\n",
    "d <- dist(scaled_df, method = \"euclidean\")\n",
    "\n",
    "# Hierarchical clustering using Complete Linkage\n",
    "hc1 <- hclust(d, method = \"complete\" )\n",
    "\n",
    "# Plot the obtained dendrogram\n",
    "plot(hc1, cex = 0.6, hang = -1)"
   ]
  },
  {
   "cell_type": "code",
   "execution_count": null,
   "metadata": {},
   "outputs": [],
   "source": [
    "# methods to assess\n",
    "m <- c( \"average\", \"single\", \"complete\", \"ward\")\n",
    "names(m) <- c( \"average\", \"single\", \"complete\", \"ward\")\n",
    "\n",
    "# function to compute coefficient\n",
    "ac <- function(x) {\n",
    "  agnes(scaled_df, method = x)$ac\n",
    "}\n",
    "\n",
    "map_dbl(m, ac)"
   ]
  },
  {
   "cell_type": "code",
   "execution_count": null,
   "metadata": {},
   "outputs": [],
   "source": [
    "hc3 <- agnes(scaled_df, method = \"ward\")\n",
    "pltree(hc3, cex = 0.6, hang = -1, main = \"Dendrogram of agnes\") "
   ]
  },
  {
   "cell_type": "code",
   "execution_count": null,
   "metadata": {},
   "outputs": [],
   "source": [
    "pltree(hc3, cex = 0.6, hang = -1, main = \"Dendrogram of agnes\")\n",
    "rect.hclust(hc3, k = 5)"
   ]
  },
  {
   "cell_type": "code",
   "execution_count": null,
   "metadata": {},
   "outputs": [],
   "source": [
    "row.names(Low)"
   ]
  },
  {
   "cell_type": "code",
   "execution_count": null,
   "metadata": {},
   "outputs": [],
   "source": [
    "row.names(high)"
   ]
  },
  {
   "cell_type": "code",
   "execution_count": null,
   "metadata": {},
   "outputs": [],
   "source": [
    "row.names(mid)"
   ]
  },
  {
   "cell_type": "code",
   "execution_count": null,
   "metadata": {},
   "outputs": [],
   "source": [
    "fviz_cluster(list(data = scaled_df_K, cluster = scaled_df_K$V6))"
   ]
  },
  {
   "cell_type": "code",
   "execution_count": null,
   "metadata": {},
   "outputs": [],
   "source": [
    "fviz_nbclust(scaled_df, FUN = hcut, method = \"wss\")"
   ]
  },
  {
   "cell_type": "code",
   "execution_count": null,
   "metadata": {
    "collapsed": true
   },
   "outputs": [],
   "source": []
  }
 ],
 "metadata": {
  "kernelspec": {
   "display_name": "R",
   "language": "R",
   "name": "ir"
  },
  "language_info": {
   "codemirror_mode": "r",
   "file_extension": ".r",
   "mimetype": "text/x-r-source",
   "name": "R",
   "pygments_lexer": "r",
   "version": "3.3.2"
  }
 },
 "nbformat": 4,
 "nbformat_minor": 2
}
