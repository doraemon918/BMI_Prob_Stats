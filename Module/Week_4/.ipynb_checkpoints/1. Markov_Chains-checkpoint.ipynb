{
 "cells": [
  {
   "cell_type": "markdown",
   "metadata": {},
   "source": [
    "## Markov Chains"
   ]
  },
  {
   "cell_type": "markdown",
   "metadata": {},
   "source": [
    "## Definition\n",
    "\n",
    "Mathematical systems that hop from one state to another, this system is an stochastic process as it is based on conditional probabilities that change on a temporal matter\n",
    "\n",
    "Each set state is temporally fixed but it can change from one time to the next, moreover, the outcome of one trial could affect the outcome of the next trial.\n"
   ]
  },
  {
   "cell_type": "markdown",
   "metadata": {
    "collapsed": true
   },
   "source": [
    "### State space\n",
    "\n",
    "In markov chains you use multiple states of one or multiple variable, lets define the state space as S \n",
    "\n",
    "S = {s1, s2, s3}\n",
    "\n",
    "Examples of state spaces\n",
    "\n",
    "Wheather={rain, sunny, cloudy, storm, snow, etc...}\n",
    "\n",
    "mood={happy, sad, angry, etc...}\n",
    "\n",
    "nucleotide frequency = {a,g,c,t}\n",
    "\n",
    "page rank (Google) ={search categories....}"
   ]
  },
  {
   "cell_type": "markdown",
   "metadata": {},
   "source": [
    "### Transition\n",
    "\n",
    "The state space then moves from one event to the next, we define this as an *step*\n",
    "\n",
    "The chain will move from $s_i$ to $s_j$ with a probability $p_ij$, independently to which state the chain was before.\n",
    "\n",
    "This probability is called a *transition probability*\n",
    "\n",
    "We define an initial starting state as our start point from there the chain moves stochastically to the subsequent steps."
   ]
  },
  {
   "cell_type": "markdown",
   "metadata": {},
   "source": [
    "Example (taken from Introduction to Probability Grinstead and Snell):\n",
    "\n",
    "In the Land of Oz weather is very hard to predict. They never have two nice days in a row. If they have a nice day, they are just as likely to have snow as rain the next day. If they have snow or rain, they have an even chance of having the same the next day. If there is change from snow or rain, only half of the time is this a change to a nice day. \n",
    "\n",
    "Based on this information lets form a Markov chain: \n",
    "\n",
    "- a. lets define the state space\n",
    "    - S = {Rain, Nice, Snow} or\n",
    "    - S = {R, N, S}\n",
    "\n",
    "\n",
    "- b. Create a transition matrix using the transition probabilities\n",
    "\n",
    "    - From the above information we determine the transition probabilities. These are most conveniently represented in a square array as a **transition matrix**\n"
   ]
  },
  {
   "cell_type": "markdown",
   "metadata": {},
   "source": [
    "\n",
    "## Transition matrix\n",
    "\n",
    "\\begin{array}{cc}\n",
    "&&& R & N &  S \\\\\n",
    "\\end{array}\n",
    "\\begin{equation*}\n",
    "P  =  \\begin{array}{cc}\n",
    "R \\\\\n",
    "N \\\\\n",
    "S \\\\\n",
    "\\end{array}\n",
    "\\begin{pmatrix}\n",
    "\\frac{1}{2}       & \\frac{1}{4} & \\frac{1}{4}  \\\\\n",
    "\\frac{1}{2}       & 0 & \\frac{1}{2}   \\\\\n",
    "\\frac{1}{4}       & \\frac{1}{4} & \\frac{1}{2} \n",
    "\\end{pmatrix}\n",
    "\\end{equation*}\n",
    "\n",
    "The left side of the matrix represent the present (current) and the top represent the probability to the next steps: for example\n",
    "the first row shows the probabilities for different events following Rain\n"
   ]
  },
  {
   "cell_type": "markdown",
   "metadata": {},
   "source": [
    "### Initial state (probability vector):\n",
    "\n",
    "We can generate a vector of probabilities that represent the initial state $S_0$, for example if we want to state that today we are having a nice day, we can generate a vector in the form\n",
    "\n",
    "$S_0$ = [0,1,0] where\n",
    "\n",
    "${\\sum_{j\\in S} P_j = 1}$\n",
    "\n",
    "We can also represent our initial state the initial probabilities for today's weather, if we want to represent that there is a 50% for a nice day and equal changes of rain or snow we can represent our initial state as:\n",
    "\n",
    "$S_0$ = [0.25,0,50,0.25]\n"
   ]
  },
  {
   "cell_type": "markdown",
   "metadata": {},
   "source": [
    "### Chain prediction\n",
    "\n",
    "Once we have the initial state and our transition matrix, then we can ask the long term behavior for each state based on our initial probability vector.\n",
    "\n",
    "Let P be the transition matrix of a Markov chain, and let u be the probability vector which represents the starting distribution. Then the probability that the chain is in state $s_i$ after n steps is the ith entry in the vector\n",
    "\n",
    "Eq. 1                                         $(u)^n = uP^n$                  \n",
    "\n",
    "Example,\n",
    "\n",
    "From our previous example, lets use our initial state $S_0$ = [0.25,0,50,0.25]\n",
    "\n",
    "using our equation 1 we want to ask what are the distribution of probabilities after 3 days \n",
    "\n",
    "$uP^3 = [0.25,0.50,0.25] * \\begin{pmatrix}\n",
    "0.5       & 0.25 & 0.25  \\\\\n",
    "0.5       & 0 & 0.5   \\\\\n",
    "0.25       & 0.25 & 0.5 \n",
    "\\end{pmatrix}^3$\n",
    "\n",
    "$$ uP^3 = [0.40625,\t0.1875,\t0.40625] $$"
   ]
  },
  {
   "cell_type": "markdown",
   "metadata": {},
   "source": [
    "### There obviously packages for markov chains in R\n",
    "\n",
    "#### e.g. package markovchain [https://cran.r-project.org/web/packages/markovchain/vignettes/an_introduction_to_markovchain_package.pdf](https://cran.r-project.org/web/packages/markovchain/vignettes/an_introduction_to_markovchain_package.pdf)"
   ]
  },
  {
   "cell_type": "code",
   "execution_count": 1,
   "metadata": {},
   "outputs": [
    {
     "name": "stderr",
     "output_type": "stream",
     "text": [
      "Package:  markovchain\n",
      "Version:  0.6.9.8-1\n",
      "Date:     2017-08-15\n",
      "BugReport: http://github.com/spedygiorgio/markovchain/issues\n",
      "\n"
     ]
    }
   ],
   "source": [
    "library(markovchain)\n",
    "\n",
    "#Lets define our states\n",
    "weatherStates <- c(\"Rain\", \"Nice\", \"Snow\")\n",
    "byRow <- TRUE\n",
    "\n",
    "##lets create the transitional matrix\n",
    "weatherMatrix <- matrix(data = c(0.5, 0.25, 0.25,\n",
    "                                 0.5, 0.0, 0.5,\n",
    "                                 0.25, 0.25, 0.5), byrow = byRow, nrow = 3,\n",
    "                        dimnames = list(weatherStates, weatherStates))\n",
    "\n",
    "##make the matrix a markovchain class\n",
    "mcWeather <- new(\"markovchain\", states = weatherStates, byrow = byRow,\n",
    "                 transitionMatrix = weatherMatrix, name = \"Weather\")\n",
    "\n",
    "##define the initial state\n",
    "initialState <- c(0, 1, 0)\n",
    "\n"
   ]
  },
  {
   "cell_type": "code",
   "execution_count": 2,
   "metadata": {},
   "outputs": [
    {
     "data": {
      "text/html": [
       "<table>\n",
       "<thead><tr><th></th><th scope=col>Rain</th><th scope=col>Nice</th><th scope=col>Snow</th></tr></thead>\n",
       "<tbody>\n",
       "\t<tr><th scope=row>Rain</th><td>0.50</td><td>0.25</td><td>0.25</td></tr>\n",
       "\t<tr><th scope=row>Nice</th><td>0.50</td><td>0.00</td><td>0.50</td></tr>\n",
       "\t<tr><th scope=row>Snow</th><td>0.25</td><td>0.25</td><td>0.50</td></tr>\n",
       "</tbody>\n",
       "</table>\n"
      ],
      "text/latex": [
       "\\begin{tabular}{r|lll}\n",
       "  & Rain & Nice & Snow\\\\\n",
       "\\hline\n",
       "\tRain & 0.50 & 0.25 & 0.25\\\\\n",
       "\tNice & 0.50 & 0.00 & 0.50\\\\\n",
       "\tSnow & 0.25 & 0.25 & 0.50\\\\\n",
       "\\end{tabular}\n"
      ],
      "text/markdown": [
       "\n",
       "| <!--/--> | Rain | Nice | Snow | \n",
       "|---|---|---|\n",
       "| Rain | 0.50 | 0.25 | 0.25 | \n",
       "| Nice | 0.50 | 0.00 | 0.50 | \n",
       "| Snow | 0.25 | 0.25 | 0.50 | \n",
       "\n",
       "\n"
      ],
      "text/plain": [
       "     Rain Nice Snow\n",
       "Rain 0.50 0.25 0.25\n",
       "Nice 0.50 0.00 0.50\n",
       "Snow 0.25 0.25 0.50"
      ]
     },
     "metadata": {},
     "output_type": "display_data"
    }
   ],
   "source": [
    "weatherMatrix"
   ]
  },
  {
   "cell_type": "code",
   "execution_count": 3,
   "metadata": {},
   "outputs": [
    {
     "data": {
      "text/plain": [
       "Weather \n",
       " A  3 - dimensional discrete Markov Chain defined by the following states: \n",
       " Rain, Nice, Snow \n",
       " The transition matrix  (by rows)  is defined as follows: \n",
       "     Rain Nice Snow\n",
       "Rain 0.50 0.25 0.25\n",
       "Nice 0.50 0.00 0.50\n",
       "Snow 0.25 0.25 0.50\n"
      ]
     },
     "metadata": {},
     "output_type": "display_data"
    }
   ],
   "source": [
    "mcWeather"
   ]
  },
  {
   "cell_type": "code",
   "execution_count": 4,
   "metadata": {},
   "outputs": [
    {
     "data": {
      "text/plain": [
       "Weather^3 \n",
       " A  3 - dimensional discrete Markov Chain defined by the following states: \n",
       " Rain, Nice, Snow \n",
       " The transition matrix  (by rows)  is defined as follows: \n",
       "         Rain     Nice     Snow\n",
       "Rain 0.406250 0.203125 0.390625\n",
       "Nice 0.406250 0.187500 0.406250\n",
       "Snow 0.390625 0.203125 0.406250\n"
      ]
     },
     "metadata": {},
     "output_type": "display_data"
    }
   ],
   "source": [
    "##State of probabilities after 3 days\n",
    "mcWeather ^3"
   ]
  },
  {
   "cell_type": "code",
   "execution_count": 5,
   "metadata": {},
   "outputs": [
    {
     "data": {
      "text/html": [
       "<table>\n",
       "<thead><tr><th scope=col>Rain</th><th scope=col>Nice</th><th scope=col>Snow</th></tr></thead>\n",
       "<tbody>\n",
       "\t<tr><td>0.40625</td><td>0.1875 </td><td>0.40625</td></tr>\n",
       "</tbody>\n",
       "</table>\n"
      ],
      "text/latex": [
       "\\begin{tabular}{lll}\n",
       " Rain & Nice & Snow\\\\\n",
       "\\hline\n",
       "\t 0.40625 & 0.1875  & 0.40625\\\\\n",
       "\\end{tabular}\n"
      ],
      "text/markdown": [
       "\n",
       "Rain | Nice | Snow | \n",
       "|---|\n",
       "| 0.40625 | 0.1875  | 0.40625 | \n",
       "\n",
       "\n"
      ],
      "text/plain": [
       "     Rain    Nice   Snow   \n",
       "[1,] 0.40625 0.1875 0.40625"
      ]
     },
     "metadata": {},
     "output_type": "display_data"
    }
   ],
   "source": [
    "after3Days <- initialState * (mcWeather ^3)\n",
    "after3Days"
   ]
  },
  {
   "cell_type": "code",
   "execution_count": 6,
   "metadata": {},
   "outputs": [
    {
     "data": {
      "image/png": "[encoded data removed]",
      "text/plain": [
       "Plot with title “”"
      ]
     },
     "metadata": {},
     "output_type": "display_data"
    }
   ],
   "source": [
    "plot(mcWeather)"
   ]
  },
  {
   "cell_type": "code",
   "execution_count": null,
   "metadata": {},
   "outputs": [],
   "source": []
  },
  {
   "cell_type": "markdown",
   "metadata": {},
   "source": [
    "Multiple applications msm, mcmc, mcmcmc, hidden markov chains"
   ]
  },
  {
   "cell_type": "markdown",
   "metadata": {},
   "source": [
    "### Random Walks\n",
    "\n",
    "Drunkard's walk example\n",
    "\n",
    "Consider a completely drunk person who walks along a street. being drunk, he has no sense of direction. So he may move forwards with equal probability that he moves backwards.\n",
    "\n",
    "The person walks along a four-block stretch of Park Avenue. If he is at corner 1, 2, or 3, then he walks to the left or right with equal probability. He continues until he reaches corner 4, which is a bar, or corner 0, which is his home. If he reaches either home or the bar, he stays there.\n",
    "\n",
    "![title](drunkard’s_walk.png)"
   ]
  },
  {
   "cell_type": "markdown",
   "metadata": {},
   "source": [
    "![title](diagram.png)"
   ]
  },
  {
   "cell_type": "markdown",
   "metadata": {},
   "source": [
    "What is the Transition Matrix?\n",
    "\n",
    "$$P =\n",
    "\\begin{pmatrix}\n",
    "0 & 0 & 0 & 0 & 0  \\\\\n",
    "0 & 0 & 0 & 0 & 0  \\\\\n",
    "0 & 0 & 0 & 0 & 0  \\\\\n",
    "0 & 0 & 0 & 0 & 0  \\\\\n",
    "0 & 0 & 0 & 0 & 0  \n",
    "\\end{pmatrix}$$"
   ]
  },
  {
   "cell_type": "markdown",
   "metadata": {},
   "source": [
    "#### Lets create a function that allows us to simulate this random walk based on the conditional probabilities from the transition matrix"
   ]
  },
  {
   "cell_type": "code",
   "execution_count": null,
   "metadata": {},
   "outputs": [],
   "source": []
  },
  {
   "cell_type": "markdown",
   "metadata": {},
   "source": [
    "Exercise:\n",
    "\n",
    "Another simpler example of a random walk is a one-dimensional random walk. first we place a marker at zero (our initial state), we flip a coin, if it lands on heads, the marker is moved one unit to the right (1), if it lands on tails it is moved one unit to the left.\n",
    "\n",
    "1. Generate a function that randomly draws from our initial state and populates a vector with the different transitions.\n",
    "2. Generate a plot that shows 500 independent one-dimensional walks, differentiating walks that end above 0 or below 0. "
   ]
  },
  {
   "cell_type": "code",
   "execution_count": null,
   "metadata": {
    "collapsed": true
   },
   "outputs": [],
   "source": []
  }
 ],
 "metadata": {
  "kernelspec": {
   "display_name": "R",
   "language": "R",
   "name": "ir"
  },
  "language_info": {
   "codemirror_mode": "r",
   "file_extension": ".r",
   "mimetype": "text/x-r-source",
   "name": "R",
   "pygments_lexer": "r",
   "version": "3.3.2"
  }
 },
 "nbformat": 4,
 "nbformat_minor": 2
}
