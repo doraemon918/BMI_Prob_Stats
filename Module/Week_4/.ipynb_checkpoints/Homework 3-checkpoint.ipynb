{
 "cells": [
  {
   "cell_type": "markdown",
   "metadata": {},
   "source": [
    "## Homework 3"
   ]
  },
  {
   "cell_type": "markdown",
   "metadata": {},
   "source": [
    "##### 1. \n",
    "let’s assume that two candidates are running in an election for Governor of California. This fictitious election pits Mr. Gubinator vs. Mr. Ventura. We would like to know who is winning the race, and therefore we conduct a poll of likely voters in California. If the poll gives the voters a choice between the two candidates, then the results can be reasonably modeled with the Binomial Distribution. States polls indicate that 62% of the population intend to vote for Mr. Gubinator.\n",
    "\n",
    "\n",
    "Calculate the binomial probabilities, and CF (confidence interval):\n",
    "\n",
    "a. in a random sample of 50 we find 10 likely voters\n",
    "b. in a random sample of 50 we find at least 3 likely voters\n",
    "c. What is the average and standard deviation of the number of voters that we will find in our random sample?\n",
    "d. plot the PMF and CMF from this random sample"
   ]
  },
  {
   "cell_type": "code",
   "execution_count": 8,
   "metadata": {},
   "outputs": [],
   "source": [
    "#install.packages(\"markovchain\")\n",
    "library(binom)"
   ]
  },
  {
   "cell_type": "code",
   "execution_count": null,
   "metadata": {},
   "outputs": [],
   "source": []
  },
  {
   "cell_type": "code",
   "execution_count": 9,
   "metadata": {},
   "outputs": [
    {
     "data": {
      "text/html": [
       "'a'"
      ],
      "text/latex": [
       "'a'"
      ],
      "text/markdown": [
       "'a'"
      ],
      "text/plain": [
       "[1] \"a\""
      ]
     },
     "metadata": {},
     "output_type": "display_data"
    },
    {
     "data": {
      "text/html": [
       "1.33945315982445e-09"
      ],
      "text/latex": [
       "1.33945315982445e-09"
      ],
      "text/markdown": [
       "1.33945315982445e-09"
      ],
      "text/plain": [
       "[1] 1.339453e-09"
      ]
     },
     "metadata": {},
     "output_type": "display_data"
    },
    {
     "data": {
      "text/html": [
       "'b'"
      ],
      "text/latex": [
       "'b'"
      ],
      "text/markdown": [
       "'b'"
      ],
      "text/plain": [
       "[1] \"b\""
      ]
     },
     "metadata": {},
     "output_type": "display_data"
    },
    {
     "data": {
      "text/html": [
       "1"
      ],
      "text/latex": [
       "1"
      ],
      "text/markdown": [
       "1"
      ],
      "text/plain": [
       "[1] 1"
      ]
     },
     "metadata": {},
     "output_type": "display_data"
    }
   ],
   "source": [
    "'a'\n",
    "\n",
    "a<-dbinom(10,50,0.62)\n",
    "a\n",
    "\n",
    "'b'\n",
    "b<-(1-pbinom(3,50,0.62))\n",
    "b"
   ]
  },
  {
   "cell_type": "code",
   "execution_count": 10,
   "metadata": {},
   "outputs": [
    {
     "data": {
      "text/html": [
       "'c'"
      ],
      "text/latex": [
       "'c'"
      ],
      "text/markdown": [
       "'c'"
      ],
      "text/plain": [
       "[1] \"c\""
      ]
     },
     "metadata": {},
     "output_type": "display_data"
    },
    {
     "data": {
      "text/html": [
       "<table>\n",
       "<thead><tr><th scope=col>method</th><th scope=col>x</th><th scope=col>n</th><th scope=col>mean</th><th scope=col>lower</th><th scope=col>upper</th></tr></thead>\n",
       "<tbody>\n",
       "\t<tr><td>agresti-coull</td><td>10           </td><td>50           </td><td>0.2000000    </td><td>0.11050245   </td><td>0.3323061    </td></tr>\n",
       "\t<tr><td>asymptotic   </td><td>10           </td><td>50           </td><td>0.2000000    </td><td>0.08912769   </td><td>0.3108723    </td></tr>\n",
       "\t<tr><td>bayes        </td><td>10           </td><td>50           </td><td>0.2058824    </td><td>0.10116836   </td><td>0.3171207    </td></tr>\n",
       "\t<tr><td>cloglog      </td><td>10           </td><td>50           </td><td>0.2000000    </td><td>0.10318339   </td><td>0.3196686    </td></tr>\n",
       "\t<tr><td>exact        </td><td>10           </td><td>50           </td><td>0.2000000    </td><td>0.10030224   </td><td>0.3371831    </td></tr>\n",
       "\t<tr><td>logit        </td><td>10           </td><td>50           </td><td>0.2000000    </td><td>0.11113040   </td><td>0.3332899    </td></tr>\n",
       "\t<tr><td>probit       </td><td>10           </td><td>50           </td><td>0.2000000    </td><td>0.10792338   </td><td>0.3279450    </td></tr>\n",
       "\t<tr><td>profile      </td><td>10           </td><td>50           </td><td>0.2000000    </td><td>0.10570710   </td><td>0.3242950    </td></tr>\n",
       "\t<tr><td>lrt          </td><td>10           </td><td>50           </td><td>0.2000000    </td><td>0.10568422   </td><td>0.3242911    </td></tr>\n",
       "\t<tr><td>prop.test    </td><td>10           </td><td>50           </td><td>0.2000000    </td><td>0.10502158   </td><td>0.3414368    </td></tr>\n",
       "\t<tr><td>wilson       </td><td>10           </td><td>50           </td><td>0.2000000    </td><td>0.11243750   </td><td>0.3303711    </td></tr>\n",
       "</tbody>\n",
       "</table>\n"
      ],
      "text/latex": [
       "\\begin{tabular}{r|llllll}\n",
       " method & x & n & mean & lower & upper\\\\\n",
       "\\hline\n",
       "\t agresti-coull & 10            & 50            & 0.2000000     & 0.11050245    & 0.3323061    \\\\\n",
       "\t asymptotic    & 10            & 50            & 0.2000000     & 0.08912769    & 0.3108723    \\\\\n",
       "\t bayes         & 10            & 50            & 0.2058824     & 0.10116836    & 0.3171207    \\\\\n",
       "\t cloglog       & 10            & 50            & 0.2000000     & 0.10318339    & 0.3196686    \\\\\n",
       "\t exact         & 10            & 50            & 0.2000000     & 0.10030224    & 0.3371831    \\\\\n",
       "\t logit         & 10            & 50            & 0.2000000     & 0.11113040    & 0.3332899    \\\\\n",
       "\t probit        & 10            & 50            & 0.2000000     & 0.10792338    & 0.3279450    \\\\\n",
       "\t profile       & 10            & 50            & 0.2000000     & 0.10570710    & 0.3242950    \\\\\n",
       "\t lrt           & 10            & 50            & 0.2000000     & 0.10568422    & 0.3242911    \\\\\n",
       "\t prop.test     & 10            & 50            & 0.2000000     & 0.10502158    & 0.3414368    \\\\\n",
       "\t wilson        & 10            & 50            & 0.2000000     & 0.11243750    & 0.3303711    \\\\\n",
       "\\end{tabular}\n"
      ],
      "text/markdown": [
       "\n",
       "method | x | n | mean | lower | upper | \n",
       "|---|---|---|---|---|---|---|---|---|---|---|\n",
       "| agresti-coull | 10            | 50            | 0.2000000     | 0.11050245    | 0.3323061     | \n",
       "| asymptotic    | 10            | 50            | 0.2000000     | 0.08912769    | 0.3108723     | \n",
       "| bayes         | 10            | 50            | 0.2058824     | 0.10116836    | 0.3171207     | \n",
       "| cloglog       | 10            | 50            | 0.2000000     | 0.10318339    | 0.3196686     | \n",
       "| exact         | 10            | 50            | 0.2000000     | 0.10030224    | 0.3371831     | \n",
       "| logit         | 10            | 50            | 0.2000000     | 0.11113040    | 0.3332899     | \n",
       "| probit        | 10            | 50            | 0.2000000     | 0.10792338    | 0.3279450     | \n",
       "| profile       | 10            | 50            | 0.2000000     | 0.10570710    | 0.3242950     | \n",
       "| lrt           | 10            | 50            | 0.2000000     | 0.10568422    | 0.3242911     | \n",
       "| prop.test     | 10            | 50            | 0.2000000     | 0.10502158    | 0.3414368     | \n",
       "| wilson        | 10            | 50            | 0.2000000     | 0.11243750    | 0.3303711     | \n",
       "\n",
       "\n"
      ],
      "text/plain": [
       "   method        x  n  mean      lower      upper    \n",
       "1  agresti-coull 10 50 0.2000000 0.11050245 0.3323061\n",
       "2  asymptotic    10 50 0.2000000 0.08912769 0.3108723\n",
       "3  bayes         10 50 0.2058824 0.10116836 0.3171207\n",
       "4  cloglog       10 50 0.2000000 0.10318339 0.3196686\n",
       "5  exact         10 50 0.2000000 0.10030224 0.3371831\n",
       "6  logit         10 50 0.2000000 0.11113040 0.3332899\n",
       "7  probit        10 50 0.2000000 0.10792338 0.3279450\n",
       "8  profile       10 50 0.2000000 0.10570710 0.3242950\n",
       "9  lrt           10 50 0.2000000 0.10568422 0.3242911\n",
       "10 prop.test     10 50 0.2000000 0.10502158 0.3414368\n",
       "11 wilson        10 50 0.2000000 0.11243750 0.3303711"
      ]
     },
     "metadata": {},
     "output_type": "display_data"
    },
    {
     "data": {
      "text/html": [
       "<table>\n",
       "<thead><tr><th scope=col>method</th><th scope=col>x</th><th scope=col>n</th><th scope=col>mean</th><th scope=col>lower</th><th scope=col>upper</th></tr></thead>\n",
       "<tbody>\n",
       "\t<tr><td>agresti-coull</td><td>3            </td><td>50           </td><td>0.06000000   </td><td> 0.014420714 </td><td>0.1683652    </td></tr>\n",
       "\t<tr><td>asymptotic   </td><td>3            </td><td>50           </td><td>0.06000000   </td><td>-0.005826784 </td><td>0.1258268    </td></tr>\n",
       "\t<tr><td>bayes        </td><td>3            </td><td>50           </td><td>0.06862745   </td><td> 0.010699356 </td><td>0.1376543    </td></tr>\n",
       "\t<tr><td>cloglog      </td><td>3            </td><td>50           </td><td>0.06000000   </td><td> 0.015682958 </td><td>0.1488348    </td></tr>\n",
       "\t<tr><td>exact        </td><td>3            </td><td>50           </td><td>0.06000000   </td><td> 0.012548588 </td><td>0.1654819    </td></tr>\n",
       "\t<tr><td>logit        </td><td>3            </td><td>50           </td><td>0.06000000   </td><td> 0.019480341 </td><td>0.1701741    </td></tr>\n",
       "\t<tr><td>probit       </td><td>3            </td><td>50           </td><td>0.06000000   </td><td> 0.017542810 </td><td>0.1581287    </td></tr>\n",
       "\t<tr><td>profile      </td><td>3            </td><td>50           </td><td>0.06000000   </td><td> 0.015303616 </td><td>0.1482785    </td></tr>\n",
       "\t<tr><td>lrt          </td><td>3            </td><td>50           </td><td>0.06000000   </td><td> 0.015291827 </td><td>0.1482746    </td></tr>\n",
       "\t<tr><td>prop.test    </td><td>3            </td><td>50           </td><td>0.06000000   </td><td> 0.015624594 </td><td>0.1754187    </td></tr>\n",
       "\t<tr><td>wilson       </td><td>3            </td><td>50           </td><td>0.06000000   </td><td> 0.020614970 </td><td>0.1621709    </td></tr>\n",
       "</tbody>\n",
       "</table>\n"
      ],
      "text/latex": [
       "\\begin{tabular}{r|llllll}\n",
       " method & x & n & mean & lower & upper\\\\\n",
       "\\hline\n",
       "\t agresti-coull & 3             & 50            & 0.06000000    &  0.014420714  & 0.1683652    \\\\\n",
       "\t asymptotic    & 3             & 50            & 0.06000000    & -0.005826784  & 0.1258268    \\\\\n",
       "\t bayes         & 3             & 50            & 0.06862745    &  0.010699356  & 0.1376543    \\\\\n",
       "\t cloglog       & 3             & 50            & 0.06000000    &  0.015682958  & 0.1488348    \\\\\n",
       "\t exact         & 3             & 50            & 0.06000000    &  0.012548588  & 0.1654819    \\\\\n",
       "\t logit         & 3             & 50            & 0.06000000    &  0.019480341  & 0.1701741    \\\\\n",
       "\t probit        & 3             & 50            & 0.06000000    &  0.017542810  & 0.1581287    \\\\\n",
       "\t profile       & 3             & 50            & 0.06000000    &  0.015303616  & 0.1482785    \\\\\n",
       "\t lrt           & 3             & 50            & 0.06000000    &  0.015291827  & 0.1482746    \\\\\n",
       "\t prop.test     & 3             & 50            & 0.06000000    &  0.015624594  & 0.1754187    \\\\\n",
       "\t wilson        & 3             & 50            & 0.06000000    &  0.020614970  & 0.1621709    \\\\\n",
       "\\end{tabular}\n"
      ],
      "text/markdown": [
       "\n",
       "method | x | n | mean | lower | upper | \n",
       "|---|---|---|---|---|---|---|---|---|---|---|\n",
       "| agresti-coull | 3             | 50            | 0.06000000    |  0.014420714  | 0.1683652     | \n",
       "| asymptotic    | 3             | 50            | 0.06000000    | -0.005826784  | 0.1258268     | \n",
       "| bayes         | 3             | 50            | 0.06862745    |  0.010699356  | 0.1376543     | \n",
       "| cloglog       | 3             | 50            | 0.06000000    |  0.015682958  | 0.1488348     | \n",
       "| exact         | 3             | 50            | 0.06000000    |  0.012548588  | 0.1654819     | \n",
       "| logit         | 3             | 50            | 0.06000000    |  0.019480341  | 0.1701741     | \n",
       "| probit        | 3             | 50            | 0.06000000    |  0.017542810  | 0.1581287     | \n",
       "| profile       | 3             | 50            | 0.06000000    |  0.015303616  | 0.1482785     | \n",
       "| lrt           | 3             | 50            | 0.06000000    |  0.015291827  | 0.1482746     | \n",
       "| prop.test     | 3             | 50            | 0.06000000    |  0.015624594  | 0.1754187     | \n",
       "| wilson        | 3             | 50            | 0.06000000    |  0.020614970  | 0.1621709     | \n",
       "\n",
       "\n"
      ],
      "text/plain": [
       "   method        x n  mean       lower        upper    \n",
       "1  agresti-coull 3 50 0.06000000  0.014420714 0.1683652\n",
       "2  asymptotic    3 50 0.06000000 -0.005826784 0.1258268\n",
       "3  bayes         3 50 0.06862745  0.010699356 0.1376543\n",
       "4  cloglog       3 50 0.06000000  0.015682958 0.1488348\n",
       "5  exact         3 50 0.06000000  0.012548588 0.1654819\n",
       "6  logit         3 50 0.06000000  0.019480341 0.1701741\n",
       "7  probit        3 50 0.06000000  0.017542810 0.1581287\n",
       "8  profile       3 50 0.06000000  0.015303616 0.1482785\n",
       "9  lrt           3 50 0.06000000  0.015291827 0.1482746\n",
       "10 prop.test     3 50 0.06000000  0.015624594 0.1754187\n",
       "11 wilson        3 50 0.06000000  0.020614970 0.1621709"
      ]
     },
     "metadata": {},
     "output_type": "display_data"
    },
    {
     "data": {
      "text/html": [
       "'sd'"
      ],
      "text/latex": [
       "'sd'"
      ],
      "text/markdown": [
       "'sd'"
      ],
      "text/plain": [
       "[1] \"sd\""
      ]
     },
     "metadata": {},
     "output_type": "display_data"
    },
    {
     "data": {
      "text/html": [
       "0.0353278744816984"
      ],
      "text/latex": [
       "0.0353278744816984"
      ],
      "text/markdown": [
       "0.0353278744816984"
      ],
      "text/plain": [
       "[1] 0.03532787"
      ]
     },
     "metadata": {},
     "output_type": "display_data"
    },
    {
     "data": {
      "text/html": [
       "'average'"
      ],
      "text/latex": [
       "'average'"
      ],
      "text/markdown": [
       "'average'"
      ],
      "text/plain": [
       "[1] \"average\""
      ]
     },
     "metadata": {},
     "output_type": "display_data"
    },
    {
     "data": {
      "text/html": [
       "0.0196078431372549"
      ],
      "text/latex": [
       "0.0196078431372549"
      ],
      "text/markdown": [
       "0.0196078431372549"
      ],
      "text/plain": [
       "[1] 0.01960784"
      ]
     },
     "metadata": {},
     "output_type": "display_data"
    }
   ],
   "source": [
    "'c'\n",
    "binom.confint(10, 50, conf.level = 0.95)\n",
    "binom.confint(3, 50, conf.level = 0.95)\n",
    "\n",
    "'sd' \n",
    "sd(dbinom(0:50,50,0.62))\n",
    "'average' \n",
    "mean(dbinom(0:50,50,0.62))"
   ]
  },
  {
   "cell_type": "code",
   "execution_count": 11,
   "metadata": {},
   "outputs": [
    {
     "data": {
      "text/html": [
       "'d'"
      ],
      "text/latex": [
       "'d'"
      ],
      "text/markdown": [
       "'d'"
      ],
      "text/plain": [
       "[1] \"d\""
      ]
     },
     "metadata": {},
     "output_type": "display_data"
    },
    {
     "data": {
      "image/png": "[encoded data removed]",
      "text/plain": [
       "plot without title"
      ]
     },
     "metadata": {},
     "output_type": "display_data"
    },
    {
     "data": {
      "image/png": "[encoded data removed]",
      "text/plain": [
       "plot without title"
      ]
     },
     "metadata": {},
     "output_type": "display_data"
    }
   ],
   "source": [
    "'d'\n",
    "plot(dbinom(0:50,50,0.62), type = 'l')\n",
    "plot(pbinom(0:50,50,0.62), type = 's')"
   ]
  },
  {
   "cell_type": "markdown",
   "metadata": {},
   "source": [
    "##### 2. \n",
    "What are all the possible codon arrangements available during translation in genetics? explain"
   ]
  },
  {
   "cell_type": "code",
   "execution_count": 12,
   "metadata": {},
   "outputs": [
    {
     "data": {
      "text/html": [
       "'There are four proteins(ACTG) that will arrange in a set of three protein combinations such as ACT, GAC..., so the \n",
       "possible arrangements are calculated using permutation with repeat as ACTG^3:\n",
       "\n",
       "'"
      ],
      "text/latex": [
       "'There are four proteins(ACTG) that will arrange in a set of three protein combinations such as ACT, GAC..., so the \n",
       "possible arrangements are calculated using permutation with repeat as ACTG\\textasciicircum{}3:\n",
       "\n",
       "'"
      ],
      "text/markdown": [
       "'There are four proteins(ACTG) that will arrange in a set of three protein combinations such as ACT, GAC..., so the \n",
       "possible arrangements are calculated using permutation with repeat as ACTG^3:\n",
       "\n",
       "'"
      ],
      "text/plain": [
       "[1] \"There are four proteins(ACTG) that will arrange in a set of three protein combinations such as ACT, GAC..., so the \\npossible arrangements are calculated using permutation with repeat as ACTG^3:\\n\\n\""
      ]
     },
     "metadata": {},
     "output_type": "display_data"
    },
    {
     "data": {
      "text/html": [
       "64"
      ],
      "text/latex": [
       "64"
      ],
      "text/markdown": [
       "64"
      ],
      "text/plain": [
       "[1] 64"
      ]
     },
     "metadata": {},
     "output_type": "display_data"
    }
   ],
   "source": [
    "\"There are four proteins(ACTG) that will arrange in a set of three protein combinations such as ACT, GAC..., so the \n",
    "possible arrangements are calculated using permutation with repeat as ACTG^3:\n",
    "\n",
    "\"\n",
    "4^3"
   ]
  },
  {
   "cell_type": "markdown",
   "metadata": {},
   "source": [
    "##### 3. \n",
    "Find the number of three-digit integers that have either 2 or 7 in the tens digit and 2 in the units digit?"
   ]
  },
  {
   "cell_type": "code",
   "execution_count": 13,
   "metadata": {},
   "outputs": [
    {
     "data": {
      "text/html": [
       "'3 digits: 9=(1-9),2=(2 and 7), 1=(2)\n",
       "Calculation: 9*2*1:'"
      ],
      "text/latex": [
       "'3 digits: 9=(1-9),2=(2 and 7), 1=(2)\n",
       "Calculation: 9*2*1:'"
      ],
      "text/markdown": [
       "'3 digits: 9=(1-9),2=(2 and 7), 1=(2)\n",
       "Calculation: 9*2*1:'"
      ],
      "text/plain": [
       "[1] \"3 digits: 9=(1-9),2=(2 and 7), 1=(2)\\nCalculation: 9*2*1:\""
      ]
     },
     "metadata": {},
     "output_type": "display_data"
    },
    {
     "data": {
      "text/html": [
       "18"
      ],
      "text/latex": [
       "18"
      ],
      "text/markdown": [
       "18"
      ],
      "text/plain": [
       "[1] 18"
      ]
     },
     "metadata": {},
     "output_type": "display_data"
    }
   ],
   "source": [
    "'3 digits: 9=(1-9),2=(2 and 7), 1=(2)\n",
    "Calculation: 9*2*1:'\n",
    "9*2*1"
   ]
  },
  {
   "cell_type": "markdown",
   "metadata": {},
   "source": [
    "##### 4. \n",
    "Write a function in R that calculates nPk and nCk, and answer the following questions keeping in mind the type of arrangement asked (Permutations or combinations):\n",
    "\n",
    "- a. How many ways can we give awards to the first 3 places (gold,silver and bronze) among eight contestants?\n",
    "\n",
    "- b. Claire took 12 photos. She wants to put 5 of them on Facebook. How many groups of photos are possible?\n"
   ]
  },
  {
   "cell_type": "code",
   "execution_count": 14,
   "metadata": {},
   "outputs": [
    {
     "data": {
      "text/html": [
       "'Permutation: order is revelant'"
      ],
      "text/latex": [
       "'Permutation: order is revelant'"
      ],
      "text/markdown": [
       "'Permutation: order is revelant'"
      ],
      "text/plain": [
       "[1] \"Permutation: order is revelant\""
      ]
     },
     "metadata": {},
     "output_type": "display_data"
    },
    {
     "data": {
      "text/html": [
       "'Combinations: order is irrevelant'"
      ],
      "text/latex": [
       "'Combinations: order is irrevelant'"
      ],
      "text/markdown": [
       "'Combinations: order is irrevelant'"
      ],
      "text/plain": [
       "[1] \"Combinations: order is irrevelant\""
      ]
     },
     "metadata": {},
     "output_type": "display_data"
    },
    {
     "data": {
      "text/html": [
       "'a is permutations'"
      ],
      "text/latex": [
       "'a is permutations'"
      ],
      "text/markdown": [
       "'a is permutations'"
      ],
      "text/plain": [
       "[1] \"a is permutations\""
      ]
     },
     "metadata": {},
     "output_type": "display_data"
    },
    {
     "data": {
      "text/html": [
       "336"
      ],
      "text/latex": [
       "336"
      ],
      "text/markdown": [
       "336"
      ],
      "text/plain": [
       "[1] 336"
      ]
     },
     "metadata": {},
     "output_type": "display_data"
    },
    {
     "data": {
      "text/html": [
       "'b is combinations'"
      ],
      "text/latex": [
       "'b is combinations'"
      ],
      "text/markdown": [
       "'b is combinations'"
      ],
      "text/plain": [
       "[1] \"b is combinations\""
      ]
     },
     "metadata": {},
     "output_type": "display_data"
    },
    {
     "data": {
      "text/html": [
       "792"
      ],
      "text/latex": [
       "792"
      ],
      "text/markdown": [
       "792"
      ],
      "text/plain": [
       "[1] 792"
      ]
     },
     "metadata": {},
     "output_type": "display_data"
    }
   ],
   "source": [
    "'Permutation: order is revelant'\n",
    "nPk <- function(n,k){\n",
    "    x<-factorial(n)/factorial(n-k)\n",
    "    return (x)\n",
    "}\n",
    "'Combinations: order is irrevelant'\n",
    "nCk <- function(n,k){\n",
    "    x<-factorial(n)/(factorial(n-k)*factorial(k))\n",
    "    return(x)\n",
    "}\n",
    "\n",
    "'a is permutations'\n",
    "nPk(8,3)\n",
    "\n",
    "'b is combinations'\n",
    "nCk(12,5)\n"
   ]
  },
  {
   "cell_type": "markdown",
   "metadata": {},
   "source": [
    "##### 5. \n",
    "Seven friends went to watch a game. They were supposed to occupy seat numbers 50 to 57. In how many different ways can they do it?"
   ]
  },
  {
   "cell_type": "code",
   "execution_count": 16,
   "metadata": {},
   "outputs": [
    {
     "data": {
      "text/html": [
       "'since we can\\'t have repeat on friend, it's permuatation where order is relevant'"
      ],
      "text/latex": [
       "'since we can\\textbackslash{}'t have repeat on friend, it's permuatation where order is relevant'"
      ],
      "text/markdown": [
       "'since we can\\'t have repeat on friend, it's permuatation where order is relevant'"
      ],
      "text/plain": [
       "[1] \"since we can't have repeat on friend, it's permuatation where order is relevant\""
      ]
     },
     "metadata": {},
     "output_type": "display_data"
    },
    {
     "data": {
      "text/html": [
       "5040"
      ],
      "text/latex": [
       "5040"
      ],
      "text/markdown": [
       "5040"
      ],
      "text/plain": [
       "[1] 5040"
      ]
     },
     "metadata": {},
     "output_type": "display_data"
    }
   ],
   "source": [
    "\"since we can't have repeat on friend, it's permuatation where order is relevant\"\n",
    "nPk(7,7)"
   ]
  },
  {
   "cell_type": "markdown",
   "metadata": {},
   "source": [
    "##### 6. \n",
    "A famous example of a markov chain is the recruitment probabilities for males in some ivy leave schools in the past, where Harvard, Dartmouth, and Yale admitted only male students. Assume that, at that time, 80 percent of the sons of Harvard men went to Harvard and the rest went to Yale, 40 percent of the sons of Yale men went to Yale, and the rest split evenly between Harvard and Dartmouth; and of the sons of Dartmouth men, 70 percent went to Dartmouth, 20 percent to Harvard, and 10 percent to Yale. \n",
    "\n",
    "Draw the transition matrix, plot the transition diagram and answer:\n",
    "\n",
    "Calculate the probability that a grandson from Yale went to Harvard\n",
    "Draw the transition matrix after 5 generations"
   ]
  },
  {
   "cell_type": "code",
   "execution_count": 17,
   "metadata": {},
   "outputs": [
    {
     "data": {
      "text/html": [
       "<table>\n",
       "<thead><tr><th></th><th scope=col>Havard</th><th scope=col>Dartmouth</th><th scope=col>Yale</th></tr></thead>\n",
       "<tbody>\n",
       "\t<tr><th scope=row>Havard</th><td>0.8</td><td>0.0</td><td>0.2</td></tr>\n",
       "\t<tr><th scope=row>Dartmouth</th><td>0.2</td><td>0.7</td><td>0.1</td></tr>\n",
       "\t<tr><th scope=row>Yale</th><td>0.3</td><td>0.3</td><td>0.4</td></tr>\n",
       "</tbody>\n",
       "</table>\n"
      ],
      "text/latex": [
       "\\begin{tabular}{r|lll}\n",
       "  & Havard & Dartmouth & Yale\\\\\n",
       "\\hline\n",
       "\tHavard & 0.8 & 0.0 & 0.2\\\\\n",
       "\tDartmouth & 0.2 & 0.7 & 0.1\\\\\n",
       "\tYale & 0.3 & 0.3 & 0.4\\\\\n",
       "\\end{tabular}\n"
      ],
      "text/markdown": [
       "\n",
       "| <!--/--> | Havard | Dartmouth | Yale | \n",
       "|---|---|---|\n",
       "| Havard | 0.8 | 0.0 | 0.2 | \n",
       "| Dartmouth | 0.2 | 0.7 | 0.1 | \n",
       "| Yale | 0.3 | 0.3 | 0.4 | \n",
       "\n",
       "\n"
      ],
      "text/plain": [
       "          Havard Dartmouth Yale\n",
       "Havard    0.8    0.0       0.2 \n",
       "Dartmouth 0.2    0.7       0.1 \n",
       "Yale      0.3    0.3       0.4 "
      ]
     },
     "metadata": {},
     "output_type": "display_data"
    },
    {
     "data": {
      "text/plain": [
       "Schools \n",
       " A  3 - dimensional discrete Markov Chain defined by the following states: \n",
       " Havard, Dartmouth, Yale \n",
       " The transition matrix  (by rows)  is defined as follows: \n",
       "          Havard Dartmouth Yale\n",
       "Havard       0.8       0.0  0.2\n",
       "Dartmouth    0.2       0.7  0.1\n",
       "Yale         0.3       0.3  0.4\n"
      ]
     },
     "metadata": {},
     "output_type": "display_data"
    },
    {
     "data": {
      "image/png": "[encoded data removed]",
      "text/plain": [
       "Plot with title “”"
      ]
     },
     "metadata": {},
     "output_type": "display_data"
    }
   ],
   "source": [
    "library(markovchain)\n",
    "school <- c('Havard', 'Dartmouth', 'Yale')\n",
    "mtrix <- matrix(data = c(0.8, 0, 0.2,\n",
    "                        0.2, 0.7, 0.1,\n",
    "                        0.3, 0.3, 0.4), byrow = T, nrow = 3,\n",
    "                        dimnames = list(school, school))\n",
    "mcSchool <- new(\"markovchain\", states = school, byrow = T,\n",
    "               transitionMatrix = mtrix, name = \"Schools\")\n",
    "initialState <- c(0, 1, 0)\n",
    "mtrix\n",
    "mcSchool\n",
    "plot(mcSchool)"
   ]
  },
  {
   "cell_type": "code",
   "execution_count": 18,
   "metadata": {},
   "outputs": [
    {
     "data": {
      "text/html": [
       "'5th gen'"
      ],
      "text/latex": [
       "'5th gen'"
      ],
      "text/markdown": [
       "'5th gen'"
      ],
      "text/plain": [
       "[1] \"5th gen\""
      ]
     },
     "metadata": {},
     "output_type": "display_data"
    },
    {
     "data": {
      "text/plain": [
       "Schools^5 \n",
       " A  3 - dimensional discrete Markov Chain defined by the following states: \n",
       " Havard, Dartmouth, Yale \n",
       " The transition matrix  (by rows)  is defined as follows: \n",
       "           Havard Dartmouth    Yale\n",
       "Havard    0.59006   0.17778 0.23216\n",
       "Dartmouth 0.49883   0.29620 0.20497\n",
       "Yale      0.52602   0.25935 0.21463\n"
      ]
     },
     "metadata": {},
     "output_type": "display_data"
    },
    {
     "data": {
      "text/html": [
       "'probability of Yale 5th gen grandsons go to Harvard is 0.526, or 52.6%'"
      ],
      "text/latex": [
       "'probability of Yale 5th gen grandsons go to Harvard is 0.526, or 52.6\\%'"
      ],
      "text/markdown": [
       "'probability of Yale 5th gen grandsons go to Harvard is 0.526, or 52.6%'"
      ],
      "text/plain": [
       "[1] \"probability of Yale 5th gen grandsons go to Harvard is 0.526, or 52.6%\""
      ]
     },
     "metadata": {},
     "output_type": "display_data"
    }
   ],
   "source": [
    "'5th gen'\n",
    "fifthgen <- mcSchool^5\n",
    "fifthgen\n",
    "\"probability of Yale 5th gen grandsons go to Harvard is 0.526, or 52.6%\""
   ]
  },
  {
   "cell_type": "code",
   "execution_count": null,
   "metadata": {},
   "outputs": [],
   "source": []
  }
 ],
 "metadata": {
  "kernelspec": {
   "display_name": "R",
   "language": "R",
   "name": "ir"
  },
  "language_info": {
   "codemirror_mode": "r",
   "file_extension": ".r",
   "mimetype": "text/x-r-source",
   "name": "R",
   "pygments_lexer": "r",
   "version": "3.3.2"
  }
 },
 "nbformat": 4,
 "nbformat_minor": 2
}
