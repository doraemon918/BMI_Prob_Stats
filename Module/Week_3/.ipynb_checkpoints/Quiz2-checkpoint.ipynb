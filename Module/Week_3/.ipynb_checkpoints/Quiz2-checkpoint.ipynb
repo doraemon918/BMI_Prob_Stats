{
 "cells": [
  {
   "cell_type": "code",
   "execution_count": 1,
   "metadata": {},
   "outputs": [
    {
     "name": "stderr",
     "output_type": "stream",
     "text": [
      "\n",
      "Attaching package: ‘dplyr’\n",
      "\n",
      "The following objects are masked from ‘package:stats’:\n",
      "\n",
      "    filter, lag\n",
      "\n",
      "The following objects are masked from ‘package:base’:\n",
      "\n",
      "    intersect, setdiff, setequal, union\n",
      "\n",
      "\n",
      "Attaching package: ‘igraph’\n",
      "\n",
      "The following objects are masked from ‘package:dplyr’:\n",
      "\n",
      "    as_data_frame, groups, union\n",
      "\n",
      "The following objects are masked from ‘package:stats’:\n",
      "\n",
      "    decompose, spectrum\n",
      "\n",
      "The following object is masked from ‘package:base’:\n",
      "\n",
      "    union\n",
      "\n"
     ]
    }
   ],
   "source": [
    "library(\"ggplot2\")\n",
    "library(\"dplyr\")\n",
    "library(\"reshape2\")\n",
    "library(\"knitr\")\n",
    "library(\"igraph\")"
   ]
  },
  {
   "cell_type": "code",
   "execution_count": 24,
   "metadata": {},
   "outputs": [
    {
     "data": {
      "text/html": [
       "<table>\n",
       "<thead><tr><th></th><th scope=col>District.Name</th><th scope=col>Zone</th><th scope=col>Ecological.Belt</th><th scope=col>Development.Region</th><th scope=col>Year..BS.</th><th scope=col>Year..AD.</th><th scope=col>Indicator</th><th scope=col>Test</th><th scope=col>infected</th></tr></thead>\n",
       "<tbody>\n",
       "\t<tr><th scope=row>5395</th><td>Darchula   </td><td>Mahakali   </td><td>Mountain   </td><td>Far-Western</td><td>2070/71    </td><td>2013/14    </td><td>Death      </td><td>Pos        </td><td>1          </td></tr>\n",
       "\t<tr><th scope=row>5396</th><td>Darchula   </td><td>Mahakali   </td><td>Mountain   </td><td>Far-Western</td><td>2070/71    </td><td>2013/14    </td><td>Death      </td><td>Pos        </td><td>0          </td></tr>\n",
       "\t<tr><th scope=row>5397</th><td>Darchula   </td><td>Mahakali   </td><td>Mountain   </td><td>Far-Western</td><td>2070/71    </td><td>2013/14    </td><td>Death      </td><td>Pos        </td><td>0          </td></tr>\n",
       "\t<tr><th scope=row>5398</th><td>Darchula   </td><td>Mahakali   </td><td>Mountain   </td><td>Far-Western</td><td>2070/71    </td><td>2013/14    </td><td>Death      </td><td>Pos        </td><td>0          </td></tr>\n",
       "\t<tr><th scope=row>5399</th><td>Darchula   </td><td>Mahakali   </td><td>Mountain   </td><td>Far-Western</td><td>2070/71    </td><td>2013/14    </td><td>Death      </td><td>Pos        </td><td>1          </td></tr>\n",
       "\t<tr><th scope=row>5400</th><td>Darchula   </td><td>Mahakali   </td><td>Mountain   </td><td>Far-Western</td><td>2070/71    </td><td>2013/14    </td><td>Death      </td><td>Pos        </td><td>1          </td></tr>\n",
       "</tbody>\n",
       "</table>\n"
      ],
      "text/latex": [
       "\\begin{tabular}{r|lllllllll}\n",
       "  & District.Name & Zone & Ecological.Belt & Development.Region & Year..BS. & Year..AD. & Indicator & Test & infected\\\\\n",
       "\\hline\n",
       "\t5395 & Darchula    & Mahakali    & Mountain    & Far-Western & 2070/71     & 2013/14     & Death       & Pos         & 1          \\\\\n",
       "\t5396 & Darchula    & Mahakali    & Mountain    & Far-Western & 2070/71     & 2013/14     & Death       & Pos         & 0          \\\\\n",
       "\t5397 & Darchula    & Mahakali    & Mountain    & Far-Western & 2070/71     & 2013/14     & Death       & Pos         & 0          \\\\\n",
       "\t5398 & Darchula    & Mahakali    & Mountain    & Far-Western & 2070/71     & 2013/14     & Death       & Pos         & 0          \\\\\n",
       "\t5399 & Darchula    & Mahakali    & Mountain    & Far-Western & 2070/71     & 2013/14     & Death       & Pos         & 1          \\\\\n",
       "\t5400 & Darchula    & Mahakali    & Mountain    & Far-Western & 2070/71     & 2013/14     & Death       & Pos         & 1          \\\\\n",
       "\\end{tabular}\n"
      ],
      "text/markdown": [
       "\n",
       "| <!--/--> | District.Name | Zone | Ecological.Belt | Development.Region | Year..BS. | Year..AD. | Indicator | Test | infected | \n",
       "|---|---|---|---|---|---|\n",
       "| 5395 | Darchula    | Mahakali    | Mountain    | Far-Western | 2070/71     | 2013/14     | Death       | Pos         | 1           | \n",
       "| 5396 | Darchula    | Mahakali    | Mountain    | Far-Western | 2070/71     | 2013/14     | Death       | Pos         | 0           | \n",
       "| 5397 | Darchula    | Mahakali    | Mountain    | Far-Western | 2070/71     | 2013/14     | Death       | Pos         | 0           | \n",
       "| 5398 | Darchula    | Mahakali    | Mountain    | Far-Western | 2070/71     | 2013/14     | Death       | Pos         | 0           | \n",
       "| 5399 | Darchula    | Mahakali    | Mountain    | Far-Western | 2070/71     | 2013/14     | Death       | Pos         | 1           | \n",
       "| 5400 | Darchula    | Mahakali    | Mountain    | Far-Western | 2070/71     | 2013/14     | Death       | Pos         | 1           | \n",
       "\n",
       "\n"
      ],
      "text/plain": [
       "     District.Name Zone     Ecological.Belt Development.Region Year..BS.\n",
       "5395 Darchula      Mahakali Mountain        Far-Western        2070/71  \n",
       "5396 Darchula      Mahakali Mountain        Far-Western        2070/71  \n",
       "5397 Darchula      Mahakali Mountain        Far-Western        2070/71  \n",
       "5398 Darchula      Mahakali Mountain        Far-Western        2070/71  \n",
       "5399 Darchula      Mahakali Mountain        Far-Western        2070/71  \n",
       "5400 Darchula      Mahakali Mountain        Far-Western        2070/71  \n",
       "     Year..AD. Indicator Test infected\n",
       "5395 2013/14   Death     Pos  1       \n",
       "5396 2013/14   Death     Pos  0       \n",
       "5397 2013/14   Death     Pos  0       \n",
       "5398 2013/14   Death     Pos  0       \n",
       "5399 2013/14   Death     Pos  1       \n",
       "5400 2013/14   Death     Pos  1       "
      ]
     },
     "metadata": {},
     "output_type": "display_data"
    }
   ],
   "source": [
    "malaria = read.csv(file = \"malaria2.csv\")\n",
    "tail(malaria)"
   ]
  },
  {
   "cell_type": "code",
   "execution_count": 22,
   "metadata": {},
   "outputs": [
    {
     "name": "stderr",
     "output_type": "stream",
     "text": [
      "Using n as value column: use value.var to override.\n"
     ]
    },
    {
     "data": {
      "text/plain": [
       "\n",
       "\n",
       "|Test |0    |1    |\n",
       "|:----|:----|:----|\n",
       "|Neg  |994  |356  |\n",
       "|Pos  |2965 |1085 |"
      ]
     },
     "metadata": {},
     "output_type": "display_data"
    },
    {
     "name": "stderr",
     "output_type": "stream",
     "text": [
      "Using n as value column: use value.var to override.\n"
     ]
    },
    {
     "data": {
      "text/plain": [
       "\n",
       "\n",
       "|Test |0    |1    |\n",
       "|:----|:----|:----|\n",
       "|Neg  |994  |356  |\n",
       "|Pos  |2965 |1085 |"
      ]
     },
     "metadata": {},
     "output_type": "display_data"
    },
    {
     "name": "stderr",
     "output_type": "stream",
     "text": [
      "Warning message in bind_rows_(x, .id):\n",
      "“binding factor and character vector, coercing into character vector”Warning message in bind_rows_(x, .id):\n",
      "“binding character and factor vector, coercing into character vector”"
     ]
    },
    {
     "data": {
      "text/plain": [
       "\n",
       "\n",
       "|Test     |0         |1         |marginal |\n",
       "|:--------|:---------|:---------|:--------|\n",
       "|Neg      |0.1840741 |0.0659259 |0.25     |\n",
       "|Pos      |0.5490741 |0.2009259 |0.75     |\n",
       "|marginal |0.7331481 |0.2668519 |NA       |"
      ]
     },
     "metadata": {},
     "output_type": "display_data"
    }
   ],
   "source": [
    "malaria.test.infected.df <-\n",
    "  malaria %>%\n",
    "  group_by(Test, infected) %>%\n",
    "  summarize(n = n())\n",
    "malaria.test.infected.df %>%\n",
    "  dcast(Test ~ infected, value.nar = \"n\") %>%\n",
    "  kable(align = \"l\", format = \"markdown\",\n",
    "        table.attr='class=\"table table-striped table-hover\"')\n",
    "\n",
    "malaria.test.infected.prop.df <-\n",
    "  malaria.test.infected.df %>%\n",
    "  ungroup() %>%\n",
    "  mutate(prop = n/ sum(n))\n",
    "\n",
    "malaria.test.infected.df %>%\n",
    "  dcast(Test ~ infected, value.nar = \"prop\") %>%\n",
    "  kable(align = \"l\", format = \"markdown\",\n",
    "        table.attr='class=\"table table-striped table-hover\"')\n",
    "\n",
    "test.marginal.df <- \n",
    "  malaria.test.infected.prop.df %>%\n",
    "  group_by(Test) %>%\n",
    "  summarize(marginal = sum(prop))\n",
    "\n",
    "infected.marginal.df <- \n",
    "  malaria.test.infected.prop.df %>%\n",
    "  group_by(infected) %>%\n",
    "  summarize(marginal = sum(prop))\n",
    "\n",
    "malaria.test.infected.prop.df %>%\n",
    "  dcast(Test ~ infected, value.var = \"prop\") %>%\n",
    "  left_join(test.marginal.df, by = \"Test\") %>%\n",
    "  bind_rows(\n",
    "    infected.marginal.df %>%\n",
    "      mutate(Test = \"marginal\") %>%\n",
    "      dcast(Test ~ infected, value.var = \"marginal\")\n",
    "  ) %>%\n",
    "  kable(align = \"l\", format = \"markdown\",\n",
    "        table.attr = 'class=\"table table-striped table-hover\"')\n",
    "\n"
   ]
  },
  {
   "cell_type": "code",
   "execution_count": 25,
   "metadata": {},
   "outputs": [
    {
     "name": "stderr",
     "output_type": "stream",
     "text": [
      "Using n as value column: use value.var to override.\n"
     ]
    },
    {
     "data": {
      "text/plain": [
       "\n",
       "\n",
       "|Ecological.Belt |Neg |Pos  |\n",
       "|:---------------|:---|:----|\n",
       "|Hill            |702 |2106 |\n",
       "|Mountain        |288 |864  |\n",
       "|Terai           |360 |1080 |"
      ]
     },
     "metadata": {},
     "output_type": "display_data"
    },
    {
     "name": "stderr",
     "output_type": "stream",
     "text": [
      "Using n as value column: use value.var to override.\n"
     ]
    },
    {
     "data": {
      "text/plain": [
       "\n",
       "\n",
       "|Ecological.Belt |Neg |Pos  |\n",
       "|:---------------|:---|:----|\n",
       "|Hill            |702 |2106 |\n",
       "|Mountain        |288 |864  |\n",
       "|Terai           |360 |1080 |"
      ]
     },
     "metadata": {},
     "output_type": "display_data"
    },
    {
     "name": "stderr",
     "output_type": "stream",
     "text": [
      "Warning message in bind_rows_(x, .id):\n",
      "“binding factor and character vector, coercing into character vector”Warning message in bind_rows_(x, .id):\n",
      "“binding character and factor vector, coercing into character vector”"
     ]
    },
    {
     "data": {
      "text/plain": [
       "\n",
       "\n",
       "|Ecological.Belt |Neg       |Pos  |marginal  |\n",
       "|:---------------|:---------|:----|:---------|\n",
       "|Hill            |0.1300000 |0.39 |0.5200000 |\n",
       "|Mountain        |0.0533333 |0.16 |0.2133333 |\n",
       "|Terai           |0.0666667 |0.20 |0.2666667 |\n",
       "|marginal        |0.2500000 |0.75 |NA        |"
      ]
     },
     "metadata": {},
     "output_type": "display_data"
    }
   ],
   "source": [
    "malaria.Ecological.Belt.test.df <-\n",
    "  malaria %>%\n",
    "  group_by(Ecological.Belt, Test) %>%\n",
    "  summarize(n = n())\n",
    "malaria.Ecological.Belt.test.df %>%\n",
    "  dcast(Ecological.Belt ~ Test, value.nar = \"n\") %>%\n",
    "  kable(align = \"l\", format = \"markdown\",\n",
    "        table.attr='class=\"table table-striped table-hover\"')\n",
    "\n",
    "malaria.Ecological.Belt.test.prop.df <-\n",
    "  malaria.Ecological.Belt.test.df %>%\n",
    "  ungroup() %>%\n",
    "  mutate(prop = n/ sum(n))\n",
    "\n",
    "malaria.Ecological.Belt.test.df %>%\n",
    "  dcast(Ecological.Belt ~ Test, value.nar = \"prop\") %>%\n",
    "  kable(align = \"l\", format = \"markdown\",\n",
    "        table.attr='class=\"table table-striped table-hover\"')\n",
    "\n",
    "Ecological.Belt.marginal.df <- \n",
    "  malaria.Ecological.Belt.test.prop.df %>%\n",
    "  group_by(Ecological.Belt) %>%\n",
    "  summarize(marginal = sum(prop))\n",
    "\n",
    "test.marginal.df <- \n",
    "  malaria.Ecological.Belt.test.prop.df %>%\n",
    "  group_by(Test) %>%\n",
    "  summarize(marginal = sum(prop))\n",
    "\n",
    "malaria.Ecological.Belt.test.prop.df %>%\n",
    "  dcast(Ecological.Belt ~ Test, value.var = \"prop\") %>%\n",
    "  left_join(Ecological.Belt.marginal.df, by = \"Ecological.Belt\") %>%\n",
    "  bind_rows(\n",
    "    test.marginal.df %>%\n",
    "      mutate(Ecological.Belt = \"marginal\") %>%\n",
    "      dcast(Ecological.Belt ~ Test, value.var = \"marginal\")\n",
    "  ) %>%\n",
    "  kable(align = \"l\", format = \"markdown\",\n",
    "        table.attr = 'class=\"table table-striped table-hover\"')"
   ]
  },
  {
   "cell_type": "code",
   "execution_count": null,
   "metadata": {
    "collapsed": true
   },
   "outputs": [],
   "source": []
  }
 ],
 "metadata": {
  "kernelspec": {
   "display_name": "R",
   "language": "R",
   "name": "ir"
  },
  "language_info": {
   "codemirror_mode": "r",
   "file_extension": ".r",
   "mimetype": "text/x-r-source",
   "name": "R",
   "pygments_lexer": "r",
   "version": "3.4.2"
  }
 },
 "nbformat": 4,
 "nbformat_minor": 2
}
