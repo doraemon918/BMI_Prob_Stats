{
 "cells": [
  {
   "cell_type": "markdown",
   "metadata": {},
   "source": [
    "# Exam 3"
   ]
  },
  {
   "attachments": {},
   "cell_type": "markdown",
   "metadata": {},
   "source": [
    "For questions 1-3 use the file 2015_CHR_Analytic_Data.csv that is added to this folder. This file needs some cleaning before use (you can use any language for this step R, python etc) (10 points)\n",
    "\n",
    "1. Besides counties, this csv contains state totals. Such rows should be filtered out when working with the data, so that you only work with county data. \n",
    "\n",
    "2. Only counties with at least 30,000 people according to “2011 population estimate Value”.\n",
    "3. Only columns ending in “Value” (plus the county code). To check, here is the complete list:\n",
    "\n",
    "    -('COUNTYCODE’, 'Premature death Value', 'Poor or fair health Value', 'Poor physical health days Value', 'Poor mental health days Value', 'Low birthweight Value', 'Adult smoking Value', 'Adult obesity Value', 'Food environment index Value', 'Physical inactivity Value', 'Access to exercise opportunities Value', 'Excessive drinking Value', 'Alcohol-impaired driving deaths Value', 'Sexually transmitted infections Value', 'Teen births Value', 'Uninsured Value', 'Primary care physicians Value', 'Dentists Value', 'Mental health providers Value', 'Preventable hospital stays Value', 'Diabetic screening Value', 'Mammography screening Value', 'High school graduation Value', 'Some college Value', 'Unemployment Value', 'Children in poverty Value', 'Income inequality Value', 'Children in single-parent households Value', 'Social associations Value', 'Violent crime Value', 'Injury deaths Value', 'Air pollution - particulate matter Value', 'Drinking water violations Value', 'Severe housing problems Value', 'Driving alone to work Value', 'Long commute - driving alone Value', '2011 population estimate Value', 'Population that is not proficient in English Value', 'Population living in a rural area Value', 'Diabetes Value', 'HIV prevalence rate Value', 'Premature age-adjusted mortality Value', 'Infant mortality Value', 'Child mortality Value', 'Food insecurity Value', 'Limited access to healthy foods Value', 'Motor vehicle crash deaths Value', 'Drug poisoning deaths Value', 'Uninsured adults Value', 'Uninsured children Value', 'Health care costs Value', 'Could not see doctor due to cost Value', 'Other primary care providers Value', 'Median household income Value', 'Children eligible for free lunch Value', 'Homicide rate Value')\n",
    "4. Only counties with non-nan values for each value column. (keep zeros though)\n",
    "\n",
    "    - Output: print the total number of counties: \n",
    "\t“1. TOTAL NUMBER OF COUNTIES: 823“\n",
    "\n",
    "5. Create a new column, ‘log_paamv’ which is the log transform of 'Premature age-adjusted mortality Value'.  This will be the outcome, response variable to predict. \n",
    "6. Compare the qqplot between log_paamv and Premature age-adjusted mortality Value, did linearity improved?\n",
    "7. Predict “log_paamv” (y) using all “Value” variables except REMOVED_COLUMNS (listed below) as your predictors/features (X). use multiple linear regression, to predict “log_paamv”. you must standardize the data.  \n",
    "    - REMOVED_COLUMNS = ('COUNTYCODE', 'log_paamv', 'Premature age-adjusted mortality Value', 'Premature death Value',  'Uninsured adults Value', 'Teen births Value', 'Food insecurity Value', 'Injury deaths Value', 'Motor vehicle crash deaths Value', 'Drug poisoning deaths Value',  'Child mortality Value', 'Uninsured Value')\n"
   ]
  },
  {
   "attachments": {},
   "cell_type": "markdown",
   "metadata": {},
   "source": [
    "$1.$ Run PCA over all of the predictors from the previous step (all columns of X) and all counties.  (20 points)\t\n",
    "    - a. Produce scree plots, pca plots and biplots for the main principal components, \n",
    "    - b. In no more than one paragraph discuss your results\n",
    "    - c. With the more relevant predictors (you choose how many) run a new multiple linear regression and compare this to the previous linear regression model using the AIC (you can use the anova function - anova(m1, m2) Is there an improvement.\n",
    "    - d. Run regularized predictions using the principal component regression (i.e. use PCA on X and then linear regression fitting the components to y) and compare it to the models (m1 and m2)"
   ]
  },
  {
   "cell_type": "code",
   "execution_count": 13,
   "metadata": {},
   "outputs": [
    {
     "data": {
      "text/html": [
       "<table>\n",
       "<thead><tr><th scope=col>STATECODE</th><th scope=col>COUNTYCODE</th><th scope=col>State</th><th scope=col>County</th><th scope=col>County.that.was.not.ranked</th><th scope=col>Premature.death.Value</th><th scope=col>Premature.death.Numerator</th><th scope=col>Premature.death.Denominator</th><th scope=col>Premature.death.Lower.Confidence.Interval</th><th scope=col>Premature.death.Upper.Confidence.Interval</th><th scope=col>⋯</th><th scope=col>Children.eligible.for.free.lunch.Value</th><th scope=col>Children.eligible.for.free.lunch.Numerator</th><th scope=col>Children.eligible.for.free.lunch.Denominator</th><th scope=col>Children.eligible.for.free.lunch.Lower.Confidence.Interval</th><th scope=col>Children.eligible.for.free.lunch.Upper.Confidence.Interval</th><th scope=col>Homicide.rate.Value</th><th scope=col>Homicide.rate.Numerator</th><th scope=col>Homicide.rate.Denominator</th><th scope=col>Homicide.rate.Lower.Confidence.Interval</th><th scope=col>Homicide.rate.Upper.Confidence.Interval</th></tr></thead>\n",
       "<tbody>\n",
       "\t<tr><td>1             </td><td>0             </td><td>AL            </td><td>Alabama       </td><td>NA            </td><td>9,508         </td><td>72,385        </td><td>13,527,993    </td><td>9,409         </td><td>9,607         </td><td>⋯             </td><td>0.500         </td><td>372,509       </td><td>744,621       </td><td>NA            </td><td>NA            </td><td>9.1           </td><td>2,971         </td><td>33,176,856    </td><td>8.8           </td><td> 9.5          </td></tr>\n",
       "\t<tr><td>1             </td><td>1             </td><td>AL            </td><td>Autauga County</td><td>NA            </td><td>8,405         </td><td>754           </td><td>157,345       </td><td>7,554         </td><td>9,257         </td><td>⋯             </td><td>0.383         </td><td>3,767         </td><td>9,825         </td><td>NA            </td><td>NA            </td><td>4.6           </td><td>17            </td><td>376,259       </td><td>2.7           </td><td> 7.4          </td></tr>\n",
       "\t<tr><td>1             </td><td>3             </td><td>AL            </td><td>Baldwin County</td><td>NA            </td><td>7,457         </td><td>2,460         </td><td>519,994       </td><td>7,006         </td><td>7,908         </td><td>⋯             </td><td>0.344         </td><td>9,875         </td><td>28,700        </td><td>NA            </td><td>NA            </td><td>4.3           </td><td>52            </td><td>1,255,425     </td><td>3.2           </td><td> 5.6          </td></tr>\n",
       "\t<tr><td>1             </td><td>5             </td><td>AL            </td><td>Barbour County</td><td>NA            </td><td>8,901         </td><td>414           </td><td>76,718        </td><td>7,580         </td><td>10,221        </td><td>⋯             </td><td>0.697         </td><td>2,661         </td><td>3,819         </td><td>NA            </td><td>NA            </td><td> NA           </td><td>              </td><td>              </td><td> NA           </td><td>  NA          </td></tr>\n",
       "\t<tr><td>1             </td><td>7             </td><td>AL            </td><td>Bibb County   </td><td>NA            </td><td>10,729        </td><td>407           </td><td>64,629        </td><td>9,124         </td><td>12,334        </td><td>⋯             </td><td>0.546         </td><td>1,934         </td><td>3,539         </td><td>NA            </td><td>NA            </td><td>7.8           </td><td>13            </td><td>158,530       </td><td>4.1           </td><td>13.3          </td></tr>\n",
       "\t<tr><td>1             </td><td>9             </td><td>AL            </td><td>Blount County </td><td>NA            </td><td>8,669         </td><td>861           </td><td>162,346       </td><td>7,802         </td><td>9,536         </td><td>⋯             </td><td>0.442         </td><td>4,373         </td><td>9,887         </td><td>NA            </td><td>NA            </td><td>4.3           </td><td>17            </td><td>398,992       </td><td>2.5           </td><td> 6.8          </td></tr>\n",
       "</tbody>\n",
       "</table>\n"
      ],
      "text/latex": [
       "\\begin{tabular}{r|lllllllllllllllllllllllllllllllllllllllllllllllllllllllllllllllllllllllllllllllllllllllllllllllllllllllllllllllllllllllllllllllllllllllllllllllllllllllllllllllllllllllllllllllllllllllllllllllllllllllllllllllllllllllllllllllllllllllllllllllllllllllllllllllllllllllllllllllllllllllllllllllllllllllllllllllllllllllllllllllllllllllll}\n",
       " STATECODE & COUNTYCODE & State & County & County.that.was.not.ranked & Premature.death.Value & Premature.death.Numerator & Premature.death.Denominator & Premature.death.Lower.Confidence.Interval & Premature.death.Upper.Confidence.Interval & ⋯ & Children.eligible.for.free.lunch.Value & Children.eligible.for.free.lunch.Numerator & Children.eligible.for.free.lunch.Denominator & Children.eligible.for.free.lunch.Lower.Confidence.Interval & Children.eligible.for.free.lunch.Upper.Confidence.Interval & Homicide.rate.Value & Homicide.rate.Numerator & Homicide.rate.Denominator & Homicide.rate.Lower.Confidence.Interval & Homicide.rate.Upper.Confidence.Interval\\\\\n",
       "\\hline\n",
       "\t 1              & 0              & AL             & Alabama        & NA             & 9,508          & 72,385         & 13,527,993     & 9,409          & 9,607          & ⋯              & 0.500          & 372,509        & 744,621        & NA             & NA             & 9.1            & 2,971          & 33,176,856     & 8.8            &  9.5          \\\\\n",
       "\t 1              & 1              & AL             & Autauga County & NA             & 8,405          & 754            & 157,345        & 7,554          & 9,257          & ⋯              & 0.383          & 3,767          & 9,825          & NA             & NA             & 4.6            & 17             & 376,259        & 2.7            &  7.4          \\\\\n",
       "\t 1              & 3              & AL             & Baldwin County & NA             & 7,457          & 2,460          & 519,994        & 7,006          & 7,908          & ⋯              & 0.344          & 9,875          & 28,700         & NA             & NA             & 4.3            & 52             & 1,255,425      & 3.2            &  5.6          \\\\\n",
       "\t 1              & 5              & AL             & Barbour County & NA             & 8,901          & 414            & 76,718         & 7,580          & 10,221         & ⋯              & 0.697          & 2,661          & 3,819          & NA             & NA             &  NA            &                &                &  NA            &   NA          \\\\\n",
       "\t 1              & 7              & AL             & Bibb County    & NA             & 10,729         & 407            & 64,629         & 9,124          & 12,334         & ⋯              & 0.546          & 1,934          & 3,539          & NA             & NA             & 7.8            & 13             & 158,530        & 4.1            & 13.3          \\\\\n",
       "\t 1              & 9              & AL             & Blount County  & NA             & 8,669          & 861            & 162,346        & 7,802          & 9,536          & ⋯              & 0.442          & 4,373          & 9,887          & NA             & NA             & 4.3            & 17             & 398,992        & 2.5            &  6.8          \\\\\n",
       "\\end{tabular}\n"
      ],
      "text/markdown": [
       "\n",
       "STATECODE | COUNTYCODE | State | County | County.that.was.not.ranked | Premature.death.Value | Premature.death.Numerator | Premature.death.Denominator | Premature.death.Lower.Confidence.Interval | Premature.death.Upper.Confidence.Interval | ⋯ | Children.eligible.for.free.lunch.Value | Children.eligible.for.free.lunch.Numerator | Children.eligible.for.free.lunch.Denominator | Children.eligible.for.free.lunch.Lower.Confidence.Interval | Children.eligible.for.free.lunch.Upper.Confidence.Interval | Homicide.rate.Value | Homicide.rate.Numerator | Homicide.rate.Denominator | Homicide.rate.Lower.Confidence.Interval | Homicide.rate.Upper.Confidence.Interval | \n",
       "|---|---|---|---|---|---|\n",
       "| 1              | 0              | AL             | Alabama        | NA             | 9,508          | 72,385         | 13,527,993     | 9,409          | 9,607          | ⋯              | 0.500          | 372,509        | 744,621        | NA             | NA             | 9.1            | 2,971          | 33,176,856     | 8.8            |  9.5           | \n",
       "| 1              | 1              | AL             | Autauga County | NA             | 8,405          | 754            | 157,345        | 7,554          | 9,257          | ⋯              | 0.383          | 3,767          | 9,825          | NA             | NA             | 4.6            | 17             | 376,259        | 2.7            |  7.4           | \n",
       "| 1              | 3              | AL             | Baldwin County | NA             | 7,457          | 2,460          | 519,994        | 7,006          | 7,908          | ⋯              | 0.344          | 9,875          | 28,700         | NA             | NA             | 4.3            | 52             | 1,255,425      | 3.2            |  5.6           | \n",
       "| 1              | 5              | AL             | Barbour County | NA             | 8,901          | 414            | 76,718         | 7,580          | 10,221         | ⋯              | 0.697          | 2,661          | 3,819          | NA             | NA             |  NA            |                |                |  NA            |   NA           | \n",
       "| 1              | 7              | AL             | Bibb County    | NA             | 10,729         | 407            | 64,629         | 9,124          | 12,334         | ⋯              | 0.546          | 1,934          | 3,539          | NA             | NA             | 7.8            | 13             | 158,530        | 4.1            | 13.3           | \n",
       "| 1              | 9              | AL             | Blount County  | NA             | 8,669          | 861            | 162,346        | 7,802          | 9,536          | ⋯              | 0.442          | 4,373          | 9,887          | NA             | NA             | 4.3            | 17             | 398,992        | 2.5            |  6.8           | \n",
       "\n",
       "\n"
      ],
      "text/plain": [
       "  STATECODE COUNTYCODE State County         County.that.was.not.ranked\n",
       "1 1         0          AL    Alabama        NA                        \n",
       "2 1         1          AL    Autauga County NA                        \n",
       "3 1         3          AL    Baldwin County NA                        \n",
       "4 1         5          AL    Barbour County NA                        \n",
       "5 1         7          AL    Bibb County    NA                        \n",
       "6 1         9          AL    Blount County  NA                        \n",
       "  Premature.death.Value Premature.death.Numerator Premature.death.Denominator\n",
       "1 9,508                 72,385                    13,527,993                 \n",
       "2 8,405                 754                       157,345                    \n",
       "3 7,457                 2,460                     519,994                    \n",
       "4 8,901                 414                       76,718                     \n",
       "5 10,729                407                       64,629                     \n",
       "6 8,669                 861                       162,346                    \n",
       "  Premature.death.Lower.Confidence.Interval\n",
       "1 9,409                                    \n",
       "2 7,554                                    \n",
       "3 7,006                                    \n",
       "4 7,580                                    \n",
       "5 9,124                                    \n",
       "6 7,802                                    \n",
       "  Premature.death.Upper.Confidence.Interval ⋯\n",
       "1 9,607                                     ⋯\n",
       "2 9,257                                     ⋯\n",
       "3 7,908                                     ⋯\n",
       "4 10,221                                    ⋯\n",
       "5 12,334                                    ⋯\n",
       "6 9,536                                     ⋯\n",
       "  Children.eligible.for.free.lunch.Value\n",
       "1 0.500                                 \n",
       "2 0.383                                 \n",
       "3 0.344                                 \n",
       "4 0.697                                 \n",
       "5 0.546                                 \n",
       "6 0.442                                 \n",
       "  Children.eligible.for.free.lunch.Numerator\n",
       "1 372,509                                   \n",
       "2 3,767                                     \n",
       "3 9,875                                     \n",
       "4 2,661                                     \n",
       "5 1,934                                     \n",
       "6 4,373                                     \n",
       "  Children.eligible.for.free.lunch.Denominator\n",
       "1 744,621                                     \n",
       "2 9,825                                       \n",
       "3 28,700                                      \n",
       "4 3,819                                       \n",
       "5 3,539                                       \n",
       "6 9,887                                       \n",
       "  Children.eligible.for.free.lunch.Lower.Confidence.Interval\n",
       "1 NA                                                        \n",
       "2 NA                                                        \n",
       "3 NA                                                        \n",
       "4 NA                                                        \n",
       "5 NA                                                        \n",
       "6 NA                                                        \n",
       "  Children.eligible.for.free.lunch.Upper.Confidence.Interval\n",
       "1 NA                                                        \n",
       "2 NA                                                        \n",
       "3 NA                                                        \n",
       "4 NA                                                        \n",
       "5 NA                                                        \n",
       "6 NA                                                        \n",
       "  Homicide.rate.Value Homicide.rate.Numerator Homicide.rate.Denominator\n",
       "1 9.1                 2,971                   33,176,856               \n",
       "2 4.6                 17                      376,259                  \n",
       "3 4.3                 52                      1,255,425                \n",
       "4  NA                                                                  \n",
       "5 7.8                 13                      158,530                  \n",
       "6 4.3                 17                      398,992                  \n",
       "  Homicide.rate.Lower.Confidence.Interval\n",
       "1 8.8                                    \n",
       "2 2.7                                    \n",
       "3 3.2                                    \n",
       "4  NA                                    \n",
       "5 4.1                                    \n",
       "6 2.5                                    \n",
       "  Homicide.rate.Upper.Confidence.Interval\n",
       "1  9.5                                   \n",
       "2  7.4                                   \n",
       "3  5.6                                   \n",
       "4   NA                                   \n",
       "5 13.3                                   \n",
       "6  6.8                                   "
      ]
     },
     "metadata": {},
     "output_type": "display_data"
    }
   ],
   "source": [
    "counties = read.csv(file = \"2015_CHR_Analytic_Data.csv\", header = TRUE)\n",
    "head(counties)"
   ]
  },
  {
   "cell_type": "markdown",
   "metadata": {},
   "source": [
    "$2.$ Using the K-means clustering and hirerarchichal clustering, split the counties by the predictor \"Adult obesity Value\" in three categories (low, medium and high obesity) and run the a new set of PCA and linear regressions, with the PCA regression values, for each split and explain wheter there is a better fit for the data. (20 points)"
   ]
  },
  {
   "attachments": {},
   "cell_type": "markdown",
   "metadata": {},
   "source": [
    "$3.$ Compare the distributions between Diabetic screening Value and Physical inactivity Value, are these two distributions similar? (10 points)\n",
    "1. Use the ks test \n",
    "2. Run a correlation test to compare these distributions"
   ]
  },
  {
   "attachments": {},
   "cell_type": "markdown",
   "metadata": {},
   "source": [
    "$4.$ Consider an example of a clinical trial of a proposed stroke-prevention medication.  Suppose 250 participants are randomly assigned to receive either the new drug or a placebo.  The participants are followed over the course of a 5-year period with the following results: (10 points)\n",
    "\n",
    "|Group\t|Stroke\t|n|\n",
    "|---|---|---|\n",
    "|new drug|\tyes\t|12|\n",
    "|new drug|\tno\t|108|\n",
    "|placebo|\tyes\t|28|\n",
    "|placebo|\tno\t|102|\n",
    "\n",
    "\ta.  Place new drug/placebo as rows and stroke y/n as columns, what does n1,1 equal?\n",
    "\tb.  What does E1,1 equal? (E is the expected value)\n",
    "\tc.  What is the appropriate test statistic to use?\n",
    "\td.  Perform the appropriate test.  \n",
    "\te.  What is the critical value of the test statistic? \n",
    "\tf.  What do you conclude? \n"
   ]
  },
  {
   "cell_type": "markdown",
   "metadata": {},
   "source": [
    "$5.$ In unsupervised machine learning one of the main requirements to run any test is that the outcome variable needs to come from a normal distribution (10 points)\n",
    "\n",
    "a. True\n",
    "\n",
    "b. False"
   ]
  },
  {
   "attachments": {},
   "cell_type": "markdown",
   "metadata": {},
   "source": [
    "$6.$ We will consider data from Stanford Heart Transplant Program, reported by Crowley and Hu (1977). The research question was whether receiving a heart transplant affected survival. \n",
    "Starting in November of 1967, 103 patients in need of heart transplant were accepted in the program. Sixty-nine of these patients received a transplant. Seventy-five people had an event, while 28 subjects were censored.  For each person in the program we have the date and age at the acceptance to the program, their de-identified ID, transplant status (and time of transplant if transplant was received), if a subject had a prior bypass surgery, survival time, and if the event occurred or if the subject was censored. These data are included as part of the R survival package (dataset named heart). \n",
    "\n",
    "Transplant status is an example of a time-varying covariate. Everybody starts as pre-transplant, then some people live to receive a transplant and others die prior to being able to receive one. If two people died at the same time, but one received a transplant 1 year prior to his death, and the other received a transplant 1 day prior to death, we cannot treat them in the same way. We must appropriately attribute a person’s time to either the “pre-transplant” or “post-transplant” period.\n",
    "The way to deal with this data is to have 2 records for the patients in the study. One for the pre-transplant time, and another one for post-transplant (those subjects who did not get a transplant will only have one record). \n",
    "\n",
    "(20 points)\n",
    "\n",
    "Covariate descriptions:\n",
    "start, stop, event:\tEntry and exit time and status for this interval of time\n",
    "age:\tage-48 years\n",
    "year:\tyear of acceptance (in years after 1 Nov 1967)\n",
    "surgery:\tprior bypass surgery 1=yes\n",
    "transplant:\treceived transplant 1=yes\n",
    "id:\tpatient id\n",
    "\n",
    "1. Compare the survival curves from people that recieve a transplant vs people that didn't are these two statistically different?\n",
    "2. Build a multivariable Cox PH model with age, year, prior surgery, and transplant as covariates, but ignore the time-varying nature of transplant. Hint(in the Surv object of the model you only need to specify the \"stop\", and \"event\" variables)\n",
    "    - What is the interpretation of the HR for transplant? \n",
    "3. Now build a multivariable Cox PH model with age, year, prior surgery, and transplant as covariates, and take into account the time-varying nature of transplant. Note you need to specify the \"start\" and \"stop\" time instead of one single time variable (stop) as you did above (in the Surv object of the model).\n",
    "    - What is the interpretation of the HR for transplant?\n",
    "    - Why do you think the results changed after taking into account the time-varying nature of transplant? "
   ]
  },
  {
   "cell_type": "code",
   "execution_count": 12,
   "metadata": {},
   "outputs": [
    {
     "data": {
      "text/html": [
       "<table>\n",
       "<thead><tr><th scope=col>start</th><th scope=col>stop</th><th scope=col>event</th><th scope=col>age</th><th scope=col>year</th><th scope=col>surgery</th><th scope=col>transplant</th><th scope=col>id</th></tr></thead>\n",
       "<tbody>\n",
       "\t<tr><td> 0        </td><td>50        </td><td>1         </td><td>-17.155373</td><td>0.1232033 </td><td>0         </td><td>0         </td><td>1         </td></tr>\n",
       "\t<tr><td> 0        </td><td> 6        </td><td>1         </td><td>  3.835729</td><td>0.2546201 </td><td>0         </td><td>0         </td><td>2         </td></tr>\n",
       "\t<tr><td> 0        </td><td> 1        </td><td>0         </td><td>  6.297057</td><td>0.2655715 </td><td>0         </td><td>0         </td><td>3         </td></tr>\n",
       "\t<tr><td> 1        </td><td>16        </td><td>1         </td><td>  6.297057</td><td>0.2655715 </td><td>0         </td><td>1         </td><td>3         </td></tr>\n",
       "\t<tr><td> 0        </td><td>36        </td><td>0         </td><td> -7.737166</td><td>0.4900753 </td><td>0         </td><td>0         </td><td>4         </td></tr>\n",
       "\t<tr><td>36        </td><td>39        </td><td>1         </td><td> -7.737166</td><td>0.4900753 </td><td>0         </td><td>1         </td><td>4         </td></tr>\n",
       "</tbody>\n",
       "</table>\n"
      ],
      "text/latex": [
       "\\begin{tabular}{r|llllllll}\n",
       " start & stop & event & age & year & surgery & transplant & id\\\\\n",
       "\\hline\n",
       "\t  0         & 50         & 1          & -17.155373 & 0.1232033  & 0          & 0          & 1         \\\\\n",
       "\t  0         &  6         & 1          &   3.835729 & 0.2546201  & 0          & 0          & 2         \\\\\n",
       "\t  0         &  1         & 0          &   6.297057 & 0.2655715  & 0          & 0          & 3         \\\\\n",
       "\t  1         & 16         & 1          &   6.297057 & 0.2655715  & 0          & 1          & 3         \\\\\n",
       "\t  0         & 36         & 0          &  -7.737166 & 0.4900753  & 0          & 0          & 4         \\\\\n",
       "\t 36         & 39         & 1          &  -7.737166 & 0.4900753  & 0          & 1          & 4         \\\\\n",
       "\\end{tabular}\n"
      ],
      "text/markdown": [
       "\n",
       "start | stop | event | age | year | surgery | transplant | id | \n",
       "|---|---|---|---|---|---|\n",
       "|  0         | 50         | 1          | -17.155373 | 0.1232033  | 0          | 0          | 1          | \n",
       "|  0         |  6         | 1          |   3.835729 | 0.2546201  | 0          | 0          | 2          | \n",
       "|  0         |  1         | 0          |   6.297057 | 0.2655715  | 0          | 0          | 3          | \n",
       "|  1         | 16         | 1          |   6.297057 | 0.2655715  | 0          | 1          | 3          | \n",
       "|  0         | 36         | 0          |  -7.737166 | 0.4900753  | 0          | 0          | 4          | \n",
       "| 36         | 39         | 1          |  -7.737166 | 0.4900753  | 0          | 1          | 4          | \n",
       "\n",
       "\n"
      ],
      "text/plain": [
       "  start stop event age        year      surgery transplant id\n",
       "1  0    50   1     -17.155373 0.1232033 0       0          1 \n",
       "2  0     6   1       3.835729 0.2546201 0       0          2 \n",
       "3  0     1   0       6.297057 0.2655715 0       0          3 \n",
       "4  1    16   1       6.297057 0.2655715 0       1          3 \n",
       "5  0    36   0      -7.737166 0.4900753 0       0          4 \n",
       "6 36    39   1      -7.737166 0.4900753 0       1          4 "
      ]
     },
     "metadata": {},
     "output_type": "display_data"
    }
   ],
   "source": [
    "library(survival)\n",
    "data(heart)\n",
    "head(heart)"
   ]
  }
 ],
 "metadata": {
  "kernelspec": {
   "display_name": "R",
   "language": "R",
   "name": "ir"
  },
  "language_info": {
   "codemirror_mode": "r",
   "file_extension": ".r",
   "mimetype": "text/x-r-source",
   "name": "R",
   "pygments_lexer": "r",
   "version": "3.3.2"
  }
 },
 "nbformat": 4,
 "nbformat_minor": 2
}
