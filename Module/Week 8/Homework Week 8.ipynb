{
 "cells": [
  {
   "cell_type": "markdown",
   "metadata": {},
   "source": [
    "# Homework Week 8\n",
    "\n",
    "For each of the following questions please show that the statistical assumptions for each of the respective tests are met. It is good practice always before start using statistical analysis to do descriptive statistics to understand you data. It is not required to show descriptive analysis here unless there is something important to report (transformations, deviation from normality, outliers, etc)."
   ]
  },
  {
   "cell_type": "markdown",
   "metadata": {},
   "source": [
    "1. The data in the table give the infant mortality rates per 1000 livebirths in the United States for the period 1960-2000\n",
    "\n",
    "\n",
    "![title](HW1.png)\n",
    "\n",
    "a. Fit a linear regression line relating infant mortality rate to chronological year using these data. Use a data transformation if necessary\n",
    "\n",
    "b. Test for significance of the linear relationship\n",
    "\n",
    "c. If the present trend continues for the next 5 years what would be the predicted infant mortality rate in 2010\n"
   ]
  },
  {
   "cell_type": "code",
   "execution_count": 19,
   "metadata": {},
   "outputs": [
    {
     "data": {
      "text/html": [
       "'a'"
      ],
      "text/latex": [
       "'a'"
      ],
      "text/markdown": [
       "'a'"
      ],
      "text/plain": [
       "[1] \"a\""
      ]
     },
     "metadata": {},
     "output_type": "display_data"
    },
    {
     "data": {
      "image/png": "[encoded data removed]",
      "text/plain": [
       "plot without title"
      ]
     },
     "metadata": {},
     "output_type": "display_data"
    }
   ],
   "source": [
    "#from the table above, we have the data from 1960 to 2005 of infant motality per 1000 livebirths:\n",
    "'a'\n",
    "#we have x values:\n",
    "x<-c(1960,1965,1970,1975,1980,1985,1990,1995,2000,2005)\n",
    "#and y values:\n",
    "y<-c(26.0,24.7,20.0,16.1,12.6,10.6,9.2,7.6,6.9,6.9)\n",
    "\n",
    "#we can draw a linear regression:\n",
    "relation <- lm(y ~ x)\n",
    "plot(x, y, xaxt=\"n\")\n",
    "axis(side=1, at = seq(1960, 2005, by = 5))\n",
    "axis(side=2, at= seq(0,30,1))\n",
    "abline(mod1, lwd=2)\n",
    "grid(nx = NULL,ny = NULL)"
   ]
  },
  {
   "cell_type": "code",
   "execution_count": 20,
   "metadata": {},
   "outputs": [
    {
     "data": {
      "text/html": [
       "'b'"
      ],
      "text/latex": [
       "'b'"
      ],
      "text/markdown": [
       "'b'"
      ],
      "text/plain": [
       "[1] \"b\""
      ]
     },
     "metadata": {},
     "output_type": "display_data"
    },
    {
     "data": {
      "text/html": [
       "<dl class=dl-horizontal>\n",
       "\t<dt>(Intercept)</dt>\n",
       "\t\t<dd>930.09515151514</dd>\n",
       "\t<dt>x</dt>\n",
       "\t\t<dd>-0.4620606060606</dd>\n",
       "</dl>\n"
      ],
      "text/latex": [
       "\\begin{description*}\n",
       "\\item[(Intercept)] 930.09515151514\n",
       "\\item[x] -0.4620606060606\n",
       "\\end{description*}\n"
      ],
      "text/markdown": [
       "(Intercept)\n",
       ":   930.09515151514x\n",
       ":   -0.4620606060606\n",
       "\n"
      ],
      "text/plain": [
       "(Intercept)           x \n",
       "930.0951515  -0.4620606 "
      ]
     },
     "metadata": {},
     "output_type": "display_data"
    },
    {
     "data": {
      "text/plain": [
       "\n",
       "Call:\n",
       "lm(formula = y ~ x)\n",
       "\n",
       "Residuals:\n",
       "   Min     1Q Median     3Q    Max \n",
       "-2.615 -1.418 -0.260  1.389  3.236 \n",
       "\n",
       "Coefficients:\n",
       "             Estimate Std. Error t value Pr(>|t|)    \n",
       "(Intercept) 930.09515   93.70477   9.926 8.97e-06 ***\n",
       "x            -0.46206    0.04726  -9.776 1.00e-05 ***\n",
       "---\n",
       "Signif. codes:  0 ‘***’ 0.001 ‘**’ 0.01 ‘*’ 0.05 ‘.’ 0.1 ‘ ’ 1\n",
       "\n",
       "Residual standard error: 2.147 on 8 degrees of freedom\n",
       "Multiple R-squared:  0.9228,\tAdjusted R-squared:  0.9131 \n",
       "F-statistic: 95.57 on 1 and 8 DF,  p-value: 1.005e-05\n"
      ]
     },
     "metadata": {},
     "output_type": "display_data"
    }
   ],
   "source": [
    "'b'\n",
    "coef(relation)\n",
    "summary(relation)"
   ]
  },
  {
   "cell_type": "code",
   "execution_count": 15,
   "metadata": {},
   "outputs": [
    {
     "data": {
      "text/html": [
       "'c'"
      ],
      "text/latex": [
       "'c'"
      ],
      "text/markdown": [
       "'c'"
      ],
      "text/plain": [
       "[1] \"c\""
      ]
     },
     "metadata": {},
     "output_type": "display_data"
    },
    {
     "data": {
      "text/html": [
       "<strong>1:</strong> 1.35333333333335"
      ],
      "text/latex": [
       "\\textbf{1:} 1.35333333333335"
      ],
      "text/markdown": [
       "**1:** 1.35333333333335"
      ],
      "text/plain": [
       "       1 \n",
       "1.353333 "
      ]
     },
     "metadata": {},
     "output_type": "display_data"
    }
   ],
   "source": [
    "'c'\n",
    "a<-data.frame(x=2010)\n",
    "predict(relation,a)"
   ]
  },
  {
   "cell_type": "markdown",
   "metadata": {},
   "source": [
    "$2.$ The file HackerRank-Developer-Survey-2018-Numeric.csv shows an extensive survey obtained in 2016 to 25000 Hackers. The survey asked developers many questions around their skills, educational background, current role, and more... Answer the following questions using the data from this file. The file HackerRank-Developer-Survey-2018-Numeric-Mapping.csv has the metadata that explains the coding on each variable. \n",
    "This data was obtained from Kaggle at [https://www.kaggle.com/hackerrank/developer-survey-2018](https://www.kaggle.com/hackerrank/developer-survey-2018) There is more information regarding the survey and the data itself at the website.\n",
    "\n",
    "a. Is there a relationship between gender and the Age that the hacker begin coding(q1AgeBeginCoding)? (Use a logistic regression)\n",
    "\n",
    "b. Does age to begin coding, and gender have an effect on job level (q8JobLevel)? (Use MLR)\n",
    "\n",
    "c. There is an increase focus on understanding trends about women pursuing careers as developers are there any relationships in the data that could be useful advice to women that want to pursue a career as a developer? The zip file has many other variables that you can use for this analysis. "
   ]
  },
  {
   "cell_type": "code",
   "execution_count": 22,
   "metadata": {},
   "outputs": [
    {
     "data": {
      "text/html": [
       "<table>\n",
       "<thead><tr><th scope=col>RespondentID</th><th scope=col>StartDate</th><th scope=col>EndDate</th><th scope=col>CountryNumeric2</th><th scope=col>q1AgeBeginCoding</th><th scope=col>q2Age</th><th scope=col>q3Gender</th><th scope=col>q4Education</th><th scope=col>q0004_other</th><th scope=col>q5DegreeFocus</th><th scope=col>⋯</th><th scope=col>q30LearnCodeOther</th><th scope=col>q0030_other</th><th scope=col>q31Level3</th><th scope=col>q32RecommendHackerRank</th><th scope=col>q0032_other</th><th scope=col>q33HackerRankChallforJob</th><th scope=col>q34PositiveExp</th><th scope=col>q34IdealLengHackerRankTest</th><th scope=col>q0035_other</th><th scope=col>q36Level4</th></tr></thead>\n",
       "<tbody>\n",
       "\t<tr><td>6464453728                        </td><td>10/19/17 11:51                    </td><td>10/20/17 12:05                    </td><td>148                               </td><td>3                                 </td><td>3                                 </td><td>2                                 </td><td>3                                 </td><td>                                  </td><td>1                                 </td><td>⋯                                 </td><td>1                                 </td><td>datacamp                          </td><td>1                                 </td><td>1                                 </td><td>                                  </td><td>2                                 </td><td>NA                                </td><td>#NULL!                            </td><td>                                  </td><td>2                                 </td></tr>\n",
       "\t<tr><td>6478031510                        </td><td>10/26/17 6:18                     </td><td>10/26/17 7:49                     </td><td>164                               </td><td>3                                 </td><td>4                                 </td><td>1                                 </td><td>7                                 </td><td>                                  </td><td>2                                 </td><td>⋯                                 </td><td>0                                 </td><td>                                  </td><td>1                                 </td><td>1                                 </td><td>                                  </td><td>2                                 </td><td>NA                                </td><td>#NULL!                            </td><td>                                  </td><td>2                                 </td></tr>\n",
       "\t<tr><td>6464392829                        </td><td>10/19/17 10:44                    </td><td>10/19/17 10:56                    </td><td> 98                               </td><td>2                                 </td><td>2                                 </td><td>2                                 </td><td>3                                 </td><td>                                  </td><td>2                                 </td><td>⋯                                 </td><td>0                                 </td><td>                                  </td><td>1                                 </td><td>1                                 </td><td>                                  </td><td>2                                 </td><td>NA                                </td><td>#NULL!                            </td><td>                                  </td><td>2                                 </td></tr>\n",
       "\t<tr><td>6481629912                        </td><td>10/27/17 1:51                     </td><td>10/27/17 2:05                     </td><td> 43                               </td><td>2                                 </td><td>2                                 </td><td>1                                 </td><td>5                                 </td><td>                                  </td><td>1                                 </td><td>⋯                                 </td><td>0                                 </td><td>                                  </td><td>1                                 </td><td>1                                 </td><td>                                  </td><td>2                                 </td><td>NA                                </td><td>#NULL!                            </td><td>                                  </td><td>3                                 </td></tr>\n",
       "\t<tr><td>6488385057                        </td><td>10/31/17 11:46                    </td><td>10/31/17 11:59                    </td><td> NA                               </td><td>3                                 </td><td>4                                 </td><td>2                                 </td><td>5                                 </td><td>                                  </td><td>0                                 </td><td>⋯                                 </td><td>1                                 </td><td>Blogs/articles by industry leaders</td><td>1                                 </td><td>1                                 </td><td>                                  </td><td>2                                 </td><td>NA                                </td><td>#NULL!                            </td><td>                                  </td><td>3                                 </td></tr>\n",
       "\t<tr><td>6463843138                        </td><td>10/19/17 3:02                     </td><td>10/19/17 3:18                     </td><td>167                               </td><td>8                                 </td><td>5                                 </td><td>1                                 </td><td>5                                 </td><td>                                  </td><td>1                                 </td><td>⋯                                 </td><td>1                                 </td><td>SoloLearn                         </td><td>1                                 </td><td>1                                 </td><td>                                  </td><td>2                                 </td><td>NA                                </td><td>#NULL!                            </td><td>                                  </td><td>2                                 </td></tr>\n",
       "</tbody>\n",
       "</table>\n"
      ],
      "text/latex": [
       "\\begin{tabular}{r|lllllllllllllllllllllllllllllllllllllllllllllllllllllllllllllllllllllllllllllllllllllllllllllllllllllllllllllllllllllllllllllllllllllllllllllllllllllllllllllllllllllllllllllllllllllllllllllllllllllllllllllllllllllllllllllllllllllllllllllllllllllllllll}\n",
       " RespondentID & StartDate & EndDate & CountryNumeric2 & q1AgeBeginCoding & q2Age & q3Gender & q4Education & q0004\\_other & q5DegreeFocus & ⋯ & q30LearnCodeOther & q0030\\_other & q31Level3 & q32RecommendHackerRank & q0032\\_other & q33HackerRankChallforJob & q34PositiveExp & q34IdealLengHackerRankTest & q0035\\_other & q36Level4\\\\\n",
       "\\hline\n",
       "\t 6464453728                         & 10/19/17 11:51                     & 10/20/17 12:05                     & 148                                & 3                                  & 3                                  & 2                                  & 3                                  &                                    & 1                                  & ⋯                                  & 1                                  & datacamp                           & 1                                  & 1                                  &                                    & 2                                  & NA                                 & \\#NULL!                           &                                    & 2                                 \\\\\n",
       "\t 6478031510                         & 10/26/17 6:18                      & 10/26/17 7:49                      & 164                                & 3                                  & 4                                  & 1                                  & 7                                  &                                    & 2                                  & ⋯                                  & 0                                  &                                    & 1                                  & 1                                  &                                    & 2                                  & NA                                 & \\#NULL!                           &                                    & 2                                 \\\\\n",
       "\t 6464392829                         & 10/19/17 10:44                     & 10/19/17 10:56                     &  98                                & 2                                  & 2                                  & 2                                  & 3                                  &                                    & 2                                  & ⋯                                  & 0                                  &                                    & 1                                  & 1                                  &                                    & 2                                  & NA                                 & \\#NULL!                           &                                    & 2                                 \\\\\n",
       "\t 6481629912                         & 10/27/17 1:51                      & 10/27/17 2:05                      &  43                                & 2                                  & 2                                  & 1                                  & 5                                  &                                    & 1                                  & ⋯                                  & 0                                  &                                    & 1                                  & 1                                  &                                    & 2                                  & NA                                 & \\#NULL!                           &                                    & 3                                 \\\\\n",
       "\t 6488385057                         & 10/31/17 11:46                     & 10/31/17 11:59                     &  NA                                & 3                                  & 4                                  & 2                                  & 5                                  &                                    & 0                                  & ⋯                                  & 1                                  & Blogs/articles by industry leaders & 1                                  & 1                                  &                                    & 2                                  & NA                                 & \\#NULL!                           &                                    & 3                                 \\\\\n",
       "\t 6463843138                         & 10/19/17 3:02                      & 10/19/17 3:18                      & 167                                & 8                                  & 5                                  & 1                                  & 5                                  &                                    & 1                                  & ⋯                                  & 1                                  & SoloLearn                          & 1                                  & 1                                  &                                    & 2                                  & NA                                 & \\#NULL!                           &                                    & 2                                 \\\\\n",
       "\\end{tabular}\n"
      ],
      "text/markdown": [
       "\n",
       "RespondentID | StartDate | EndDate | CountryNumeric2 | q1AgeBeginCoding | q2Age | q3Gender | q4Education | q0004_other | q5DegreeFocus | ⋯ | q30LearnCodeOther | q0030_other | q31Level3 | q32RecommendHackerRank | q0032_other | q33HackerRankChallforJob | q34PositiveExp | q34IdealLengHackerRankTest | q0035_other | q36Level4 | \n",
       "|---|---|---|---|---|---|\n",
       "| 6464453728                         | 10/19/17 11:51                     | 10/20/17 12:05                     | 148                                | 3                                  | 3                                  | 2                                  | 3                                  |                                    | 1                                  | ⋯                                  | 1                                  | datacamp                           | 1                                  | 1                                  |                                    | 2                                  | NA                                 | #NULL!                             |                                    | 2                                  | \n",
       "| 6478031510                         | 10/26/17 6:18                      | 10/26/17 7:49                      | 164                                | 3                                  | 4                                  | 1                                  | 7                                  |                                    | 2                                  | ⋯                                  | 0                                  |                                    | 1                                  | 1                                  |                                    | 2                                  | NA                                 | #NULL!                             |                                    | 2                                  | \n",
       "| 6464392829                         | 10/19/17 10:44                     | 10/19/17 10:56                     |  98                                | 2                                  | 2                                  | 2                                  | 3                                  |                                    | 2                                  | ⋯                                  | 0                                  |                                    | 1                                  | 1                                  |                                    | 2                                  | NA                                 | #NULL!                             |                                    | 2                                  | \n",
       "| 6481629912                         | 10/27/17 1:51                      | 10/27/17 2:05                      |  43                                | 2                                  | 2                                  | 1                                  | 5                                  |                                    | 1                                  | ⋯                                  | 0                                  |                                    | 1                                  | 1                                  |                                    | 2                                  | NA                                 | #NULL!                             |                                    | 3                                  | \n",
       "| 6488385057                         | 10/31/17 11:46                     | 10/31/17 11:59                     |  NA                                | 3                                  | 4                                  | 2                                  | 5                                  |                                    | 0                                  | ⋯                                  | 1                                  | Blogs/articles by industry leaders | 1                                  | 1                                  |                                    | 2                                  | NA                                 | #NULL!                             |                                    | 3                                  | \n",
       "| 6463843138                         | 10/19/17 3:02                      | 10/19/17 3:18                      | 167                                | 8                                  | 5                                  | 1                                  | 5                                  |                                    | 1                                  | ⋯                                  | 1                                  | SoloLearn                          | 1                                  | 1                                  |                                    | 2                                  | NA                                 | #NULL!                             |                                    | 2                                  | \n",
       "\n",
       "\n"
      ],
      "text/plain": [
       "  RespondentID StartDate      EndDate        CountryNumeric2 q1AgeBeginCoding\n",
       "1 6464453728   10/19/17 11:51 10/20/17 12:05 148             3               \n",
       "2 6478031510   10/26/17 6:18  10/26/17 7:49  164             3               \n",
       "3 6464392829   10/19/17 10:44 10/19/17 10:56  98             2               \n",
       "4 6481629912   10/27/17 1:51  10/27/17 2:05   43             2               \n",
       "5 6488385057   10/31/17 11:46 10/31/17 11:59  NA             3               \n",
       "6 6463843138   10/19/17 3:02  10/19/17 3:18  167             8               \n",
       "  q2Age q3Gender q4Education q0004_other q5DegreeFocus ⋯ q30LearnCodeOther\n",
       "1 3     2        3                       1             ⋯ 1                \n",
       "2 4     1        7                       2             ⋯ 0                \n",
       "3 2     2        3                       2             ⋯ 0                \n",
       "4 2     1        5                       1             ⋯ 0                \n",
       "5 4     2        5                       0             ⋯ 1                \n",
       "6 5     1        5                       1             ⋯ 1                \n",
       "  q0030_other                        q31Level3 q32RecommendHackerRank\n",
       "1 datacamp                           1         1                     \n",
       "2                                    1         1                     \n",
       "3                                    1         1                     \n",
       "4                                    1         1                     \n",
       "5 Blogs/articles by industry leaders 1         1                     \n",
       "6 SoloLearn                          1         1                     \n",
       "  q0032_other q33HackerRankChallforJob q34PositiveExp\n",
       "1             2                        NA            \n",
       "2             2                        NA            \n",
       "3             2                        NA            \n",
       "4             2                        NA            \n",
       "5             2                        NA            \n",
       "6             2                        NA            \n",
       "  q34IdealLengHackerRankTest q0035_other q36Level4\n",
       "1 #NULL!                                 2        \n",
       "2 #NULL!                                 2        \n",
       "3 #NULL!                                 2        \n",
       "4 #NULL!                                 3        \n",
       "5 #NULL!                                 3        \n",
       "6 #NULL!                                 2        "
      ]
     },
     "metadata": {},
     "output_type": "display_data"
    }
   ],
   "source": [
    "#hacker <- unzip('developer-survey-2018.zip')\n",
    "dnumber <- read.csv(file = \"HackerRank-Developer-Survey-2018-Numeric.csv\",\n",
    "                      header = TRUE,\n",
    "                      dec = \".\")\n",
    "head(dnumber)"
   ]
  },
  {
   "cell_type": "code",
   "execution_count": 38,
   "metadata": {},
   "outputs": [
    {
     "data": {
      "text/html": [
       "'a. Is there a relationship between gender and the Age that the hacker begin coding(q1AgeBeginCoding)? (Use a logistic regression)'"
      ],
      "text/latex": [
       "'a. Is there a relationship between gender and the Age that the hacker begin coding(q1AgeBeginCoding)? (Use a logistic regression)'"
      ],
      "text/markdown": [
       "'a. Is there a relationship between gender and the Age that the hacker begin coding(q1AgeBeginCoding)? (Use a logistic regression)'"
      ],
      "text/plain": [
       "[1] \"a. Is there a relationship between gender and the Age that the hacker begin coding(q1AgeBeginCoding)? (Use a logistic regression)\""
      ]
     },
     "metadata": {},
     "output_type": "display_data"
    },
    {
     "name": "stderr",
     "output_type": "stream",
     "text": [
      "Warning message:\n",
      "“glm.fit: fitted probabilities numerically 0 or 1 occurred”"
     ]
    },
    {
     "data": {
      "text/plain": [
       "\n",
       "Call:\n",
       "glm(formula = q1AgeBeginCoding ~ q2Age + q3Gender, family = binomial, \n",
       "    data = input)\n",
       "\n",
       "Deviance Residuals: \n",
       "    Min       1Q   Median       3Q      Max  \n",
       "-4.1390   0.0195   0.0340   0.0340   1.9250  \n",
       "\n",
       "Coefficients:\n",
       "             Estimate Std. Error z value Pr(>|z|)    \n",
       "(Intercept)   -1.6823     0.6044  -2.783  0.00538 ** \n",
       "q2Age1        19.0499  7894.4648   0.002  0.99807    \n",
       "q2Age2         3.6582     0.8131   4.499 6.83e-06 ***\n",
       "q2Age3         5.0975     0.6579   7.748 9.36e-15 ***\n",
       "q2Age4         6.2065     0.8985   6.908 4.92e-12 ***\n",
       "q2Age5         5.5807     1.1427   4.884 1.04e-06 ***\n",
       "q2Age6        19.3586  1335.3679   0.014  0.98843    \n",
       "q2Age7        19.2533  2879.9944   0.007  0.99467    \n",
       "q2Age8        19.2070  8813.9117   0.002  0.99826    \n",
       "q2Age9        18.9441  9888.5774   0.002  0.99847    \n",
       "q3Gender1      4.0414     0.6829   5.918 3.27e-09 ***\n",
       "q3Gender2      3.5000     0.8222   4.257 2.07e-05 ***\n",
       "q3Gender3     17.8800  2530.6180   0.007  0.99436    \n",
       "---\n",
       "Signif. codes:  0 ‘***’ 0.001 ‘**’ 0.01 ‘*’ 0.05 ‘.’ 0.1 ‘ ’ 1\n",
       "\n",
       "(Dispersion parameter for binomial family taken to be 1)\n",
       "\n",
       "    Null deviance: 463.71  on 25089  degrees of freedom\n",
       "Residual deviance: 264.34  on 25077  degrees of freedom\n",
       "AIC: 290.34\n",
       "\n",
       "Number of Fisher Scoring iterations: 20\n"
      ]
     },
     "metadata": {},
     "output_type": "display_data"
    },
    {
     "data": {
      "text/html": [
       "'the summary showed that only age3,4,5 and gender 1,2 had impact to age begin coding'"
      ],
      "text/latex": [
       "'the summary showed that only age3,4,5 and gender 1,2 had impact to age begin coding'"
      ],
      "text/markdown": [
       "'the summary showed that only age3,4,5 and gender 1,2 had impact to age begin coding'"
      ],
      "text/plain": [
       "[1] \"the summary showed that only age3,4,5 and gender 1,2 had impact to age begin coding\""
      ]
     },
     "metadata": {},
     "output_type": "display_data"
    }
   ],
   "source": [
    "'a. Is there a relationship between gender and the Age that the hacker begin coding(q1AgeBeginCoding)? (Use a logistic regression)'\n",
    "agegender <- dnumber[,c(\"q1AgeBeginCoding\",\"q2Age\",\"q3Gender\")]\n",
    "genderage <- glm(q1AgeBeginCoding ~ q2Age + q3Gender, data = input, family = binomial)\n",
    "summary(genderage)\n",
    "'the summary showed that only age3,4,5 and gender 1,2 had impact to age begin coding'"
   ]
  },
  {
   "cell_type": "code",
   "execution_count": 52,
   "metadata": {},
   "outputs": [
    {
     "data": {
      "text/html": [
       "'b. Does age to begin coding, and gender have an effect on job level (q8JobLevel)? (Use MLR)'"
      ],
      "text/latex": [
       "'b. Does age to begin coding, and gender have an effect on job level (q8JobLevel)? (Use MLR)'"
      ],
      "text/markdown": [
       "'b. Does age to begin coding, and gender have an effect on job level (q8JobLevel)? (Use MLR)'"
      ],
      "text/plain": [
       "[1] \"b. Does age to begin coding, and gender have an effect on job level (q8JobLevel)? (Use MLR)\""
      ]
     },
     "metadata": {},
     "output_type": "display_data"
    },
    {
     "data": {
      "text/html": [
       "<dl class=dl-horizontal>\n",
       "\t<dt>(Intercept)</dt>\n",
       "\t\t<dd>2.51563465420466</dd>\n",
       "\t<dt>q1AgeBeginCoding1</dt>\n",
       "\t\t<dd>2.09144866717192</dd>\n",
       "\t<dt>q1AgeBeginCoding2</dt>\n",
       "\t\t<dd>1.14794809388696</dd>\n",
       "\t<dt>q1AgeBeginCoding3</dt>\n",
       "\t\t<dd>0.694864905675439</dd>\n",
       "\t<dt>q1AgeBeginCoding4</dt>\n",
       "\t\t<dd>1.59006346200361</dd>\n",
       "\t<dt>q1AgeBeginCoding5</dt>\n",
       "\t\t<dd>1.37558190094415</dd>\n",
       "\t<dt>q1AgeBeginCoding6</dt>\n",
       "\t\t<dd>1.03979610601899</dd>\n",
       "\t<dt>q1AgeBeginCoding7</dt>\n",
       "\t\t<dd>0.697158988270126</dd>\n",
       "\t<dt>q1AgeBeginCoding8</dt>\n",
       "\t\t<dd>0.350557208569756</dd>\n",
       "\t<dt>q1AgeBeginCoding9</dt>\n",
       "\t\t<dd>1.78022120922637</dd>\n",
       "\t<dt>q3Gender1</dt>\n",
       "\t\t<dd>-0.354042538844582</dd>\n",
       "\t<dt>q3Gender2</dt>\n",
       "\t\t<dd>-1.05513228997499</dd>\n",
       "\t<dt>q3Gender3</dt>\n",
       "\t\t<dd>-0.569661210489234</dd>\n",
       "</dl>\n"
      ],
      "text/latex": [
       "\\begin{description*}\n",
       "\\item[(Intercept)] 2.51563465420466\n",
       "\\item[q1AgeBeginCoding1] 2.09144866717192\n",
       "\\item[q1AgeBeginCoding2] 1.14794809388696\n",
       "\\item[q1AgeBeginCoding3] 0.694864905675439\n",
       "\\item[q1AgeBeginCoding4] 1.59006346200361\n",
       "\\item[q1AgeBeginCoding5] 1.37558190094415\n",
       "\\item[q1AgeBeginCoding6] 1.03979610601899\n",
       "\\item[q1AgeBeginCoding7] 0.697158988270126\n",
       "\\item[q1AgeBeginCoding8] 0.350557208569756\n",
       "\\item[q1AgeBeginCoding9] 1.78022120922637\n",
       "\\item[q3Gender1] -0.354042538844582\n",
       "\\item[q3Gender2] -1.05513228997499\n",
       "\\item[q3Gender3] -0.569661210489234\n",
       "\\end{description*}\n"
      ],
      "text/markdown": [
       "(Intercept)\n",
       ":   2.51563465420466q1AgeBeginCoding1\n",
       ":   2.09144866717192q1AgeBeginCoding2\n",
       ":   1.14794809388696q1AgeBeginCoding3\n",
       ":   0.694864905675439q1AgeBeginCoding4\n",
       ":   1.59006346200361q1AgeBeginCoding5\n",
       ":   1.37558190094415q1AgeBeginCoding6\n",
       ":   1.03979610601899q1AgeBeginCoding7\n",
       ":   0.697158988270126q1AgeBeginCoding8\n",
       ":   0.350557208569756q1AgeBeginCoding9\n",
       ":   1.78022120922637q3Gender1\n",
       ":   -0.354042538844582q3Gender2\n",
       ":   -1.05513228997499q3Gender3\n",
       ":   -0.569661210489234\n",
       "\n"
      ],
      "text/plain": [
       "      (Intercept) q1AgeBeginCoding1 q1AgeBeginCoding2 q1AgeBeginCoding3 \n",
       "        2.5156347         2.0914487         1.1479481         0.6948649 \n",
       "q1AgeBeginCoding4 q1AgeBeginCoding5 q1AgeBeginCoding6 q1AgeBeginCoding7 \n",
       "        1.5900635         1.3755819         1.0397961         0.6971590 \n",
       "q1AgeBeginCoding8 q1AgeBeginCoding9         q3Gender1         q3Gender2 \n",
       "        0.3505572         1.7802212        -0.3540425        -1.0551323 \n",
       "        q3Gender3 \n",
       "       -0.5696612 "
      ]
     },
     "metadata": {},
     "output_type": "display_data"
    },
    {
     "data": {
      "text/plain": [
       "\n",
       "Call:\n",
       "lm(formula = q8JobLevel ~ q1AgeBeginCoding + q3Gender, data = jobagegender)\n",
       "\n",
       "Residuals:\n",
       "    Min      1Q  Median      3Q     Max \n",
       "-4.2530 -1.8565 -0.1554  1.6905  7.8446 \n",
       "\n",
       "Coefficients:\n",
       "                  Estimate Std. Error t value Pr(>|t|)    \n",
       "(Intercept)         2.5156     0.4231   5.945 2.80e-09 ***\n",
       "q1AgeBeginCoding1   2.0914     0.4229   4.945 7.65e-07 ***\n",
       "q1AgeBeginCoding2   1.1479     0.4181   2.746 0.006043 ** \n",
       "q1AgeBeginCoding3   0.6949     0.4173   1.665 0.095896 .  \n",
       "q1AgeBeginCoding4   1.5901     0.4185   3.800 0.000145 ***\n",
       "q1AgeBeginCoding5   1.3756     0.4257   3.231 0.001234 ** \n",
       "q1AgeBeginCoding6   1.0398     0.4455   2.334 0.019602 *  \n",
       "q1AgeBeginCoding7   0.6972     0.4945   1.410 0.158588    \n",
       "q1AgeBeginCoding8   0.3506     0.5594   0.627 0.530907    \n",
       "q1AgeBeginCoding9   1.7802     0.8758   2.033 0.042084 *  \n",
       "q3Gender1          -0.3540     0.2754  -1.286 0.198571    \n",
       "q3Gender2          -1.0551     0.2770  -3.809 0.000140 ***\n",
       "q3Gender3          -0.5697     0.3371  -1.690 0.091059 .  \n",
       "---\n",
       "Signif. codes:  0 ‘***’ 0.001 ‘**’ 0.01 ‘*’ 0.05 ‘.’ 0.1 ‘ ’ 1\n",
       "\n",
       "Residual standard error: 2.174 on 25077 degrees of freedom\n",
       "Multiple R-squared:  0.04787,\tAdjusted R-squared:  0.04741 \n",
       "F-statistic: 105.1 on 12 and 25077 DF,  p-value: < 2.2e-16\n"
      ]
     },
     "metadata": {},
     "output_type": "display_data"
    },
    {
     "data": {
      "text/html": [
       "0.0478687317039389"
      ],
      "text/latex": [
       "0.0478687317039389"
      ],
      "text/markdown": [
       "0.0478687317039389"
      ],
      "text/plain": [
       "[1] 0.04786873"
      ]
     },
     "metadata": {},
     "output_type": "display_data"
    }
   ],
   "source": [
    "'b. Does age to begin coding, and gender have an effect on job level (q8JobLevel)? (Use MLR)'\n",
    "jobagegender <- dnumber[,c(\"q1AgeBeginCoding\",\"q3Gender\",\"q8JobLevel\")]\n",
    "# Create the relationship model.\n",
    "model <- lm(q8JobLevel~q1AgeBeginCoding+q3Gender, data = jobagegender)\n",
    "\n",
    "coef(model)\n",
    "summary(model)\n",
    "rsquared(model)\n",
    "\n"
   ]
  },
  {
   "cell_type": "markdown",
   "metadata": {},
   "source": [
    "$3.$ The data set below represents the expected recovery time (in weeks) for patients after a surgical procedure with different post-operational methods for recovery. Negative values represent a faster recovery time than expected. The control patients followed a rutine post-operational for this type of procedure.\n",
    "\n",
    "Using the data set below compare the effect of three treatments on the expected time of recovery after surgery. (Use ANOVA)"
   ]
  },
  {
   "cell_type": "code",
   "execution_count": 64,
   "metadata": {},
   "outputs": [],
   "source": [
    "Recovery = c(.53, .36, .20, -.37, -.60, -.64, -.68, -1.27, .73, .31, .03, -.29, -.56, -.96, -1.61,\n",
    "         -.78, -.86, -1.35, -1.48, -1.52, -2.04, -2.83)\n",
    "treatment = c(rep(\"control\",8), rep(\"surgery\",7), rep(\"acupunture\",7))\n",
    "data = data.frame(Recovery, treatment)\n"
   ]
  },
  {
   "cell_type": "code",
   "execution_count": 59,
   "metadata": {},
   "outputs": [
    {
     "data": {
      "text/plain": [
       "            Df Sum Sq Mean Sq F value  Pr(>F)   \n",
       "treatment    2  7.224   3.612   7.289 0.00447 **\n",
       "Residuals   19  9.415   0.496                   \n",
       "---\n",
       "Signif. codes:  0 ‘***’ 0.001 ‘**’ 0.01 ‘*’ 0.05 ‘.’ 0.1 ‘ ’ 1"
      ]
     },
     "metadata": {},
     "output_type": "display_data"
    }
   ],
   "source": [
    "res.aov <-aov(Recovery ~ treatment, data = data)\n",
    "summary(res.aov)"
   ]
  },
  {
   "cell_type": "code",
   "execution_count": 60,
   "metadata": {},
   "outputs": [
    {
     "data": {
      "text/plain": [
       "  Tukey multiple comparisons of means\n",
       "    95% family-wise confidence level\n",
       "\n",
       "Fit: aov(formula = Recovery ~ treatment, data = data)\n",
       "\n",
       "$treatment\n",
       "                          diff        lwr       upr     p adj\n",
       "control-acupunture  1.24267857  0.3171207 2.1682364 0.0078656\n",
       "surgery-acupunture  1.21571429  0.2598022 2.1716263 0.0116776\n",
       "surgery-control    -0.02696429 -0.9525222 0.8985936 0.9969851\n"
      ]
     },
     "metadata": {},
     "output_type": "display_data"
    }
   ],
   "source": [
    "TukeyHSD(res.aov)\n",
    "\"this showed there are significant between accupuncture compared with control and surgery\""
   ]
  },
  {
   "cell_type": "code",
   "execution_count": 62,
   "metadata": {},
   "outputs": [
    {
     "data": {
      "image/png": "[encoded data removed]",
      "text/plain": [
       "Plot with title “”"
      ]
     },
     "metadata": {},
     "output_type": "display_data"
    }
   ],
   "source": [
    "plot(res.aov, 2)"
   ]
  },
  {
   "cell_type": "code",
   "execution_count": null,
   "metadata": {},
   "outputs": [],
   "source": []
  }
 ],
 "metadata": {
  "kernelspec": {
   "display_name": "R",
   "language": "R",
   "name": "ir"
  },
  "language_info": {
   "codemirror_mode": "r",
   "file_extension": ".r",
   "mimetype": "text/x-r-source",
   "name": "R",
   "pygments_lexer": "r",
   "version": "3.3.2"
  }
 },
 "nbformat": 4,
 "nbformat_minor": 2
}
