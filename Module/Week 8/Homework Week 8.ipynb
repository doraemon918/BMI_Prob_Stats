{
 "cells": [
  {
   "cell_type": "markdown",
   "metadata": {},
   "source": [
    "# Homework Week 8\n",
    "\n",
    "For each of the following questions please show that the statistical assumptions for each of the respective tests are met. It is good practice always before start using statistical analysis to do descriptive statistics to understand you data. It is not required to show descriptive analysis here unless there is something important to report (transformations, deviation from normality, outliers, etc)."
   ]
  },
  {
   "cell_type": "markdown",
   "metadata": {},
   "source": [
    "1. The data in the table give the infant mortality rates per 1000 livebirths in the United States for the period 1960-2000\n",
    "\n",
    "\n",
    "![title](HW1.png)\n",
    "\n",
    "a. Fit a linear regression line relating infant mortality rate to chronological year using these data. Use a data transformation if necessary\n",
    "\n",
    "b. Test for significance of the linear relationship\n",
    "\n",
    "c. If the present trend continues for the next 5 years what would be the predicted infant mortality rate in 2010\n"
   ]
  },
  {
   "cell_type": "code",
   "execution_count": 1,
   "metadata": {},
   "outputs": [
    {
     "data": {
      "text/html": [
       "'a'"
      ],
      "text/latex": [
       "'a'"
      ],
      "text/markdown": [
       "'a'"
      ],
      "text/plain": [
       "[1] \"a\""
      ]
     },
     "metadata": {},
     "output_type": "display_data"
    },
    {
     "data": {
      "image/png": "[encoded data removed]",
      "text/plain": [
       "plot without title"
      ]
     },
     "metadata": {},
     "output_type": "display_data"
    }
   ],
   "source": [
    "#from the table above, we have the data from 1960 to 2005 of infant motality per 1000 livebirths:\n",
    "'a'\n",
    "#we have x values:\n",
    "x<-c(1960,1965,1970,1975,1980,1985,1990,1995,2000,2005)\n",
    "#and y values:\n",
    "y<-c(26.0,24.7,20.0,16.1,12.6,10.6,9.2,7.6,6.9,6.9)\n",
    "\n",
    "#we can draw a linear regression:\n",
    "relation <- lm(y ~ x)\n",
    "plot(x, y, xaxt=\"n\")\n",
    "axis(side=1, at = seq(1960, 2005, by = 5))\n",
    "axis(side=2, at= seq(0,30,1))\n",
    "abline(relation, lwd=2)\n",
    "grid(nx = NULL,ny = NULL)"
   ]
  },
  {
   "cell_type": "code",
   "execution_count": 2,
   "metadata": {},
   "outputs": [
    {
     "data": {
      "text/html": [
       "'b'"
      ],
      "text/latex": [
       "'b'"
      ],
      "text/markdown": [
       "'b'"
      ],
      "text/plain": [
       "[1] \"b\""
      ]
     },
     "metadata": {},
     "output_type": "display_data"
    },
    {
     "data": {
      "text/html": [
       "<dl class=dl-horizontal>\n",
       "\t<dt>(Intercept)</dt>\n",
       "\t\t<dd>930.09515151514</dd>\n",
       "\t<dt>x</dt>\n",
       "\t\t<dd>-0.4620606060606</dd>\n",
       "</dl>\n"
      ],
      "text/latex": [
       "\\begin{description*}\n",
       "\\item[(Intercept)] 930.09515151514\n",
       "\\item[x] -0.4620606060606\n",
       "\\end{description*}\n"
      ],
      "text/markdown": [
       "(Intercept)\n",
       ":   930.09515151514x\n",
       ":   -0.4620606060606\n",
       "\n"
      ],
      "text/plain": [
       "(Intercept)           x \n",
       "930.0951515  -0.4620606 "
      ]
     },
     "metadata": {},
     "output_type": "display_data"
    },
    {
     "data": {
      "text/plain": [
       "\n",
       "Call:\n",
       "lm(formula = y ~ x)\n",
       "\n",
       "Residuals:\n",
       "   Min     1Q Median     3Q    Max \n",
       "-2.615 -1.418 -0.260  1.389  3.236 \n",
       "\n",
       "Coefficients:\n",
       "             Estimate Std. Error t value Pr(>|t|)    \n",
       "(Intercept) 930.09515   93.70477   9.926 8.97e-06 ***\n",
       "x            -0.46206    0.04726  -9.776 1.00e-05 ***\n",
       "---\n",
       "Signif. codes:  0 ‘***’ 0.001 ‘**’ 0.01 ‘*’ 0.05 ‘.’ 0.1 ‘ ’ 1\n",
       "\n",
       "Residual standard error: 2.147 on 8 degrees of freedom\n",
       "Multiple R-squared:  0.9228,\tAdjusted R-squared:  0.9131 \n",
       "F-statistic: 95.57 on 1 and 8 DF,  p-value: 1.005e-05\n"
      ]
     },
     "metadata": {},
     "output_type": "display_data"
    }
   ],
   "source": [
    "'b'\n",
    "coef(relation)\n",
    "summary(relation)"
   ]
  },
  {
   "cell_type": "code",
   "execution_count": 3,
   "metadata": {},
   "outputs": [
    {
     "data": {
      "text/html": [
       "'c'"
      ],
      "text/latex": [
       "'c'"
      ],
      "text/markdown": [
       "'c'"
      ],
      "text/plain": [
       "[1] \"c\""
      ]
     },
     "metadata": {},
     "output_type": "display_data"
    },
    {
     "data": {
      "text/html": [
       "<strong>1:</strong> 1.35333333333335"
      ],
      "text/latex": [
       "\\textbf{1:} 1.35333333333335"
      ],
      "text/markdown": [
       "**1:** 1.35333333333335"
      ],
      "text/plain": [
       "       1 \n",
       "1.353333 "
      ]
     },
     "metadata": {},
     "output_type": "display_data"
    }
   ],
   "source": [
    "'c'\n",
    "a<-data.frame(x=2010)\n",
    "predict(relation,a)"
   ]
  },
  {
   "cell_type": "markdown",
   "metadata": {},
   "source": [
    "$2.$ The file HackerRank-Developer-Survey-2018-Numeric.csv shows an extensive survey obtained in 2016 to 25000 Hackers. The survey asked developers many questions around their skills, educational background, current role, and more... Answer the following questions using the data from this file. The file HackerRank-Developer-Survey-2018-Numeric-Mapping.csv has the metadata that explains the coding on each variable. \n",
    "This data was obtained from Kaggle at [https://www.kaggle.com/hackerrank/developer-survey-2018](https://www.kaggle.com/hackerrank/developer-survey-2018) There is more information regarding the survey and the data itself at the website.\n",
    "\n",
    "a. Is there a relationship between gender and the Age that the hacker begin coding(q1AgeBeginCoding)? (Use a logistic regression)\n",
    "\n",
    "b. Does age to begin coding, and gender have an effect on job level (q8JobLevel)? (Use MLR)\n",
    "\n",
    "c. There is an increase focus on understanding trends about women pursuing careers as developers are there any relationships in the data that could be useful advice to women that want to pursue a career as a developer? The zip file has many other variables that you can use for this analysis. "
   ]
  },
  {
   "cell_type": "code",
   "execution_count": 4,
   "metadata": {},
   "outputs": [
    {
     "name": "stderr",
     "output_type": "stream",
     "text": [
      "\n",
      "Attaching package: ‘dplyr’\n",
      "\n",
      "The following objects are masked from ‘package:stats’:\n",
      "\n",
      "    filter, lag\n",
      "\n",
      "The following objects are masked from ‘package:base’:\n",
      "\n",
      "    intersect, setdiff, setequal, union\n",
      "\n"
     ]
    }
   ],
   "source": [
    "\n",
    "library(ggplot2)\n",
    "library(dplyr)\n"
   ]
  },
  {
   "cell_type": "code",
   "execution_count": 5,
   "metadata": {},
   "outputs": [
    {
     "data": {
      "text/html": [
       "<table>\n",
       "<thead><tr><th></th><th scope=col>Data.Field</th><th scope=col>Value</th><th scope=col>Label</th></tr></thead>\n",
       "<tbody>\n",
       "\t<tr><th scope=row>42</th><td>q8JobLevel                  </td><td> 0                          </td><td>Other (please specify)      </td></tr>\n",
       "\t<tr><th scope=row>43</th><td>q8JobLevel                  </td><td> 1                          </td><td>Student                     </td></tr>\n",
       "\t<tr><th scope=row>44</th><td>q8JobLevel                  </td><td> 2                          </td><td>New grad                    </td></tr>\n",
       "\t<tr><th scope=row>45</th><td>q8JobLevel                  </td><td> 3                          </td><td>Freelancer                  </td></tr>\n",
       "\t<tr><th scope=row>46</th><td>q8JobLevel                  </td><td> 4                          </td><td>Level 1 developer (junior)  </td></tr>\n",
       "\t<tr><th scope=row>47</th><td>q8JobLevel                  </td><td> 5                          </td><td>Senior developer            </td></tr>\n",
       "\t<tr><th scope=row>48</th><td>q8JobLevel                  </td><td> 6                          </td><td>Principal engineer          </td></tr>\n",
       "\t<tr><th scope=row>49</th><td>q8JobLevel                  </td><td> 7                          </td><td>Architect                   </td></tr>\n",
       "\t<tr><th scope=row>50</th><td>q8JobLevel                  </td><td> 8                          </td><td>Engineering manager         </td></tr>\n",
       "\t<tr><th scope=row>51</th><td>q8JobLevel                  </td><td> 9                          </td><td>Director / VP of Engineering</td></tr>\n",
       "\t<tr><th scope=row>52</th><td>q8JobLevel                  </td><td>10                          </td><td>Founder / CEO / CTO         </td></tr>\n",
       "\t<tr><th scope=row>53</th><td>q8JobLevel                  </td><td>11                          </td><td>None                        </td></tr>\n",
       "</tbody>\n",
       "</table>\n"
      ],
      "text/latex": [
       "\\begin{tabular}{r|lll}\n",
       "  & Data.Field & Value & Label\\\\\n",
       "\\hline\n",
       "\t42 & q8JobLevel                   &  0                           & Other (please specify)      \\\\\n",
       "\t43 & q8JobLevel                   &  1                           & Student                     \\\\\n",
       "\t44 & q8JobLevel                   &  2                           & New grad                    \\\\\n",
       "\t45 & q8JobLevel                   &  3                           & Freelancer                  \\\\\n",
       "\t46 & q8JobLevel                   &  4                           & Level 1 developer (junior)  \\\\\n",
       "\t47 & q8JobLevel                   &  5                           & Senior developer            \\\\\n",
       "\t48 & q8JobLevel                   &  6                           & Principal engineer          \\\\\n",
       "\t49 & q8JobLevel                   &  7                           & Architect                   \\\\\n",
       "\t50 & q8JobLevel                   &  8                           & Engineering manager         \\\\\n",
       "\t51 & q8JobLevel                   &  9                           & Director / VP of Engineering\\\\\n",
       "\t52 & q8JobLevel                   & 10                           & Founder / CEO / CTO         \\\\\n",
       "\t53 & q8JobLevel                   & 11                           & None                        \\\\\n",
       "\\end{tabular}\n"
      ],
      "text/markdown": [
       "\n",
       "| <!--/--> | Data.Field | Value | Label | \n",
       "|---|---|---|---|---|---|---|---|---|---|---|---|\n",
       "| 42 | q8JobLevel                   |  0                           | Other (please specify)       | \n",
       "| 43 | q8JobLevel                   |  1                           | Student                      | \n",
       "| 44 | q8JobLevel                   |  2                           | New grad                     | \n",
       "| 45 | q8JobLevel                   |  3                           | Freelancer                   | \n",
       "| 46 | q8JobLevel                   |  4                           | Level 1 developer (junior)   | \n",
       "| 47 | q8JobLevel                   |  5                           | Senior developer             | \n",
       "| 48 | q8JobLevel                   |  6                           | Principal engineer           | \n",
       "| 49 | q8JobLevel                   |  7                           | Architect                    | \n",
       "| 50 | q8JobLevel                   |  8                           | Engineering manager          | \n",
       "| 51 | q8JobLevel                   |  9                           | Director / VP of Engineering | \n",
       "| 52 | q8JobLevel                   | 10                           | Founder / CEO / CTO          | \n",
       "| 53 | q8JobLevel                   | 11                           | None                         | \n",
       "\n",
       "\n"
      ],
      "text/plain": [
       "   Data.Field Value Label                       \n",
       "42 q8JobLevel  0    Other (please specify)      \n",
       "43 q8JobLevel  1    Student                     \n",
       "44 q8JobLevel  2    New grad                    \n",
       "45 q8JobLevel  3    Freelancer                  \n",
       "46 q8JobLevel  4    Level 1 developer (junior)  \n",
       "47 q8JobLevel  5    Senior developer            \n",
       "48 q8JobLevel  6    Principal engineer          \n",
       "49 q8JobLevel  7    Architect                   \n",
       "50 q8JobLevel  8    Engineering manager         \n",
       "51 q8JobLevel  9    Director / VP of Engineering\n",
       "52 q8JobLevel 10    Founder / CEO / CTO         \n",
       "53 q8JobLevel 11    None                        "
      ]
     },
     "metadata": {},
     "output_type": "display_data"
    }
   ],
   "source": [
    "#hacker <- unzip('developer-survey-2018.zip')\n",
    "df0 <- read.csv(file = \"HackerRank-Developer-Survey-2018-Numeric-Mapping.csv\", header = T, dec = ',')\n",
    "\n",
    "df0[df0[1]=='q8JobLevel',]"
   ]
  },
  {
   "cell_type": "code",
   "execution_count": 6,
   "metadata": {},
   "outputs": [
    {
     "data": {
      "text/html": [
       "25090"
      ],
      "text/latex": [
       "25090"
      ],
      "text/markdown": [
       "25090"
      ],
      "text/plain": [
       "[1] 25090"
      ]
     },
     "metadata": {},
     "output_type": "display_data"
    }
   ],
   "source": [
    "df <- read.csv(file = \"HackerRank-Developer-Survey-2018-Numeric.csv\", header = T, dec = ',')\n",
    "dim(df)[1]\n",
    "#df <- na.omit(df)\n",
    "#df"
   ]
  },
  {
   "cell_type": "code",
   "execution_count": 7,
   "metadata": {},
   "outputs": [
    {
     "data": {
      "text/html": [
       "'a. Is there a relationship between gender and the Age that the hacker begin coding(q1AgeBeginCoding)? (Use a logistic regression)'"
      ],
      "text/latex": [
       "'a. Is there a relationship between gender and the Age that the hacker begin coding(q1AgeBeginCoding)? (Use a logistic regression)'"
      ],
      "text/markdown": [
       "'a. Is there a relationship between gender and the Age that the hacker begin coding(q1AgeBeginCoding)? (Use a logistic regression)'"
      ],
      "text/plain": [
       "[1] \"a. Is there a relationship between gender and the Age that the hacker begin coding(q1AgeBeginCoding)? (Use a logistic regression)\""
      ]
     },
     "metadata": {},
     "output_type": "display_data"
    },
    {
     "data": {
      "text/html": [
       "<table>\n",
       "<thead><tr><th scope=col>Gender</th><th scope=col>count</th></tr></thead>\n",
       "<tbody>\n",
       "\t<tr><td>Males  </td><td>20774  </td></tr>\n",
       "\t<tr><td>Females</td><td> 4122  </td></tr>\n",
       "</tbody>\n",
       "</table>\n"
      ],
      "text/latex": [
       "\\begin{tabular}{r|ll}\n",
       " Gender & count\\\\\n",
       "\\hline\n",
       "\t Males   & 20774  \\\\\n",
       "\t Females &  4122  \\\\\n",
       "\\end{tabular}\n"
      ],
      "text/markdown": [
       "\n",
       "Gender | count | \n",
       "|---|---|\n",
       "| Males   | 20774   | \n",
       "| Females |  4122   | \n",
       "\n",
       "\n"
      ],
      "text/plain": [
       "  Gender  count\n",
       "1 Males   20774\n",
       "2 Females  4122"
      ]
     },
     "metadata": {},
     "output_type": "display_data"
    }
   ],
   "source": [
    "'a. Is there a relationship between gender and the Age that the hacker begin coding(q1AgeBeginCoding)? (Use a logistic regression)'\n",
    "#find the count of males and females\n",
    "gender <- table(df$q3Gender)\n",
    "#gender\n",
    "\n",
    "#names(gender)[names(gender) == '1'] <- \"Males\"\n",
    "#gender\n",
    "#names(gender)[names(gender) == '2'] <- \"Females\"\n",
    "#gender\n",
    "df_gender <- data.frame(Gender = c(\"Males\", \"Females\"), count = c(gender[2], gender[3]))\n",
    "df_gender"
   ]
  },
  {
   "cell_type": "code",
   "execution_count": 8,
   "metadata": {},
   "outputs": [
    {
     "data": {
      "text/html": [
       "<table>\n",
       "<thead><tr><th scope=col>q1AgeBeginCoding</th><th scope=col>q3Gender</th><th scope=col>n</th><th scope=col>percent</th></tr></thead>\n",
       "<tbody>\n",
       "\t<tr><td>1    </td><td>1    </td><td>  848</td><td> 4.1 </td></tr>\n",
       "\t<tr><td>1    </td><td>2    </td><td>   71</td><td> 1.7 </td></tr>\n",
       "\t<tr><td>2    </td><td>1    </td><td> 4651</td><td>22.4 </td></tr>\n",
       "\t<tr><td>2    </td><td>2    </td><td>  569</td><td>13.8 </td></tr>\n",
       "\t<tr><td>3    </td><td>1    </td><td>11543</td><td>55.6 </td></tr>\n",
       "\t<tr><td>3    </td><td>2    </td><td> 2657</td><td>64.5 </td></tr>\n",
       "\t<tr><td>4    </td><td>1    </td><td> 2998</td><td>14.4 </td></tr>\n",
       "\t<tr><td>4    </td><td>2    </td><td>  609</td><td>14.8 </td></tr>\n",
       "\t<tr><td>5    </td><td>1    </td><td>  506</td><td> 2.4 </td></tr>\n",
       "\t<tr><td>5    </td><td>2    </td><td>  130</td><td> 3.2 </td></tr>\n",
       "\t<tr><td>6    </td><td>1    </td><td>  144</td><td> 0.7 </td></tr>\n",
       "\t<tr><td>6    </td><td>2    </td><td>   48</td><td> 1.2 </td></tr>\n",
       "\t<tr><td>7    </td><td>1    </td><td>   47</td><td> 0.2 </td></tr>\n",
       "\t<tr><td>7    </td><td>2    </td><td>   19</td><td> 0.5 </td></tr>\n",
       "\t<tr><td>8    </td><td>1    </td><td>   22</td><td> 0.1 </td></tr>\n",
       "\t<tr><td>8    </td><td>2    </td><td>   12</td><td> 0.3 </td></tr>\n",
       "\t<tr><td>9    </td><td>1    </td><td>    3</td><td> 0.0 </td></tr>\n",
       "\t<tr><td>9    </td><td>2    </td><td>    3</td><td> 0.1 </td></tr>\n",
       "</tbody>\n",
       "</table>\n"
      ],
      "text/latex": [
       "\\begin{tabular}{r|llll}\n",
       " q1AgeBeginCoding & q3Gender & n & percent\\\\\n",
       "\\hline\n",
       "\t 1     & 1     &   848 &  4.1 \\\\\n",
       "\t 1     & 2     &    71 &  1.7 \\\\\n",
       "\t 2     & 1     &  4651 & 22.4 \\\\\n",
       "\t 2     & 2     &   569 & 13.8 \\\\\n",
       "\t 3     & 1     & 11543 & 55.6 \\\\\n",
       "\t 3     & 2     &  2657 & 64.5 \\\\\n",
       "\t 4     & 1     &  2998 & 14.4 \\\\\n",
       "\t 4     & 2     &   609 & 14.8 \\\\\n",
       "\t 5     & 1     &   506 &  2.4 \\\\\n",
       "\t 5     & 2     &   130 &  3.2 \\\\\n",
       "\t 6     & 1     &   144 &  0.7 \\\\\n",
       "\t 6     & 2     &    48 &  1.2 \\\\\n",
       "\t 7     & 1     &    47 &  0.2 \\\\\n",
       "\t 7     & 2     &    19 &  0.5 \\\\\n",
       "\t 8     & 1     &    22 &  0.1 \\\\\n",
       "\t 8     & 2     &    12 &  0.3 \\\\\n",
       "\t 9     & 1     &     3 &  0.0 \\\\\n",
       "\t 9     & 2     &     3 &  0.1 \\\\\n",
       "\\end{tabular}\n"
      ],
      "text/markdown": [
       "\n",
       "q1AgeBeginCoding | q3Gender | n | percent | \n",
       "|---|---|---|---|---|---|---|---|---|---|---|---|---|---|---|---|---|---|\n",
       "| 1     | 1     |   848 |  4.1  | \n",
       "| 1     | 2     |    71 |  1.7  | \n",
       "| 2     | 1     |  4651 | 22.4  | \n",
       "| 2     | 2     |   569 | 13.8  | \n",
       "| 3     | 1     | 11543 | 55.6  | \n",
       "| 3     | 2     |  2657 | 64.5  | \n",
       "| 4     | 1     |  2998 | 14.4  | \n",
       "| 4     | 2     |   609 | 14.8  | \n",
       "| 5     | 1     |   506 |  2.4  | \n",
       "| 5     | 2     |   130 |  3.2  | \n",
       "| 6     | 1     |   144 |  0.7  | \n",
       "| 6     | 2     |    48 |  1.2  | \n",
       "| 7     | 1     |    47 |  0.2  | \n",
       "| 7     | 2     |    19 |  0.5  | \n",
       "| 8     | 1     |    22 |  0.1  | \n",
       "| 8     | 2     |    12 |  0.3  | \n",
       "| 9     | 1     |     3 |  0.0  | \n",
       "| 9     | 2     |     3 |  0.1  | \n",
       "\n",
       "\n"
      ],
      "text/plain": [
       "   q1AgeBeginCoding q3Gender n     percent\n",
       "1  1                1          848  4.1   \n",
       "2  1                2           71  1.7   \n",
       "3  2                1         4651 22.4   \n",
       "4  2                2          569 13.8   \n",
       "5  3                1        11543 55.6   \n",
       "6  3                2         2657 64.5   \n",
       "7  4                1         2998 14.4   \n",
       "8  4                2          609 14.8   \n",
       "9  5                1          506  2.4   \n",
       "10 5                2          130  3.2   \n",
       "11 6                1          144  0.7   \n",
       "12 6                2           48  1.2   \n",
       "13 7                1           47  0.2   \n",
       "14 7                2           19  0.5   \n",
       "15 8                1           22  0.1   \n",
       "16 8                2           12  0.3   \n",
       "17 9                1            3  0.0   \n",
       "18 9                2            3  0.1   "
      ]
     },
     "metadata": {},
     "output_type": "display_data"
    }
   ],
   "source": [
    "\n",
    "#find relationship between genders and age\n",
    "a <- dplyr::count(df, q1AgeBeginCoding, q3Gender)\n",
    "a <- a[(a$q3Gender==1 | a$q3Gender==2) & a$q1AgeBeginCoding!=\"#NULL!\",]\n",
    "age <- a %>% group_by(q3Gender) %>% mutate(percent = (round(n/sum(n), digits=3))*100) #group by genders and percentage by age\n",
    "age"
   ]
  },
  {
   "cell_type": "code",
   "execution_count": 9,
   "metadata": {},
   "outputs": [
    {
     "data": {
      "text/html": [
       "'comparision graph between genders with group age begins coding'"
      ],
      "text/latex": [
       "'comparision graph between genders with group age begins coding'"
      ],
      "text/markdown": [
       "'comparision graph between genders with group age begins coding'"
      ],
      "text/plain": [
       "[1] \"comparision graph between genders with group age begins coding\""
      ]
     },
     "metadata": {},
     "output_type": "display_data"
    },
    {
     "data": {},
     "metadata": {},
     "output_type": "display_data"
    },
    {
     "data": {
      "image/png": "[encoded data removed]",
      "text/plain": [
       "plot without title"
      ]
     },
     "metadata": {},
     "output_type": "display_data"
    }
   ],
   "source": [
    "\"comparision graph between genders with group age begins coding\"\n",
    "p <- ggplot(data=age, aes(x=q3Gender, y=percent, fill=q1AgeBeginCoding)) + geom_bar(stat=\"identity\", width=0.25, color=\"black\")\n",
    "p + theme_minimal() + \n",
    "  scale_fill_brewer(palette=\"Paired\") +\n",
    "  labs(title=\"Age at which female and male developers beging coding\", x=\"Gender\", y=\"Percent\")"
   ]
  },
  {
   "cell_type": "code",
   "execution_count": 10,
   "metadata": {},
   "outputs": [
    {
     "ename": "ERROR",
     "evalue": "Error in eval(expr, envir, enclos): object 'dnumber' not found\n",
     "output_type": "error",
     "traceback": [
      "Error in eval(expr, envir, enclos): object 'dnumber' not found\nTraceback:\n"
     ]
    }
   ],
   "source": [
    "\n",
    "agegender <- dnumber[,c(\"q1AgeBeginCoding\",\"q3Gender\")]\n",
    "agegender <- na.omit(agegender)\n"
   ]
  },
  {
   "cell_type": "code",
   "execution_count": null,
   "metadata": {},
   "outputs": [],
   "source": [
    "genderage <- glm(q3Gender ~ q1AgeBeginCoding-1, data = agegender, family = 'binomial')\n",
    "summary(genderage)\n",
    "\"statistic calculation showed that there are significant impact in agegroup 1,3,4\""
   ]
  },
  {
   "cell_type": "code",
   "execution_count": null,
   "metadata": {},
   "outputs": [],
   "source": [
    "'b. Does age to begin coding, and gender have an effect on job level (q8JobLevel)? (Use MLR)'"
   ]
  },
  {
   "cell_type": "code",
   "execution_count": null,
   "metadata": {},
   "outputs": [],
   "source": [
    "job <- table(df$q8JobLevel)\n",
    "job"
   ]
  },
  {
   "cell_type": "code",
   "execution_count": 11,
   "metadata": {},
   "outputs": [
    {
     "data": {
      "text/html": [
       "<table>\n",
       "<thead><tr><th scope=col>q1AgeBeginCoding</th><th scope=col>q3Gender</th><th scope=col>q8JobLevel</th><th scope=col>n</th><th scope=col>percent</th></tr></thead>\n",
       "<tbody>\n",
       "\t<tr><td>1   </td><td>1   </td><td> 0  </td><td>  40</td><td> 4.2</td></tr>\n",
       "\t<tr><td>1   </td><td>1   </td><td> 1  </td><td> 202</td><td> 2.0</td></tr>\n",
       "\t<tr><td>1   </td><td>1   </td><td> 2  </td><td>   7</td><td> 0.8</td></tr>\n",
       "\t<tr><td>1   </td><td>1   </td><td> 3  </td><td>  24</td><td> 5.0</td></tr>\n",
       "\t<tr><td>1   </td><td>1   </td><td> 4  </td><td>  76</td><td> 1.7</td></tr>\n",
       "\t<tr><td>1   </td><td>1   </td><td> 5  </td><td> 298</td><td> 5.2</td></tr>\n",
       "\t<tr><td>1   </td><td>1   </td><td> 6  </td><td>  53</td><td> 8.0</td></tr>\n",
       "\t<tr><td>1   </td><td>1   </td><td> 7  </td><td>  45</td><td> 8.8</td></tr>\n",
       "\t<tr><td>1   </td><td>1   </td><td> 8  </td><td>  36</td><td> 8.5</td></tr>\n",
       "\t<tr><td>1   </td><td>1   </td><td> 9  </td><td>  22</td><td>16.2</td></tr>\n",
       "\t<tr><td>1   </td><td>1   </td><td>10  </td><td>  45</td><td>14.0</td></tr>\n",
       "\t<tr><td>1   </td><td>2   </td><td> 0  </td><td>   8</td><td> 0.8</td></tr>\n",
       "\t<tr><td>1   </td><td>2   </td><td> 1  </td><td>  26</td><td> 0.3</td></tr>\n",
       "\t<tr><td>1   </td><td>2   </td><td> 2  </td><td>   3</td><td> 0.3</td></tr>\n",
       "\t<tr><td>1   </td><td>2   </td><td> 4  </td><td>  13</td><td> 0.3</td></tr>\n",
       "\t<tr><td>1   </td><td>2   </td><td> 5  </td><td>  14</td><td> 0.2</td></tr>\n",
       "\t<tr><td>1   </td><td>2   </td><td> 6  </td><td>   2</td><td> 0.3</td></tr>\n",
       "\t<tr><td>1   </td><td>2   </td><td> 7  </td><td>   3</td><td> 0.6</td></tr>\n",
       "\t<tr><td>1   </td><td>2   </td><td>10  </td><td>   2</td><td> 0.6</td></tr>\n",
       "\t<tr><td>2   </td><td>1   </td><td> 0  </td><td> 169</td><td>17.9</td></tr>\n",
       "\t<tr><td>2   </td><td>1   </td><td> 1  </td><td>1831</td><td>17.8</td></tr>\n",
       "\t<tr><td>2   </td><td>1   </td><td> 2  </td><td> 110</td><td>12.2</td></tr>\n",
       "\t<tr><td>2   </td><td>1   </td><td> 3  </td><td> 110</td><td>22.9</td></tr>\n",
       "\t<tr><td>2   </td><td>1   </td><td> 4  </td><td> 552</td><td>12.3</td></tr>\n",
       "\t<tr><td>2   </td><td>1   </td><td> 5  </td><td>1290</td><td>22.5</td></tr>\n",
       "\t<tr><td>2   </td><td>1   </td><td> 6  </td><td> 171</td><td>25.7</td></tr>\n",
       "\t<tr><td>2   </td><td>1   </td><td> 7  </td><td> 150</td><td>29.3</td></tr>\n",
       "\t<tr><td>2   </td><td>1   </td><td> 8  </td><td> 122</td><td>28.6</td></tr>\n",
       "\t<tr><td>2   </td><td>1   </td><td> 9  </td><td>  51</td><td>37.5</td></tr>\n",
       "\t<tr><td>2   </td><td>1   </td><td>10  </td><td>  95</td><td>29.5</td></tr>\n",
       "\t<tr><td>⋮</td><td>⋮</td><td>⋮</td><td>⋮</td><td>⋮</td></tr>\n",
       "\t<tr><td>7  </td><td>1  </td><td> 1 </td><td> 6 </td><td>0.1</td></tr>\n",
       "\t<tr><td>7  </td><td>1  </td><td> 2 </td><td> 1 </td><td>0.1</td></tr>\n",
       "\t<tr><td>7  </td><td>1  </td><td> 3 </td><td> 4 </td><td>0.8</td></tr>\n",
       "\t<tr><td>7  </td><td>1  </td><td> 4 </td><td>13 </td><td>0.3</td></tr>\n",
       "\t<tr><td>7  </td><td>1  </td><td> 5 </td><td> 4 </td><td>0.1</td></tr>\n",
       "\t<tr><td>7  </td><td>1  </td><td> 6 </td><td> 2 </td><td>0.3</td></tr>\n",
       "\t<tr><td>7  </td><td>1  </td><td> 7 </td><td> 1 </td><td>0.2</td></tr>\n",
       "\t<tr><td>7  </td><td>1  </td><td> 8 </td><td> 1 </td><td>0.2</td></tr>\n",
       "\t<tr><td>7  </td><td>2  </td><td> 0 </td><td> 3 </td><td>0.3</td></tr>\n",
       "\t<tr><td>7  </td><td>2  </td><td> 1 </td><td> 7 </td><td>0.1</td></tr>\n",
       "\t<tr><td>7  </td><td>2  </td><td> 4 </td><td> 4 </td><td>0.1</td></tr>\n",
       "\t<tr><td>7  </td><td>2  </td><td> 5 </td><td> 2 </td><td>0.0</td></tr>\n",
       "\t<tr><td>7  </td><td>2  </td><td> 8 </td><td> 2 </td><td>0.5</td></tr>\n",
       "\t<tr><td>7  </td><td>2  </td><td>10 </td><td> 1 </td><td>0.3</td></tr>\n",
       "\t<tr><td>8  </td><td>1  </td><td> 0 </td><td> 6 </td><td>0.6</td></tr>\n",
       "\t<tr><td>8  </td><td>1  </td><td> 1 </td><td> 6 </td><td>0.1</td></tr>\n",
       "\t<tr><td>8  </td><td>1  </td><td> 2 </td><td> 1 </td><td>0.1</td></tr>\n",
       "\t<tr><td>8  </td><td>1  </td><td> 4 </td><td> 5 </td><td>0.1</td></tr>\n",
       "\t<tr><td>8  </td><td>1  </td><td> 5 </td><td> 2 </td><td>0.0</td></tr>\n",
       "\t<tr><td>8  </td><td>1  </td><td> 8 </td><td> 1 </td><td>0.2</td></tr>\n",
       "\t<tr><td>8  </td><td>1  </td><td>10 </td><td> 1 </td><td>0.3</td></tr>\n",
       "\t<tr><td>8  </td><td>2  </td><td> 0 </td><td> 4 </td><td>0.4</td></tr>\n",
       "\t<tr><td>8  </td><td>2  </td><td> 1 </td><td> 5 </td><td>0.0</td></tr>\n",
       "\t<tr><td>8  </td><td>2  </td><td> 4 </td><td> 2 </td><td>0.0</td></tr>\n",
       "\t<tr><td>8  </td><td>2  </td><td> 8 </td><td> 1 </td><td>0.2</td></tr>\n",
       "\t<tr><td>9  </td><td>1  </td><td> 0 </td><td> 1 </td><td>0.1</td></tr>\n",
       "\t<tr><td>9  </td><td>1  </td><td> 3 </td><td> 2 </td><td>0.4</td></tr>\n",
       "\t<tr><td>9  </td><td>2  </td><td> 0 </td><td> 1 </td><td>0.1</td></tr>\n",
       "\t<tr><td>9  </td><td>2  </td><td> 5 </td><td> 1 </td><td>0.0</td></tr>\n",
       "\t<tr><td>9  </td><td>2  </td><td> 6 </td><td> 1 </td><td>0.2</td></tr>\n",
       "</tbody>\n",
       "</table>\n"
      ],
      "text/latex": [
       "\\begin{tabular}{r|lllll}\n",
       " q1AgeBeginCoding & q3Gender & q8JobLevel & n & percent\\\\\n",
       "\\hline\n",
       "\t 1    & 1    &  0   &   40 &  4.2\\\\\n",
       "\t 1    & 1    &  1   &  202 &  2.0\\\\\n",
       "\t 1    & 1    &  2   &    7 &  0.8\\\\\n",
       "\t 1    & 1    &  3   &   24 &  5.0\\\\\n",
       "\t 1    & 1    &  4   &   76 &  1.7\\\\\n",
       "\t 1    & 1    &  5   &  298 &  5.2\\\\\n",
       "\t 1    & 1    &  6   &   53 &  8.0\\\\\n",
       "\t 1    & 1    &  7   &   45 &  8.8\\\\\n",
       "\t 1    & 1    &  8   &   36 &  8.5\\\\\n",
       "\t 1    & 1    &  9   &   22 & 16.2\\\\\n",
       "\t 1    & 1    & 10   &   45 & 14.0\\\\\n",
       "\t 1    & 2    &  0   &    8 &  0.8\\\\\n",
       "\t 1    & 2    &  1   &   26 &  0.3\\\\\n",
       "\t 1    & 2    &  2   &    3 &  0.3\\\\\n",
       "\t 1    & 2    &  4   &   13 &  0.3\\\\\n",
       "\t 1    & 2    &  5   &   14 &  0.2\\\\\n",
       "\t 1    & 2    &  6   &    2 &  0.3\\\\\n",
       "\t 1    & 2    &  7   &    3 &  0.6\\\\\n",
       "\t 1    & 2    & 10   &    2 &  0.6\\\\\n",
       "\t 2    & 1    &  0   &  169 & 17.9\\\\\n",
       "\t 2    & 1    &  1   & 1831 & 17.8\\\\\n",
       "\t 2    & 1    &  2   &  110 & 12.2\\\\\n",
       "\t 2    & 1    &  3   &  110 & 22.9\\\\\n",
       "\t 2    & 1    &  4   &  552 & 12.3\\\\\n",
       "\t 2    & 1    &  5   & 1290 & 22.5\\\\\n",
       "\t 2    & 1    &  6   &  171 & 25.7\\\\\n",
       "\t 2    & 1    &  7   &  150 & 29.3\\\\\n",
       "\t 2    & 1    &  8   &  122 & 28.6\\\\\n",
       "\t 2    & 1    &  9   &   51 & 37.5\\\\\n",
       "\t 2    & 1    & 10   &   95 & 29.5\\\\\n",
       "\t ⋮ & ⋮ & ⋮ & ⋮ & ⋮\\\\\n",
       "\t 7   & 1   &  1  &  6  & 0.1\\\\\n",
       "\t 7   & 1   &  2  &  1  & 0.1\\\\\n",
       "\t 7   & 1   &  3  &  4  & 0.8\\\\\n",
       "\t 7   & 1   &  4  & 13  & 0.3\\\\\n",
       "\t 7   & 1   &  5  &  4  & 0.1\\\\\n",
       "\t 7   & 1   &  6  &  2  & 0.3\\\\\n",
       "\t 7   & 1   &  7  &  1  & 0.2\\\\\n",
       "\t 7   & 1   &  8  &  1  & 0.2\\\\\n",
       "\t 7   & 2   &  0  &  3  & 0.3\\\\\n",
       "\t 7   & 2   &  1  &  7  & 0.1\\\\\n",
       "\t 7   & 2   &  4  &  4  & 0.1\\\\\n",
       "\t 7   & 2   &  5  &  2  & 0.0\\\\\n",
       "\t 7   & 2   &  8  &  2  & 0.5\\\\\n",
       "\t 7   & 2   & 10  &  1  & 0.3\\\\\n",
       "\t 8   & 1   &  0  &  6  & 0.6\\\\\n",
       "\t 8   & 1   &  1  &  6  & 0.1\\\\\n",
       "\t 8   & 1   &  2  &  1  & 0.1\\\\\n",
       "\t 8   & 1   &  4  &  5  & 0.1\\\\\n",
       "\t 8   & 1   &  5  &  2  & 0.0\\\\\n",
       "\t 8   & 1   &  8  &  1  & 0.2\\\\\n",
       "\t 8   & 1   & 10  &  1  & 0.3\\\\\n",
       "\t 8   & 2   &  0  &  4  & 0.4\\\\\n",
       "\t 8   & 2   &  1  &  5  & 0.0\\\\\n",
       "\t 8   & 2   &  4  &  2  & 0.0\\\\\n",
       "\t 8   & 2   &  8  &  1  & 0.2\\\\\n",
       "\t 9   & 1   &  0  &  1  & 0.1\\\\\n",
       "\t 9   & 1   &  3  &  2  & 0.4\\\\\n",
       "\t 9   & 2   &  0  &  1  & 0.1\\\\\n",
       "\t 9   & 2   &  5  &  1  & 0.0\\\\\n",
       "\t 9   & 2   &  6  &  1  & 0.2\\\\\n",
       "\\end{tabular}\n"
      ],
      "text/markdown": [
       "\n",
       "q1AgeBeginCoding | q3Gender | q8JobLevel | n | percent | \n",
       "|---|---|---|---|---|---|---|---|---|---|---|---|---|---|---|---|---|---|---|---|---|---|---|---|---|---|---|---|---|---|---|---|---|---|---|---|---|---|---|---|---|---|---|---|---|---|---|---|---|---|---|---|---|---|---|---|---|---|---|---|---|\n",
       "| 1    | 1    |  0   |   40 |  4.2 | \n",
       "| 1    | 1    |  1   |  202 |  2.0 | \n",
       "| 1    | 1    |  2   |    7 |  0.8 | \n",
       "| 1    | 1    |  3   |   24 |  5.0 | \n",
       "| 1    | 1    |  4   |   76 |  1.7 | \n",
       "| 1    | 1    |  5   |  298 |  5.2 | \n",
       "| 1    | 1    |  6   |   53 |  8.0 | \n",
       "| 1    | 1    |  7   |   45 |  8.8 | \n",
       "| 1    | 1    |  8   |   36 |  8.5 | \n",
       "| 1    | 1    |  9   |   22 | 16.2 | \n",
       "| 1    | 1    | 10   |   45 | 14.0 | \n",
       "| 1    | 2    |  0   |    8 |  0.8 | \n",
       "| 1    | 2    |  1   |   26 |  0.3 | \n",
       "| 1    | 2    |  2   |    3 |  0.3 | \n",
       "| 1    | 2    |  4   |   13 |  0.3 | \n",
       "| 1    | 2    |  5   |   14 |  0.2 | \n",
       "| 1    | 2    |  6   |    2 |  0.3 | \n",
       "| 1    | 2    |  7   |    3 |  0.6 | \n",
       "| 1    | 2    | 10   |    2 |  0.6 | \n",
       "| 2    | 1    |  0   |  169 | 17.9 | \n",
       "| 2    | 1    |  1   | 1831 | 17.8 | \n",
       "| 2    | 1    |  2   |  110 | 12.2 | \n",
       "| 2    | 1    |  3   |  110 | 22.9 | \n",
       "| 2    | 1    |  4   |  552 | 12.3 | \n",
       "| 2    | 1    |  5   | 1290 | 22.5 | \n",
       "| 2    | 1    |  6   |  171 | 25.7 | \n",
       "| 2    | 1    |  7   |  150 | 29.3 | \n",
       "| 2    | 1    |  8   |  122 | 28.6 | \n",
       "| 2    | 1    |  9   |   51 | 37.5 | \n",
       "| 2    | 1    | 10   |   95 | 29.5 | \n",
       "| ⋮ | ⋮ | ⋮ | ⋮ | ⋮ | \n",
       "| 7   | 1   |  1  |  6  | 0.1 | \n",
       "| 7   | 1   |  2  |  1  | 0.1 | \n",
       "| 7   | 1   |  3  |  4  | 0.8 | \n",
       "| 7   | 1   |  4  | 13  | 0.3 | \n",
       "| 7   | 1   |  5  |  4  | 0.1 | \n",
       "| 7   | 1   |  6  |  2  | 0.3 | \n",
       "| 7   | 1   |  7  |  1  | 0.2 | \n",
       "| 7   | 1   |  8  |  1  | 0.2 | \n",
       "| 7   | 2   |  0  |  3  | 0.3 | \n",
       "| 7   | 2   |  1  |  7  | 0.1 | \n",
       "| 7   | 2   |  4  |  4  | 0.1 | \n",
       "| 7   | 2   |  5  |  2  | 0.0 | \n",
       "| 7   | 2   |  8  |  2  | 0.5 | \n",
       "| 7   | 2   | 10  |  1  | 0.3 | \n",
       "| 8   | 1   |  0  |  6  | 0.6 | \n",
       "| 8   | 1   |  1  |  6  | 0.1 | \n",
       "| 8   | 1   |  2  |  1  | 0.1 | \n",
       "| 8   | 1   |  4  |  5  | 0.1 | \n",
       "| 8   | 1   |  5  |  2  | 0.0 | \n",
       "| 8   | 1   |  8  |  1  | 0.2 | \n",
       "| 8   | 1   | 10  |  1  | 0.3 | \n",
       "| 8   | 2   |  0  |  4  | 0.4 | \n",
       "| 8   | 2   |  1  |  5  | 0.0 | \n",
       "| 8   | 2   |  4  |  2  | 0.0 | \n",
       "| 8   | 2   |  8  |  1  | 0.2 | \n",
       "| 9   | 1   |  0  |  1  | 0.1 | \n",
       "| 9   | 1   |  3  |  2  | 0.4 | \n",
       "| 9   | 2   |  0  |  1  | 0.1 | \n",
       "| 9   | 2   |  5  |  1  | 0.0 | \n",
       "| 9   | 2   |  6  |  1  | 0.2 | \n",
       "\n",
       "\n"
      ],
      "text/plain": [
       "    q1AgeBeginCoding q3Gender q8JobLevel n    percent\n",
       "1   1                1         0           40  4.2   \n",
       "2   1                1         1          202  2.0   \n",
       "3   1                1         2            7  0.8   \n",
       "4   1                1         3           24  5.0   \n",
       "5   1                1         4           76  1.7   \n",
       "6   1                1         5          298  5.2   \n",
       "7   1                1         6           53  8.0   \n",
       "8   1                1         7           45  8.8   \n",
       "9   1                1         8           36  8.5   \n",
       "10  1                1         9           22 16.2   \n",
       "11  1                1        10           45 14.0   \n",
       "12  1                2         0            8  0.8   \n",
       "13  1                2         1           26  0.3   \n",
       "14  1                2         2            3  0.3   \n",
       "15  1                2         4           13  0.3   \n",
       "16  1                2         5           14  0.2   \n",
       "17  1                2         6            2  0.3   \n",
       "18  1                2         7            3  0.6   \n",
       "19  1                2        10            2  0.6   \n",
       "20  2                1         0          169 17.9   \n",
       "21  2                1         1         1831 17.8   \n",
       "22  2                1         2          110 12.2   \n",
       "23  2                1         3          110 22.9   \n",
       "24  2                1         4          552 12.3   \n",
       "25  2                1         5         1290 22.5   \n",
       "26  2                1         6          171 25.7   \n",
       "27  2                1         7          150 29.3   \n",
       "28  2                1         8          122 28.6   \n",
       "29  2                1         9           51 37.5   \n",
       "30  2                1        10           95 29.5   \n",
       "⋮   ⋮                ⋮        ⋮          ⋮    ⋮      \n",
       "125 7                1         1          6   0.1    \n",
       "126 7                1         2          1   0.1    \n",
       "127 7                1         3          4   0.8    \n",
       "128 7                1         4         13   0.3    \n",
       "129 7                1         5          4   0.1    \n",
       "130 7                1         6          2   0.3    \n",
       "131 7                1         7          1   0.2    \n",
       "132 7                1         8          1   0.2    \n",
       "133 7                2         0          3   0.3    \n",
       "134 7                2         1          7   0.1    \n",
       "135 7                2         4          4   0.1    \n",
       "136 7                2         5          2   0.0    \n",
       "137 7                2         8          2   0.5    \n",
       "138 7                2        10          1   0.3    \n",
       "139 8                1         0          6   0.6    \n",
       "140 8                1         1          6   0.1    \n",
       "141 8                1         2          1   0.1    \n",
       "142 8                1         4          5   0.1    \n",
       "143 8                1         5          2   0.0    \n",
       "144 8                1         8          1   0.2    \n",
       "145 8                1        10          1   0.3    \n",
       "146 8                2         0          4   0.4    \n",
       "147 8                2         1          5   0.0    \n",
       "148 8                2         4          2   0.0    \n",
       "149 8                2         8          1   0.2    \n",
       "150 9                1         0          1   0.1    \n",
       "151 9                1         3          2   0.4    \n",
       "152 9                2         0          1   0.1    \n",
       "153 9                2         5          1   0.0    \n",
       "154 9                2         6          1   0.2    "
      ]
     },
     "metadata": {},
     "output_type": "display_data"
    }
   ],
   "source": [
    "b <- dplyr::count(df, q1AgeBeginCoding, q3Gender, q8JobLevel)\n",
    "b <- b[(b$q3Gender==1 | b$q3Gender==2) & b$q1AgeBeginCoding!=\"#NULL!\",]\n",
    "agejob <- b %>% group_by(q8JobLevel) %>% mutate(percent = (round(n/sum(n), digits=3))*100) #group by joblevel\n",
    "agejob"
   ]
  },
  {
   "cell_type": "code",
   "execution_count": 12,
   "metadata": {},
   "outputs": [
    {
     "data": {},
     "metadata": {},
     "output_type": "display_data"
    },
    {
     "data": {
      "image/png": "[encoded data removed]",
      "text/plain": [
       "plot without title"
      ]
     },
     "metadata": {},
     "output_type": "display_data"
    }
   ],
   "source": [
    "\n",
    "# PLOT: Degree focus by gender\n",
    "pp <- ggplot(data=agejob, aes(x=q3Gender, y=n, fill=q8JobLevel)) + geom_bar(stat=\"identity\", width=0.5, color=\"black\") + \n",
    "    geom_text(aes(label=n), vjust = 2, color = \"green\", size=4)\n",
    "    pp + theme_minimal() +\n",
    "    labs(title=\"Job levels of males and females\", x=\"Gender\", y=\"Count\")"
   ]
  },
  {
   "cell_type": "code",
   "execution_count": 13,
   "metadata": {},
   "outputs": [
    {
     "name": "stderr",
     "output_type": "stream",
     "text": [
      "Updating HTML index of packages in '.Library'\n",
      "Making 'packages.html' ... done\n",
      "Loading required package: lattice\n",
      "Loading required package: ggformula\n",
      "\n",
      "New to ggformula?  Try the tutorials: \n",
      "\tlearnr::run_tutorial(\"introduction\", package = \"ggformula\")\n",
      "\tlearnr::run_tutorial(\"refining\", package = \"ggformula\")\n",
      "Loading required package: mosaicData\n",
      "Loading required package: Matrix\n",
      "\n",
      "The 'mosaic' package masks several functions from core packages in order to add \n",
      "additional features.  The original behavior of these functions should not be affected by this.\n",
      "\n",
      "Note: If you use the Matrix package, be sure to load it BEFORE loading mosaic.\n",
      "\n",
      "Attaching package: ‘mosaic’\n",
      "\n",
      "The following object is masked from ‘package:Matrix’:\n",
      "\n",
      "    mean\n",
      "\n",
      "The following objects are masked from ‘package:dplyr’:\n",
      "\n",
      "    count, do, tally\n",
      "\n",
      "The following objects are masked from ‘package:stats’:\n",
      "\n",
      "    binom.test, cor, cor.test, cov, fivenum, IQR, median, prop.test,\n",
      "    quantile, sd, t.test, var\n",
      "\n",
      "The following objects are masked from ‘package:base’:\n",
      "\n",
      "    max, mean, min, prod, range, sample, sum\n",
      "\n"
     ]
    }
   ],
   "source": [
    "install.packages(\"mosaic\")\n",
    "library(mosaic)\n",
    "library(tibble)"
   ]
  },
  {
   "cell_type": "code",
   "execution_count": 14,
   "metadata": {
    "scrolled": false
   },
   "outputs": [
    {
     "data": {
      "text/html": [
       "<dl class=dl-horizontal>\n",
       "\t<dt>q1AgeBeginCoding#NULL!</dt>\n",
       "\t\t<dd>2.51563465420134</dd>\n",
       "\t<dt>q1AgeBeginCoding1</dt>\n",
       "\t\t<dd>4.6070833213764</dd>\n",
       "\t<dt>q1AgeBeginCoding2</dt>\n",
       "\t\t<dd>3.66358274809102</dd>\n",
       "\t<dt>q1AgeBeginCoding3</dt>\n",
       "\t\t<dd>3.21049955987861</dd>\n",
       "\t<dt>q1AgeBeginCoding4</dt>\n",
       "\t\t<dd>4.10569811620738</dd>\n",
       "\t<dt>q1AgeBeginCoding5</dt>\n",
       "\t\t<dd>3.89121655514763</dd>\n",
       "\t<dt>q1AgeBeginCoding6</dt>\n",
       "\t\t<dd>3.55543076022265</dd>\n",
       "\t<dt>q1AgeBeginCoding7</dt>\n",
       "\t\t<dd>3.21279364247358</dd>\n",
       "\t<dt>q1AgeBeginCoding8</dt>\n",
       "\t\t<dd>2.86619186277324</dd>\n",
       "\t<dt>q1AgeBeginCoding9</dt>\n",
       "\t\t<dd>4.29585586342986</dd>\n",
       "\t<dt>q3Gender1</dt>\n",
       "\t\t<dd>-0.354042538845025</dd>\n",
       "\t<dt>q3Gender2</dt>\n",
       "\t\t<dd>-1.05513228997497</dd>\n",
       "\t<dt>q3Gender3</dt>\n",
       "\t\t<dd>-0.569661210489455</dd>\n",
       "</dl>\n"
      ],
      "text/latex": [
       "\\begin{description*}\n",
       "\\item[q1AgeBeginCoding\\textbackslash{}\\#NULL!] 2.51563465420134\n",
       "\\item[q1AgeBeginCoding1] 4.6070833213764\n",
       "\\item[q1AgeBeginCoding2] 3.66358274809102\n",
       "\\item[q1AgeBeginCoding3] 3.21049955987861\n",
       "\\item[q1AgeBeginCoding4] 4.10569811620738\n",
       "\\item[q1AgeBeginCoding5] 3.89121655514763\n",
       "\\item[q1AgeBeginCoding6] 3.55543076022265\n",
       "\\item[q1AgeBeginCoding7] 3.21279364247358\n",
       "\\item[q1AgeBeginCoding8] 2.86619186277324\n",
       "\\item[q1AgeBeginCoding9] 4.29585586342986\n",
       "\\item[q3Gender1] -0.354042538845025\n",
       "\\item[q3Gender2] -1.05513228997497\n",
       "\\item[q3Gender3] -0.569661210489455\n",
       "\\end{description*}\n"
      ],
      "text/markdown": [
       "q1AgeBeginCoding#NULL!\n",
       ":   2.51563465420134q1AgeBeginCoding1\n",
       ":   4.6070833213764q1AgeBeginCoding2\n",
       ":   3.66358274809102q1AgeBeginCoding3\n",
       ":   3.21049955987861q1AgeBeginCoding4\n",
       ":   4.10569811620738q1AgeBeginCoding5\n",
       ":   3.89121655514763q1AgeBeginCoding6\n",
       ":   3.55543076022265q1AgeBeginCoding7\n",
       ":   3.21279364247358q1AgeBeginCoding8\n",
       ":   2.86619186277324q1AgeBeginCoding9\n",
       ":   4.29585586342986q3Gender1\n",
       ":   -0.354042538845025q3Gender2\n",
       ":   -1.05513228997497q3Gender3\n",
       ":   -0.569661210489455\n",
       "\n"
      ],
      "text/plain": [
       "q1AgeBeginCoding#NULL!      q1AgeBeginCoding1      q1AgeBeginCoding2 \n",
       "             2.5156347              4.6070833              3.6635827 \n",
       "     q1AgeBeginCoding3      q1AgeBeginCoding4      q1AgeBeginCoding5 \n",
       "             3.2104996              4.1056981              3.8912166 \n",
       "     q1AgeBeginCoding6      q1AgeBeginCoding7      q1AgeBeginCoding8 \n",
       "             3.5554308              3.2127936              2.8661919 \n",
       "     q1AgeBeginCoding9              q3Gender1              q3Gender2 \n",
       "             4.2958559             -0.3540425             -1.0551323 \n",
       "             q3Gender3 \n",
       "            -0.5696612 "
      ]
     },
     "metadata": {},
     "output_type": "display_data"
    },
    {
     "data": {
      "text/plain": [
       "\n",
       "Call:\n",
       "lm(formula = q8JobLevel ~ q1AgeBeginCoding + q3Gender - 1, data = jobage)\n",
       "\n",
       "Residuals:\n",
       "    Min      1Q  Median      3Q     Max \n",
       "-4.2530 -1.8565 -0.1554  1.6905  7.8446 \n",
       "\n",
       "Coefficients:\n",
       "                       Estimate Std. Error t value Pr(>|t|)    \n",
       "q1AgeBeginCoding#NULL!   2.5156     0.4231   5.945 2.80e-09 ***\n",
       "q1AgeBeginCoding1        4.6071     0.2835  16.250  < 2e-16 ***\n",
       "q1AgeBeginCoding2        3.6636     0.2766  13.247  < 2e-16 ***\n",
       "q1AgeBeginCoding3        3.2105     0.2752  11.666  < 2e-16 ***\n",
       "q1AgeBeginCoding4        4.1057     0.2770  14.819  < 2e-16 ***\n",
       "q1AgeBeginCoding5        3.8912     0.2879  13.514  < 2e-16 ***\n",
       "q1AgeBeginCoding6        3.5554     0.3167  11.228  < 2e-16 ***\n",
       "q1AgeBeginCoding7        3.2128     0.3825   8.399  < 2e-16 ***\n",
       "q1AgeBeginCoding8        2.8662     0.4634   6.185 6.33e-10 ***\n",
       "q1AgeBeginCoding9        4.2959     0.8178   5.253 1.51e-07 ***\n",
       "q3Gender1               -0.3540     0.2754  -1.286  0.19857    \n",
       "q3Gender2               -1.0551     0.2770  -3.809  0.00014 ***\n",
       "q3Gender3               -0.5697     0.3371  -1.690  0.09106 .  \n",
       "---\n",
       "Signif. codes:  0 ‘***’ 0.001 ‘**’ 0.01 ‘*’ 0.05 ‘.’ 0.1 ‘ ’ 1\n",
       "\n",
       "Residual standard error: 2.174 on 25077 degrees of freedom\n",
       "Multiple R-squared:  0.667,\tAdjusted R-squared:  0.6668 \n",
       "F-statistic:  3864 on 13 and 25077 DF,  p-value: < 2.2e-16\n"
      ]
     },
     "metadata": {},
     "output_type": "display_data"
    },
    {
     "data": {
      "text/html": [
       "0.667015333445779"
      ],
      "text/latex": [
       "0.667015333445779"
      ],
      "text/markdown": [
       "0.667015333445779"
      ],
      "text/plain": [
       "[1] 0.6670153"
      ]
     },
     "metadata": {},
     "output_type": "display_data"
    },
    {
     "data": {
      "text/html": [
       "'based on statistical analysis, there are significant in job level with age begin coding and being female'"
      ],
      "text/latex": [
       "'based on statistical analysis, there are significant in job level with age begin coding and being female'"
      ],
      "text/markdown": [
       "'based on statistical analysis, there are significant in job level with age begin coding and being female'"
      ],
      "text/plain": [
       "[1] \"based on statistical analysis, there are significant in job level with age begin coding and being female\""
      ]
     },
     "metadata": {},
     "output_type": "display_data"
    }
   ],
   "source": [
    "jobage <- df[,c(\"q1AgeBeginCoding\",\"q3Gender\",\"q8JobLevel\")]\n",
    "jobage <- na.omit(jobage)\n",
    "# Create the relationship model.\n",
    "model <- lm(q8JobLevel~q1AgeBeginCoding+q3Gender-1, data = jobage)\n",
    "#model2 <- glm(q8JobLevel~q3Gender, data = jobage)\n",
    "#model3 <- glm(q8JobLevel~q1AgeBeginCoding, data = jobage)\n",
    "coef(model)\n",
    "summary(model)\n",
    "rsquared(model)\n",
    "\n",
    "#summary(model2)\n",
    "\n",
    "#summary(model3)\n",
    "\"based on statistical analysis, there are significant in job level with age begin coding and being female\""
   ]
  },
  {
   "cell_type": "code",
   "execution_count": 15,
   "metadata": {},
   "outputs": [
    {
     "data": {},
     "metadata": {},
     "output_type": "display_data"
    },
    {
     "data": {
      "image/png": "[encoded data removed]",
      "text/plain": [
       "plot without title"
      ]
     },
     "metadata": {},
     "output_type": "display_data"
    }
   ],
   "source": [
    "plotModel(model, system = \"ggplot2\")"
   ]
  },
  {
   "cell_type": "markdown",
   "metadata": {},
   "source": [
    "$3.$ The data set below represents the expected recovery time (in weeks) for patients after a surgical procedure with different post-operational methods for recovery. Negative values represent a faster recovery time than expected. The control patients followed a rutine post-operational for this type of procedure.\n",
    "\n",
    "Using the data set below compare the effect of three treatments on the expected time of recovery after surgery. (Use ANOVA)"
   ]
  },
  {
   "cell_type": "code",
   "execution_count": 16,
   "metadata": {},
   "outputs": [
    {
     "data": {
      "text/html": [
       "<ol class=list-inline>\n",
       "\t<li>'acupunture'</li>\n",
       "\t<li>'control'</li>\n",
       "\t<li>'surgery'</li>\n",
       "</ol>\n"
      ],
      "text/latex": [
       "\\begin{enumerate*}\n",
       "\\item 'acupunture'\n",
       "\\item 'control'\n",
       "\\item 'surgery'\n",
       "\\end{enumerate*}\n"
      ],
      "text/markdown": [
       "1. 'acupunture'\n",
       "2. 'control'\n",
       "3. 'surgery'\n",
       "\n",
       "\n"
      ],
      "text/plain": [
       "[1] \"acupunture\" \"control\"    \"surgery\"   "
      ]
     },
     "metadata": {},
     "output_type": "display_data"
    }
   ],
   "source": [
    "Recovery = c(.53, .36, .20, -.37, -.60, -.64, -.68, -1.27, .73, .31, .03, -.29, -.56, -.96, -1.61,\n",
    "         -.78, -.86, -1.35, -1.48, -1.52, -2.04, -2.83)\n",
    "treatment = c(rep(\"control\",8), rep(\"surgery\",7), rep(\"acupunture\",7))\n",
    "data = data.frame(Recovery, treatment)\n",
    "levels(data$treatment)"
   ]
  },
  {
   "cell_type": "code",
   "execution_count": 17,
   "metadata": {},
   "outputs": [],
   "source": [
    "data$treatment <- ordered(data$treatment,\n",
    "                         levels = c(\"acupunture\", \"control\", \"surgery\"))"
   ]
  },
  {
   "cell_type": "code",
   "execution_count": 18,
   "metadata": {},
   "outputs": [
    {
     "data": {
      "text/html": [
       "<table>\n",
       "<thead><tr><th scope=col>treatment</th><th scope=col>count</th><th scope=col>mean</th><th scope=col>sd</th></tr></thead>\n",
       "<tbody>\n",
       "\t<tr><td>acupunture</td><td>7         </td><td>-1.5514286</td><td>0.7063151 </td></tr>\n",
       "\t<tr><td>control   </td><td>8         </td><td>-0.3087500</td><td>0.6175629 </td></tr>\n",
       "\t<tr><td>surgery   </td><td>7         </td><td>-0.3357143</td><td>0.7908193 </td></tr>\n",
       "</tbody>\n",
       "</table>\n"
      ],
      "text/latex": [
       "\\begin{tabular}{r|llll}\n",
       " treatment & count & mean & sd\\\\\n",
       "\\hline\n",
       "\t acupunture & 7          & -1.5514286 & 0.7063151 \\\\\n",
       "\t control    & 8          & -0.3087500 & 0.6175629 \\\\\n",
       "\t surgery    & 7          & -0.3357143 & 0.7908193 \\\\\n",
       "\\end{tabular}\n"
      ],
      "text/markdown": [
       "\n",
       "treatment | count | mean | sd | \n",
       "|---|---|---|\n",
       "| acupunture | 7          | -1.5514286 | 0.7063151  | \n",
       "| control    | 8          | -0.3087500 | 0.6175629  | \n",
       "| surgery    | 7          | -0.3357143 | 0.7908193  | \n",
       "\n",
       "\n"
      ],
      "text/plain": [
       "  treatment  count mean       sd       \n",
       "1 acupunture 7     -1.5514286 0.7063151\n",
       "2 control    8     -0.3087500 0.6175629\n",
       "3 surgery    7     -0.3357143 0.7908193"
      ]
     },
     "metadata": {},
     "output_type": "display_data"
    }
   ],
   "source": [
    "library(dplyr)\n",
    "group_by(data, treatment) %>%\n",
    "  summarise(\n",
    "    count = n(),\n",
    "    mean = mean(Recovery, na.rm = TRUE),\n",
    "    sd = sd(Recovery, na.rm = TRUE)\n",
    "  )"
   ]
  },
  {
   "cell_type": "code",
   "execution_count": 19,
   "metadata": {},
   "outputs": [
    {
     "name": "stderr",
     "output_type": "stream",
     "text": [
      "Updating HTML index of packages in '.Library'\n",
      "Making 'packages.html' ... done\n",
      "Loading required package: magrittr\n"
     ]
    }
   ],
   "source": [
    "install.packages(\"ggpubr\")\n",
    "# Box plots\n",
    "# ++++++++++++++++++++\n",
    "# Plot weight by group and color by group\n",
    "library(\"ggpubr\")"
   ]
  },
  {
   "cell_type": "code",
   "execution_count": 20,
   "metadata": {},
   "outputs": [
    {
     "data": {},
     "metadata": {},
     "output_type": "display_data"
    },
    {
     "data": {
      "text/html": [
       "'from the graph, accupunction showed better recovery than control and surgery recovery methods'"
      ],
      "text/latex": [
       "'from the graph, accupunction showed better recovery than control and surgery recovery methods'"
      ],
      "text/markdown": [
       "'from the graph, accupunction showed better recovery than control and surgery recovery methods'"
      ],
      "text/plain": [
       "[1] \"from the graph, accupunction showed better recovery than control and surgery recovery methods\""
      ]
     },
     "metadata": {},
     "output_type": "display_data"
    },
    {
     "data": {
      "image/png": "[encoded data removed]",
      "text/plain": [
       "plot without title"
      ]
     },
     "metadata": {},
     "output_type": "display_data"
    }
   ],
   "source": [
    "ggboxplot(data, x = \"treatment\", y = \"Recovery\", \n",
    "          color = \"treatment\", palette = c(\"#00AFBB\", \"#E7B800\", \"#FC4E07\"),\n",
    "          order = c(\"acupunture\", \"control\", \"surgery\"),\n",
    "          ylab = \"Recovery\", xlab = \"Treatment\")\n",
    "\n",
    "\"from the graph, accupunction showed better recovery than control and surgery recovery methods\""
   ]
  },
  {
   "cell_type": "code",
   "execution_count": 21,
   "metadata": {},
   "outputs": [
    {
     "data": {
      "text/plain": [
       "            Df Sum Sq Mean Sq F value  Pr(>F)   \n",
       "treatment    2  7.224   3.612   7.289 0.00447 **\n",
       "Residuals   19  9.415   0.496                   \n",
       "---\n",
       "Signif. codes:  0 ‘***’ 0.001 ‘**’ 0.01 ‘*’ 0.05 ‘.’ 0.1 ‘ ’ 1"
      ]
     },
     "metadata": {},
     "output_type": "display_data"
    }
   ],
   "source": [
    "res.aov <-aov(Recovery ~ treatment, data = data)\n",
    "summary(res.aov)\n"
   ]
  },
  {
   "cell_type": "code",
   "execution_count": 22,
   "metadata": {},
   "outputs": [
    {
     "data": {
      "text/plain": [
       "  Tukey multiple comparisons of means\n",
       "    95% family-wise confidence level\n",
       "\n",
       "Fit: aov(formula = Recovery ~ treatment, data = data)\n",
       "\n",
       "$treatment\n",
       "                          diff        lwr       upr     p adj\n",
       "control-acupunture  1.24267857  0.3171207 2.1682364 0.0078656\n",
       "surgery-acupunture  1.21571429  0.2598022 2.1716263 0.0116776\n",
       "surgery-control    -0.02696429 -0.9525222 0.8985936 0.9969851\n"
      ]
     },
     "metadata": {},
     "output_type": "display_data"
    },
    {
     "data": {
      "text/html": [
       "'this showed there are significant between accupuncture compared with control and surgery'"
      ],
      "text/latex": [
       "'this showed there are significant between accupuncture compared with control and surgery'"
      ],
      "text/markdown": [
       "'this showed there are significant between accupuncture compared with control and surgery'"
      ],
      "text/plain": [
       "[1] \"this showed there are significant between accupuncture compared with control and surgery\""
      ]
     },
     "metadata": {},
     "output_type": "display_data"
    }
   ],
   "source": [
    "TukeyHSD(res.aov)\n",
    "\"this showed there are significant between accupuncture compared with control and surgery\""
   ]
  },
  {
   "cell_type": "code",
   "execution_count": 23,
   "metadata": {},
   "outputs": [
    {
     "data": {
      "image/png": "[encoded data removed]",
      "text/plain": [
       "Plot with title “”"
      ]
     },
     "metadata": {},
     "output_type": "display_data"
    }
   ],
   "source": [
    "plot(res.aov, 2)"
   ]
  },
  {
   "cell_type": "code",
   "execution_count": null,
   "metadata": {},
   "outputs": [],
   "source": []
  }
 ],
 "metadata": {
  "kernelspec": {
   "display_name": "R",
   "language": "R",
   "name": "ir"
  },
  "language_info": {
   "codemirror_mode": "r",
   "file_extension": ".r",
   "mimetype": "text/x-r-source",
   "name": "R",
   "pygments_lexer": "r",
   "version": "3.3.2"
  }
 },
 "nbformat": 4,
 "nbformat_minor": 2
}
