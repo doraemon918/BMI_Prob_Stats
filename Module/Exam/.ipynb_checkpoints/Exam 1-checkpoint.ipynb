{
 "cells": [
  {
   "cell_type": "markdown",
   "metadata": {},
   "source": [
    "# Exam 1 \n",
    "\n",
    "### <font color=green>Read each question carefully and use R to show how you calculated each answer</font>"
   ]
  },
  {
   "cell_type": "markdown",
   "metadata": {},
   "source": [
    "### 1. In a congested city when it rains (which happens one third of the days), there is 50% probability that there will be heavy traffic. On the other hand, if it doesn’t rain, then the probability gets reduced to only 25%. Now, if its rainy and there is heavy traffic, there is 50% chance hat I will arrive late to work, but only 1/8 if it is sunny and no traffic. I will be late only 1/4 of the time if there is rain and no traffic or not rain and traffic.\n",
    "<br>\n",
    "<font color=blue> If I today I arrived late to work, what is the probability that we had rain that day.? </font>\n",
    "\n",
    "<br>\n",
    "\n",
    "<font color=red>Hint (you can use tree diagrams and conditional probabilities to find the answer)</font>"
   ]
  },
  {
   "cell_type": "code",
   "execution_count": null,
   "metadata": {
    "collapsed": true
   },
   "outputs": [],
   "source": []
  },
  {
   "cell_type": "markdown",
   "metadata": {},
   "source": [
    "### 2. we classify 2000 email in two groups: 1000 emails as spam and 1000 emails as non-spam. 210 of the spam emails contained the phrase This isn’t spam, 99 had the word prize and 110 the word prince. Of the 99 that contained the word prize, 79 also contained the word prince. On the other hand, of the 1000 non-spam emails, only 23 had the phrase this isn’t spam, 80 the word prize and 110 the word prince. Of the 80 that contained the word prize 8 also contained the word prince.\n",
    "\n",
    "<br>\n",
    "<font color=blue>Assuming that the a priori probability of any message being spam is 0.5, what is the probability that an email is spam given it contains the phrase This isn't spam</font>\n"
   ]
  },
  {
   "cell_type": "code",
   "execution_count": null,
   "metadata": {
    "collapsed": true
   },
   "outputs": [],
   "source": []
  },
  {
   "cell_type": "markdown",
   "metadata": {},
   "source": [
    "### 3. The Blood Transfusion Service Center in Hsin-Chu City, Taiwan collects data to understand donation habits from a center that passes their blood transfusion service bus to one university in Hsin-Chu City. Data is collected on whether the person donates or not in March as a binary variable, and multiple categorical variables (data obtained from [http://archive.ics.uci.edu/ml/machine-learning-databases/blood-transfusion/](http://archive.ics.uci.edu/ml/machine-learning-databases/blood-transfusion/))\n",
    "\n",
    "#### R (Recency - months since last donation),\n",
    "#### F (Frequency - total number of donation),\n",
    "#### M (Monetary - total blood donated in c.c.),\n",
    "#### T (Time - months since first donation), and\n",
    "\n",
    "<br>\n",
    "<font color=blue> Using contingency tables, calculate the probability that a person donates blood in march given that they donated blood in a Frequency between 18 and 33 times </font>\n",
    "<br>\n",
    "<br>\n",
    "<font color=red> The frequency variable should be converted to a three way categorical variable 1 = 1-17; 2 = 18-33; 3 = 34-50</font>\n"
   ]
  },
  {
   "cell_type": "code",
   "execution_count": null,
   "metadata": {
    "collapsed": true
   },
   "outputs": [],
   "source": []
  },
  {
   "cell_type": "markdown",
   "metadata": {},
   "source": [
    "### 4. In a class there are 18 math majors and 25 physics majors. 12 math majors are females as well as 20 physics majors,  \n",
    "\n",
    "#### <font color=blue>Find the probability that the student selected at random is a math major or a male. </font>"
   ]
  },
  {
   "cell_type": "code",
   "execution_count": null,
   "metadata": {
    "collapsed": true
   },
   "outputs": [],
   "source": [
    "#probability of getting math major is 18/43 = 0.41\n",
    "#probability of getting a male is (6+5)/43=0.25"
   ]
  },
  {
   "cell_type": "markdown",
   "metadata": {},
   "source": [
    "### 5. There are 6 cars in a car shop out which 3 are defective. If 2 cars are picked randomly, \n",
    "\n",
    "#### <font color=blue>Find the probability that at least one is defective.</font>"
   ]
  },
  {
   "cell_type": "code",
   "execution_count": 14,
   "metadata": {},
   "outputs": [
    {
     "data": {
      "text/html": [
       "0.234375"
      ],
      "text/latex": [
       "0.234375"
      ],
      "text/markdown": [
       "0.234375"
      ],
      "text/plain": [
       "[1] 0.234375"
      ]
     },
     "metadata": {},
     "output_type": "display_data"
    }
   ],
   "source": [
    "dbinom(2,6,0.5)"
   ]
  },
  {
   "cell_type": "markdown",
   "metadata": {},
   "source": [
    "### 6. In the past, for every attempt to make a call there was a 70% probability of getting the call. \n",
    "\n",
    "#### <br><font color=blue> a. Calculate the probability of having  12 successes in 20 attempts. <br> b. Plot the distribution and describe the shape</font>"
   ]
  },
  {
   "cell_type": "code",
   "execution_count": 13,
   "metadata": {},
   "outputs": [
    {
     "data": {
      "text/html": [
       "0.114396739704861"
      ],
      "text/latex": [
       "0.114396739704861"
      ],
      "text/markdown": [
       "0.114396739704861"
      ],
      "text/plain": [
       "[1] 0.1143967"
      ]
     },
     "metadata": {},
     "output_type": "display_data"
    },
    {
     "data": {
      "image/png": "[encoded data removed]",
      "text/plain": [
       "plot without title"
      ]
     },
     "metadata": {},
     "output_type": "display_data"
    }
   ],
   "source": [
    "k=12\n",
    "n=20\n",
    "p=0.7\n",
    "q=0.3\n",
    "a<- function(k,n,p,q){\n",
    "    nCk <-(factorial(n)/(factorial(k)*factorial(n-k)))\n",
    "    pkqk <- (p^k*q^(n-k))\n",
    "    Prob <- nCk*pkqk\n",
    "    return (Prob)\n",
    "}\n",
    "a(k,n,p,q)\n",
    "plot(dbinom(0:12,20,0.7),type=\"s\")"
   ]
  },
  {
   "cell_type": "markdown",
   "metadata": {},
   "source": [
    "### 7. A study has shown that 10 in 250 people are infected with a common cold virus, however, the gold standard tests although accurate are not 100% perfect, where in fact if a person has the virus the probability of testing positive is 90%.\n",
    "\n",
    "#### <br><br> <font color=blue>What the the probability that a person chosen at random has the virus and tests positive?</font>"
   ]
  },
  {
   "cell_type": "code",
   "execution_count": null,
   "metadata": {
    "collapsed": true
   },
   "outputs": [],
   "source": []
  },
  {
   "cell_type": "markdown",
   "metadata": {},
   "source": [
    "### 8. In an Italian gambling game, a win is when I get at least 11 when three six-sided dice are thrown. Run a 100000 trial simulation of the above game to answer the following questions: \n",
    "\n",
    "<br><br> <font color=blue> 1. Would I, in the long run win the game? \n",
    "<font color=blue><br> 2. Which is more likely when throwing three dice: an 11 or a 12? \n",
    "<font color=blue><br> 3. What is the probability of getting a sum no greater than 7 or no less then 15 when throwing three dice </font>"
   ]
  },
  {
   "cell_type": "code",
   "execution_count": null,
   "metadata": {
    "collapsed": true
   },
   "outputs": [],
   "source": []
  },
  {
   "cell_type": "markdown",
   "metadata": {},
   "source": [
    "### 9. In a company 3/4 of the females are single, \n",
    "\n",
    "### <br><br> <font color=blue> Calculate the probability that within the first 5 randomly selected females we find the first single woman? <br> <font color=blue> In average in how many people we need to select before find a single female?</font>"
   ]
  },
  {
   "cell_type": "code",
   "execution_count": null,
   "metadata": {
    "collapsed": true
   },
   "outputs": [],
   "source": []
  },
  {
   "cell_type": "markdown",
   "metadata": {},
   "source": [
    "### 10. Lets use a mouse random walk The Closed Maze, where a mouse always start on the first chamber and can move randomly to different chambers until it finds a cheese in chambers 7 or 9. From the following diagram calculate:\n",
    "\n",
    "![title](Mouse_random.png)\n",
    "\n",
    "<br><br> <font color=blue> 1. The transition matrix\n",
    "<br> <font color=blue>2. Write a function that simulates this random walk (5000 times ) the mouse starts always from the 1st chamber, \n",
    "<br> <font color=blue>3. Plot the mouse random walk simulation using **ONE** of the following vector (steps - N) sizes (10,15, 50,100), \n",
    "<br><font color=blue>4. what are the probabilities of finishing in each chamber at each one of these steps sizes?  (table of 4 rows (vector size -N) vs 9 columns (chambers))<br> \n"
   ]
  },
  {
   "cell_type": "code",
   "execution_count": null,
   "metadata": {
    "collapsed": true
   },
   "outputs": [],
   "source": []
  }
 ],
 "metadata": {
  "kernelspec": {
   "display_name": "R",
   "language": "R",
   "name": "ir"
  },
  "language_info": {
   "codemirror_mode": "r",
   "file_extension": ".r",
   "mimetype": "text/x-r-source",
   "name": "R",
   "pygments_lexer": "r",
   "version": "3.3.2"
  }
 },
 "nbformat": 4,
 "nbformat_minor": 2
}
