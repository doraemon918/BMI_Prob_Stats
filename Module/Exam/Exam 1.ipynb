{
 "cells": [
  {
   "cell_type": "markdown",
   "metadata": {},
   "source": [
    "# Exam 1 \n",
    "\n",
    "### <font color=green>Read each question carefully and use R to show how you calculated each answer</font>"
   ]
  },
  {
   "cell_type": "markdown",
   "metadata": {},
   "source": [
    "### 1. In a congested city when it rains (which happens one third of the days), there is 50% probability that there will be heavy traffic. On the other hand, if it doesn’t rain, then the probability gets reduced to only 25%. Now, if its rainy and there is heavy traffic, there is 50% chance hat I will arrive late to work, but only 1/8 if it is sunny and no traffic. I will be late only 1/4 of the time if there is rain and no traffic or not rain and traffic.\n",
    "<br>\n",
    "<font color=blue> If I today I arrived late to work, what is the probability that we had rain that day.? </font>\n",
    "\n",
    "<br>\n",
    "\n",
    "<font color=red>Hint (you can use tree diagrams and conditional probabilities to find the answer)</font>"
   ]
  },
  {
   "cell_type": "code",
   "execution_count": 4,
   "metadata": {},
   "outputs": [
    {
     "data": {
      "text/html": [
       "<span style=white-space:pre-wrap>'\n",
       "rain and heavy traffic 0.5\n",
       "no rain and heavy traffic 0.25\n",
       "\n",
       "rain and heavy traffic and late 0.5 a\n",
       "no rain no traffic still late 1/8 c\n",
       "\n",
       "rain but no traffic and late 1/4 b\n",
       "no rain but traffic and late 1/4 d\n",
       "\n",
       "L for late, and R for rain\n",
       "\n",
       "P(R|L) = P(L|R)P(L)/P(R)\n",
       "       = 0.5*1/4*1/8*1/4/(0.5*1/4+1/8*1/4)\n",
       "'</span>"
      ],
      "text/latex": [
       "'\n",
       "rain and heavy traffic 0.5\n",
       "no rain and heavy traffic 0.25\n",
       "\n",
       "rain and heavy traffic and late 0.5 a\n",
       "no rain no traffic still late 1/8 c\n",
       "\n",
       "rain but no traffic and late 1/4 b\n",
       "no rain but traffic and late 1/4 d\n",
       "\n",
       "L for late, and R for rain\n",
       "\n",
       "P(R\\textbar{}L) = P(L\\textbar{}R)P(L)/P(R)\n",
       "       = 0.5*1/4*1/8*1/4/(0.5*1/4+1/8*1/4)\n",
       "'"
      ],
      "text/markdown": [
       "<span style=white-space:pre-wrap>'\n",
       "rain and heavy traffic 0.5\n",
       "no rain and heavy traffic 0.25\n",
       "\n",
       "rain and heavy traffic and late 0.5 a\n",
       "no rain no traffic still late 1/8 c\n",
       "\n",
       "rain but no traffic and late 1/4 b\n",
       "no rain but traffic and late 1/4 d\n",
       "\n",
       "L for late, and R for rain\n",
       "\n",
       "P(R|L) = P(L|R)P(L)/P(R)\n",
       "       = 0.5*1/4*1/8*1/4/(0.5*1/4+1/8*1/4)\n",
       "'</span>"
      ],
      "text/plain": [
       "[1] \"\\nrain and heavy traffic 0.5\\nno rain and heavy traffic 0.25\\n\\nrain and heavy traffic and late 0.5 a\\nno rain no traffic still late 1/8 c\\n\\nrain but no traffic and late 1/4 b\\nno rain but traffic and late 1/4 d\\n\\nL for late, and R for rain\\n\\nP(R|L) = P(L|R)P(L)/P(R)\\n       = 0.5*1/4*1/8*1/4/(0.5*1/4+1/8*1/4)\\n\""
      ]
     },
     "metadata": {},
     "output_type": "display_data"
    },
    {
     "data": {
      "text/html": [
       "0.1"
      ],
      "text/latex": [
       "0.1"
      ],
      "text/markdown": [
       "0.1"
      ],
      "text/plain": [
       "[1] 0.1"
      ]
     },
     "metadata": {},
     "output_type": "display_data"
    }
   ],
   "source": [
    "\"\n",
    "rain and heavy traffic 0.5\n",
    "no rain and heavy traffic 0.25\n",
    "\n",
    "rain and heavy traffic and late 0.5 a\n",
    "no rain no traffic still late 1/8 c\n",
    "\n",
    "rain but no traffic and late 1/4 b\n",
    "no rain but traffic and late 1/4 d\n",
    "\n",
    "L for late, and R for rain\n",
    "\n",
    "P(R|L) = P(L|R)P(L)/P(R)\n",
    "       = 0.5*1/4*1/8*1/4/(0.5*1/4+1/8*1/4)\n",
    "\"\n",
    "bayes = function(a,b,c,d){\n",
    "  PrAB <- (a * b)*c/((a * b)+(c * d)) \n",
    "  return(PrAB)\n",
    "}\n",
    "bayes(0.5,1/4,1/8,1/4)"
   ]
  },
  {
   "cell_type": "markdown",
   "metadata": {},
   "source": [
    "### 2. we classify 2000 email in two groups: 1000 emails as spam and 1000 emails as non-spam. 210 of the spam emails contained the phrase This isn’t spam, 99 had the word prize and 110 the word prince. Of the 99 that contained the word prize, 79 also contained the word prince. On the other hand, of the 1000 non-spam emails, only 23 had the phrase this isn’t spam, 80 the word prize and 110 the word prince. Of the 80 that contained the word prize 8 also contained the word prince.\n",
    "\n",
    "<br>\n",
    "<font color=blue>Assuming that the a priori probability of any message being spam is 0.5, what is the probability that an email is spam given it contains the phrase This isn't spam</font>\n"
   ]
  },
  {
   "cell_type": "code",
   "execution_count": 64,
   "metadata": {},
   "outputs": [
    {
     "data": {
      "text/html": [
       "<span style=white-space:pre-wrap>'\n",
       "spam 0.5 a\n",
       "this isn\\'t spam 0.21 c\n",
       "other spam 0.79 e\n",
       "\n",
       "not spam 0.5 b\n",
       "this isn't spam not spam 0.023 d\n",
       "other not spam 0.977 f\n",
       "\n",
       "P(spam|thisisntspam) = P(spam and thisisntspam)/P(thisisntspam)\n",
       "                    = P(a)*P(c)/(P(a)*P(c)+P(b)*P(d)+P(a)*P(e)+P(b)*P(f))\n",
       "'</span>"
      ],
      "text/latex": [
       "'\n",
       "spam 0.5 a\n",
       "this isn\\textbackslash{}'t spam 0.21 c\n",
       "other spam 0.79 e\n",
       "\n",
       "not spam 0.5 b\n",
       "this isn't spam not spam 0.023 d\n",
       "other not spam 0.977 f\n",
       "\n",
       "P(spam\\textbar{}thisisntspam) = P(spam and thisisntspam)/P(thisisntspam)\n",
       "                    = P(a)*P(c)/(P(a)*P(c)+P(b)*P(d)+P(a)*P(e)+P(b)*P(f))\n",
       "'"
      ],
      "text/markdown": [
       "<span style=white-space:pre-wrap>'\n",
       "spam 0.5 a\n",
       "this isn\\'t spam 0.21 c\n",
       "other spam 0.79 e\n",
       "\n",
       "not spam 0.5 b\n",
       "this isn't spam not spam 0.023 d\n",
       "other not spam 0.977 f\n",
       "\n",
       "P(spam|thisisntspam) = P(spam and thisisntspam)/P(thisisntspam)\n",
       "                    = P(a)*P(c)/(P(a)*P(c)+P(b)*P(d)+P(a)*P(e)+P(b)*P(f))\n",
       "'</span>"
      ],
      "text/plain": [
       "[1] \"\\nspam 0.5 a\\nthis isn't spam 0.21 c\\nother spam 0.79 e\\n\\nnot spam 0.5 b\\nthis isn't spam not spam 0.023 d\\nother not spam 0.977 f\\n\\nP(spam|thisisntspam) = P(spam and thisisntspam)/P(thisisntspam)\\n                    = P(a)*P(c)/(P(a)*P(c)+P(b)*P(d)+P(a)*P(e)+P(b)*P(f))\\n\""
      ]
     },
     "metadata": {},
     "output_type": "display_data"
    },
    {
     "data": {
      "text/html": [
       "0.105"
      ],
      "text/latex": [
       "0.105"
      ],
      "text/markdown": [
       "0.105"
      ],
      "text/plain": [
       "[1] 0.105"
      ]
     },
     "metadata": {},
     "output_type": "display_data"
    }
   ],
   "source": [
    "\"\n",
    "spam 0.5 a\n",
    "this isn't spam 0.21 c\n",
    "other spam 0.79 e\n",
    "\n",
    "not spam 0.5 b\n",
    "this isn't spam not spam 0.023 d\n",
    "other not spam 0.977 f\n",
    "\n",
    "P(spam|thisisntspam) = P(spam and thisisntspam)/P(thisisntspam)\n",
    "                    = P(a)*P(c)/(P(a)*P(c)+P(b)*P(d)+P(a)*P(e)+P(b)*P(f))\n",
    "\"\n",
    "\n",
    "bayes = function(a,b,c,d,e,f){\n",
    "  PrAB <- (a * c)/((a * c)+(b * d)+(a*e)+(b*f)) \n",
    "  return(PrAB)\n",
    "}\n",
    "bayes(0.5,0.5,0.21,0.023,0.79,0.977)"
   ]
  },
  {
   "cell_type": "markdown",
   "metadata": {},
   "source": [
    "### 3. The Blood Transfusion Service Center in Hsin-Chu City, Taiwan collects data to understand donation habits from a center that passes their blood transfusion service bus to one university in Hsin-Chu City. Data is collected on whether the person donates or not in March as a binary variable, and multiple categorical variables (data obtained from [http://archive.ics.uci.edu/ml/machine-learning-databases/blood-transfusion/](http://archive.ics.uci.edu/ml/machine-learning-databases/blood-transfusion/))\n",
    "\n",
    "#### R (Recency - months since last donation),\n",
    "#### F (Frequency - total number of donation),\n",
    "#### M (Monetary - total blood donated in c.c.),\n",
    "#### T (Time - months since first donation), and\n",
    "\n",
    "<br>\n",
    "<font color=blue> Using contingency tables, calculate the probability that a person donates blood in march given that they donated blood in a Frequency between 18 and 33 times </font>\n",
    "<br>\n",
    "<br>\n",
    "<font color=red> The frequency variable should be converted to a three way categorical variable 1 = 1-17; 2 = 18-33; 3 = 34-50</font>\n"
   ]
  },
  {
   "cell_type": "code",
   "execution_count": 1,
   "metadata": {},
   "outputs": [
    {
     "name": "stderr",
     "output_type": "stream",
     "text": [
      "\n",
      "Attaching package: ‘dplyr’\n",
      "\n",
      "The following objects are masked from ‘package:stats’:\n",
      "\n",
      "    filter, lag\n",
      "\n",
      "The following objects are masked from ‘package:base’:\n",
      "\n",
      "    intersect, setdiff, setequal, union\n",
      "\n"
     ]
    }
   ],
   "source": [
    "library(\"ggplot2\")\n",
    "library(\"dplyr\")\n",
    "library(\"reshape2\")\n",
    "library(\"knitr\")"
   ]
  },
  {
   "cell_type": "code",
   "execution_count": 26,
   "metadata": {},
   "outputs": [
    {
     "data": {
      "text/html": [
       "<table>\n",
       "<thead><tr><th scope=col>Recency</th><th scope=col>Frequency</th><th scope=col>Monetary</th><th scope=col>Time</th><th scope=col>Donated_In_March</th><th scope=col>freq_group</th></tr></thead>\n",
       "<tbody>\n",
       "\t<tr><td>2    </td><td>50   </td><td>12500</td><td>98   </td><td>1    </td><td>3    </td></tr>\n",
       "\t<tr><td>0    </td><td>13   </td><td> 3250</td><td>28   </td><td>1    </td><td>1    </td></tr>\n",
       "\t<tr><td>1    </td><td>16   </td><td> 4000</td><td>35   </td><td>1    </td><td>1    </td></tr>\n",
       "\t<tr><td>2    </td><td>20   </td><td> 5000</td><td>45   </td><td>1    </td><td>2    </td></tr>\n",
       "\t<tr><td>1    </td><td>24   </td><td> 6000</td><td>77   </td><td>0    </td><td>2    </td></tr>\n",
       "\t<tr><td>4    </td><td> 4   </td><td> 1000</td><td> 4   </td><td>0    </td><td>1    </td></tr>\n",
       "</tbody>\n",
       "</table>\n"
      ],
      "text/latex": [
       "\\begin{tabular}{r|llllll}\n",
       " Recency & Frequency & Monetary & Time & Donated\\_In\\_March & freq\\_group\\\\\n",
       "\\hline\n",
       "\t 2     & 50    & 12500 & 98    & 1     & 3    \\\\\n",
       "\t 0     & 13    &  3250 & 28    & 1     & 1    \\\\\n",
       "\t 1     & 16    &  4000 & 35    & 1     & 1    \\\\\n",
       "\t 2     & 20    &  5000 & 45    & 1     & 2    \\\\\n",
       "\t 1     & 24    &  6000 & 77    & 0     & 2    \\\\\n",
       "\t 4     &  4    &  1000 &  4    & 0     & 1    \\\\\n",
       "\\end{tabular}\n"
      ],
      "text/markdown": [
       "\n",
       "Recency | Frequency | Monetary | Time | Donated_In_March | freq_group | \n",
       "|---|---|---|---|---|---|\n",
       "| 2     | 50    | 12500 | 98    | 1     | 3     | \n",
       "| 0     | 13    |  3250 | 28    | 1     | 1     | \n",
       "| 1     | 16    |  4000 | 35    | 1     | 1     | \n",
       "| 2     | 20    |  5000 | 45    | 1     | 2     | \n",
       "| 1     | 24    |  6000 | 77    | 0     | 2     | \n",
       "| 4     |  4    |  1000 |  4    | 0     | 1     | \n",
       "\n",
       "\n"
      ],
      "text/plain": [
       "  Recency Frequency Monetary Time Donated_In_March freq_group\n",
       "1 2       50        12500    98   1                3         \n",
       "2 0       13         3250    28   1                1         \n",
       "3 1       16         4000    35   1                1         \n",
       "4 2       20         5000    45   1                2         \n",
       "5 1       24         6000    77   0                2         \n",
       "6 4        4         1000     4   0                1         "
      ]
     },
     "metadata": {},
     "output_type": "display_data"
    }
   ],
   "source": [
    "#Read transfusion.csv file\n",
    "tranfusion = read.csv(file = \"transfusion.csv\")\n",
    "#group age into 3 groups\n",
    "tranfusion$freq_group <- with(tranfusion, cut(Frequency, breaks=3, labels=1:3))\n",
    "head(tranfusion)\n"
   ]
  },
  {
   "cell_type": "code",
   "execution_count": 34,
   "metadata": {},
   "outputs": [
    {
     "name": "stderr",
     "output_type": "stream",
     "text": [
      "Using n as value column: use value.var to override.\n"
     ]
    },
    {
     "data": {
      "text/plain": [
       "\n",
       "\n",
       "|Donated_In_March |1   |2  |3  |\n",
       "|:----------------|:---|:--|:--|\n",
       "|0                |561 |7  |2  |\n",
       "|1                |165 |8  |5  |"
      ]
     },
     "metadata": {},
     "output_type": "display_data"
    },
    {
     "name": "stderr",
     "output_type": "stream",
     "text": [
      "Using n as value column: use value.var to override.\n"
     ]
    },
    {
     "data": {
      "text/plain": [
       "\n",
       "\n",
       "|Donated_In_March |1   |2  |3  |\n",
       "|:----------------|:---|:--|:--|\n",
       "|0                |561 |7  |2  |\n",
       "|1                |165 |8  |5  |"
      ]
     },
     "metadata": {},
     "output_type": "display_data"
    },
    {
     "data": {
      "text/plain": [
       "\n",
       "\n",
       "|Donated_In_March |1         |2         |3         |marginal  |freq_group |\n",
       "|:----------------|:---------|:---------|:---------|:---------|:----------|\n",
       "|0                |0.7500000 |0.0093583 |0.0026738 |0.7620321 |NA         |\n",
       "|1                |0.2205882 |0.0106952 |0.0066845 |0.2379679 |NA         |\n",
       "|NA               |NA        |NA        |NA        |0.9705882 |1          |\n",
       "|NA               |NA        |NA        |NA        |0.0200535 |2          |\n",
       "|NA               |NA        |NA        |NA        |0.0093583 |3          |"
      ]
     },
     "metadata": {},
     "output_type": "display_data"
    }
   ],
   "source": [
    "\n",
    "tranfusion.march.freq.df <-\n",
    "  tranfusion %>%\n",
    "  group_by(Donated_In_March, freq_group) %>%\n",
    "  summarize(n = n())\n",
    "tranfusion.march.freq.df %>%\n",
    "  dcast(Donated_In_March ~ freq_group, value.nar = \"n\") %>%\n",
    "  kable(align = \"l\", format = \"markdown\",\n",
    "        table.attr='class=\"table table-striped table-hover\"')\n",
    "\n",
    "tranfusion.march.freq.prop.df <-\n",
    "  tranfusion.march.freq.df %>%\n",
    "  ungroup() %>%\n",
    "  mutate(prop = n/ sum(n))\n",
    "\n",
    "tranfusion.march.freq.df %>%\n",
    "  dcast(Donated_In_March ~ freq_group, value.nar = \"prop\") %>%\n",
    "  kable(align = \"l\", format = \"markdown\",\n",
    "        table.attr='class=\"table table-striped table-hover\"')\n",
    "\n",
    "Donated_In_March.marginal.df <- \n",
    "  tranfusion.march.freq.prop.df %>%\n",
    "  group_by(Donated_In_March) %>%\n",
    "  summarize(marginal = sum(prop))\n",
    "\n",
    "freq_group.marginal.df <- \n",
    "  tranfusion.march.freq.prop.df %>%\n",
    "  group_by(freq_group) %>%\n",
    "  summarize(marginal = sum(prop))\n",
    "\n",
    "tranfusion.march.freq.prop.df %>%\n",
    "  dcast(Donated_In_March ~ freq_group, value.var = \"prop\") %>%\n",
    "  left_join(Donated_In_March.marginal.df, by = \"Donated_In_March\") %>%\n",
    "  bind_rows(\n",
    "    freq_group.marginal.df %>%\n",
    "      mutate(Donated_In_March = \"marginal\") %>%\n",
    "      dcast(freq_group ~ Donated_In_March, value.var = \"marginal\")\n",
    "  ) %>%\n",
    "  kable(align = \"l\", format = \"markdown\",\n",
    "        table.attr = 'class=\"table table-striped table-hover\"')"
   ]
  },
  {
   "cell_type": "code",
   "execution_count": 37,
   "metadata": {},
   "outputs": [
    {
     "data": {
      "text/html": [
       "0.533333333333333"
      ],
      "text/latex": [
       "0.533333333333333"
      ],
      "text/markdown": [
       "0.533333333333333"
      ],
      "text/plain": [
       "[1] 0.5333333"
      ]
     },
     "metadata": {},
     "output_type": "display_data"
    }
   ],
   "source": [
    "joint.prob <- \n",
    "  tranfusion.march.freq.prop.df %>%\n",
    "  filter(Donated_In_March == 1, freq_group == 2) %>%\n",
    "  .$prop\n",
    "\n",
    "marg.prob <- \n",
    "  freq_group.marginal.df %>%\n",
    "  filter(freq_group == 2) %>%\n",
    "  .$marginal\n",
    "\n",
    "cond.prob <- joint.prob / marg.prob\n",
    "cond.prob"
   ]
  },
  {
   "cell_type": "markdown",
   "metadata": {},
   "source": [
    "### 4. In a class there are 18 math majors and 25 physics majors. 12 math majors are females as well as 20 physics majors,  \n",
    "\n",
    "#### <font color=blue>Find the probability that the student selected at random is a math major or a male. </font>"
   ]
  },
  {
   "cell_type": "code",
   "execution_count": 66,
   "metadata": {},
   "outputs": [
    {
     "data": {
      "text/html": [
       "'\n",
       "P(math|male) = P(math)+P(male) - P(both)\n",
       "P(math) = 18/43\n",
       "P(male) = 11/43\n",
       "P(both) = 6/43\n",
       "'"
      ],
      "text/latex": [
       "'\n",
       "P(math\\textbar{}male) = P(math)+P(male) - P(both)\n",
       "P(math) = 18/43\n",
       "P(male) = 11/43\n",
       "P(both) = 6/43\n",
       "'"
      ],
      "text/markdown": [
       "'\n",
       "P(math|male) = P(math)+P(male) - P(both)\n",
       "P(math) = 18/43\n",
       "P(male) = 11/43\n",
       "P(both) = 6/43\n",
       "'"
      ],
      "text/plain": [
       "[1] \"\\nP(math|male) = P(math)+P(male) - P(both)\\nP(math) = 18/43\\nP(male) = 11/43\\nP(both) = 6/43\\n\""
      ]
     },
     "metadata": {},
     "output_type": "display_data"
    },
    {
     "data": {
      "text/html": [
       "0.534883720930233"
      ],
      "text/latex": [
       "0.534883720930233"
      ],
      "text/markdown": [
       "0.534883720930233"
      ],
      "text/plain": [
       "[1] 0.5348837"
      ]
     },
     "metadata": {},
     "output_type": "display_data"
    }
   ],
   "source": [
    "#probability of getting math major is 18/43 = 0.41\n",
    "#probability of getting a male is (6+5)/43=0.25\n",
    "\"\n",
    "P(math|male) = P(math)+P(male) - P(both)\n",
    "P(math) = 18/43\n",
    "P(male) = 11/43\n",
    "P(both) = 6/43\n",
    "\"\n",
    "prob <- function(math,male,both){\n",
    "    a<- (math+male-both)\n",
    "    return (a)\n",
    "}\n",
    "prob(18/43,11/43,6/43)"
   ]
  },
  {
   "cell_type": "markdown",
   "metadata": {},
   "source": [
    "### 5. There are 6 cars in a car shop out which 3 are defective. If 2 cars are picked randomly, \n",
    "\n",
    "#### <font color=blue>Find the probability that at least one is defective.</font>"
   ]
  },
  {
   "cell_type": "code",
   "execution_count": 14,
   "metadata": {},
   "outputs": [
    {
     "data": {
      "text/html": [
       "0.234375"
      ],
      "text/latex": [
       "0.234375"
      ],
      "text/markdown": [
       "0.234375"
      ],
      "text/plain": [
       "[1] 0.234375"
      ]
     },
     "metadata": {},
     "output_type": "display_data"
    }
   ],
   "source": [
    "dbinom(2,6,0.5)"
   ]
  },
  {
   "cell_type": "markdown",
   "metadata": {},
   "source": [
    "### 6. In the past, for every attempt to make a call there was a 70% probability of getting the call. \n",
    "\n",
    "#### <br><font color=blue> a. Calculate the probability of having  12 successes in 20 attempts. <br> b. Plot the distribution and describe the shape</font>"
   ]
  },
  {
   "cell_type": "code",
   "execution_count": 13,
   "metadata": {},
   "outputs": [
    {
     "data": {
      "text/html": [
       "0.114396739704861"
      ],
      "text/latex": [
       "0.114396739704861"
      ],
      "text/markdown": [
       "0.114396739704861"
      ],
      "text/plain": [
       "[1] 0.1143967"
      ]
     },
     "metadata": {},
     "output_type": "display_data"
    },
    {
     "data": {
      "image/png": "[encoded data removed]",
      "text/plain": [
       "plot without title"
      ]
     },
     "metadata": {},
     "output_type": "display_data"
    }
   ],
   "source": [
    "k=12\n",
    "n=20\n",
    "p=0.7\n",
    "q=0.3\n",
    "a<- function(k,n,p,q){\n",
    "    nCk <-(factorial(n)/(factorial(k)*factorial(n-k)))\n",
    "    pkqk <- (p^k*q^(n-k))\n",
    "    Prob <- nCk*pkqk\n",
    "    return (Prob)\n",
    "}\n",
    "a(k,n,p,q)\n",
    "plot(dbinom(0:12,20,0.7),type=\"s\")"
   ]
  },
  {
   "cell_type": "markdown",
   "metadata": {},
   "source": [
    "### 7. A study has shown that 10 in 250 people are infected with a common cold virus, however, the gold standard tests although accurate are not 100% perfect, where in fact if a person has the virus the probability of testing positive is 90%.\n",
    "\n",
    "#### <br><br> <font color=blue>What the the probability that a person chosen at random has the virus and tests positive?</font>"
   ]
  },
  {
   "cell_type": "code",
   "execution_count": 63,
   "metadata": {},
   "outputs": [
    {
     "data": {
      "text/html": [
       "'\n",
       "10 in 250 is \n",
       "p = 0.04 (has the virus)\n",
       "n = 0.96 (no virus)\n",
       "90% of testing positive means only 9 of of 10 is positive \n",
       "p(p|v) = 0.9 (for test positive)\n",
       "and negative is \n",
       "p(p|n) = 0.1 (for test negative)\n",
       "\n",
       "bayes formula: P(p|pv) = P(p and pv)/P(pv) = (P(p)*P(p|v))/(P(p)*P(p|v)+P(n)*P(p|n))\n",
       "'"
      ],
      "text/latex": [
       "'\n",
       "10 in 250 is \n",
       "p = 0.04 (has the virus)\n",
       "n = 0.96 (no virus)\n",
       "90\\% of testing positive means only 9 of of 10 is positive \n",
       "p(p\\textbar{}v) = 0.9 (for test positive)\n",
       "and negative is \n",
       "p(p\\textbar{}n) = 0.1 (for test negative)\n",
       "\n",
       "bayes formula: P(p\\textbar{}pv) = P(p and pv)/P(pv) = (P(p)*P(p\\textbar{}v))/(P(p)*P(p\\textbar{}v)+P(n)*P(p\\textbar{}n))\n",
       "'"
      ],
      "text/markdown": [
       "'\n",
       "10 in 250 is \n",
       "p = 0.04 (has the virus)\n",
       "n = 0.96 (no virus)\n",
       "90% of testing positive means only 9 of of 10 is positive \n",
       "p(p|v) = 0.9 (for test positive)\n",
       "and negative is \n",
       "p(p|n) = 0.1 (for test negative)\n",
       "\n",
       "bayes formula: P(p|pv) = P(p and pv)/P(pv) = (P(p)*P(p|v))/(P(p)*P(p|v)+P(n)*P(p|n))\n",
       "'"
      ],
      "text/plain": [
       "[1] \"\\n10 in 250 is \\np = 0.04 (has the virus)\\nn = 0.96 (no virus)\\n90% of testing positive means only 9 of of 10 is positive \\np(p|v) = 0.9 (for test positive)\\nand negative is \\np(p|n) = 0.1 (for test negative)\\n\\nbayes formula: P(p|pv) = P(p and pv)/P(pv) = (P(p)*P(p|v))/(P(p)*P(p|v)+P(n)*P(p|n))\\n\""
      ]
     },
     "metadata": {},
     "output_type": "display_data"
    },
    {
     "data": {
      "text/html": [
       "0.272727272727273"
      ],
      "text/latex": [
       "0.272727272727273"
      ],
      "text/markdown": [
       "0.272727272727273"
      ],
      "text/plain": [
       "[1] 0.2727273"
      ]
     },
     "metadata": {},
     "output_type": "display_data"
    }
   ],
   "source": [
    "'\n",
    "10 in 250 is \n",
    "p = 0.04 (has the virus) a\n",
    "n = 0.96 (no virus) c\n",
    "90% of testing positive means only 9 of of 10 is positive \n",
    "p(p|v) = 0.9 (for test positive) b\n",
    "and negative is \n",
    "p(p|n) = 0.1 (for test negative) d\n",
    "\n",
    "bayes formula: P(p|pv) = P(p and pv)/P(pv) = (P(p)*P(p|v))/(P(p)*P(p|v)+P(n)*P(p|n))\n",
    "'\n",
    "bayes = function(a,b,c,d){\n",
    "  PrAB <- (a * b)/((a * b)+(c * d)) \n",
    "  return(PrAB)\n",
    "}\n",
    "bayes(0.04,0.9,0.96,0.1)"
   ]
  },
  {
   "cell_type": "markdown",
   "metadata": {},
   "source": [
    "### 8. In an Italian gambling game, a win is when I get at least 11 when three six-sided dice are thrown. Run a 100000 trial simulation of the above game to answer the following questions: \n",
    "\n",
    "<br><br> <font color=blue> 1. Would I, in the long run win the game? \n",
    "<font color=blue><br> 2. Which is more likely when throwing three dice: an 11 or a 12? \n",
    "<font color=blue><br> 3. What is the probability of getting a sum no greater than 7 or no less then 15 when throwing three dice </font>"
   ]
  },
  {
   "cell_type": "code",
   "execution_count": 1,
   "metadata": {},
   "outputs": [
    {
     "data": {
      "text/html": [
       "'In the long run, only probability of 12% is not good to win the game'"
      ],
      "text/latex": [
       "'In the long run, only probability of 12\\% is not good to win the game'"
      ],
      "text/markdown": [
       "'In the long run, only probability of 12% is not good to win the game'"
      ],
      "text/plain": [
       "[1] \"In the long run, only probability of 12% is not good to win the game\""
      ]
     },
     "metadata": {},
     "output_type": "display_data"
    },
    {
     "data": {
      "text/html": [
       "'11'"
      ],
      "text/latex": [
       "'11'"
      ],
      "text/markdown": [
       "'11'"
      ],
      "text/plain": [
       "[1] \"11\""
      ]
     },
     "metadata": {},
     "output_type": "display_data"
    },
    {
     "data": {
      "text/html": [
       "0.12415"
      ],
      "text/latex": [
       "0.12415"
      ],
      "text/markdown": [
       "0.12415"
      ],
      "text/plain": [
       "[1] 0.12415"
      ]
     },
     "metadata": {},
     "output_type": "display_data"
    },
    {
     "data": {
      "text/html": [
       "'12'"
      ],
      "text/latex": [
       "'12'"
      ],
      "text/markdown": [
       "'12'"
      ],
      "text/plain": [
       "[1] \"12\""
      ]
     },
     "metadata": {},
     "output_type": "display_data"
    },
    {
     "data": {
      "text/html": [
       "0.11632"
      ],
      "text/latex": [
       "0.11632"
      ],
      "text/markdown": [
       "0.11632"
      ],
      "text/plain": [
       "[1] 0.11632"
      ]
     },
     "metadata": {},
     "output_type": "display_data"
    },
    {
     "data": {
      "text/html": [
       "'&lt;=7 or &gt;=15'"
      ],
      "text/latex": [
       "'<=7 or >=15'"
      ],
      "text/markdown": [
       "'&lt;=7 or &gt;=15'"
      ],
      "text/plain": [
       "[1] \"<=7 or >=15\""
      ]
     },
     "metadata": {},
     "output_type": "display_data"
    },
    {
     "data": {
      "text/html": [
       "0.23992"
      ],
      "text/latex": [
       "0.23992"
      ],
      "text/markdown": [
       "0.23992"
      ],
      "text/plain": [
       "[1] 0.23992"
      ]
     },
     "metadata": {},
     "output_type": "display_data"
    },
    {
     "data": {
      "text/html": [
       "0.25756"
      ],
      "text/latex": [
       "0.25756"
      ],
      "text/markdown": [
       "0.25756"
      ],
      "text/plain": [
       "[1] 0.25756"
      ]
     },
     "metadata": {},
     "output_type": "display_data"
    }
   ],
   "source": [
    "##Function to roll die\n",
    "dice = c(1:6)\n",
    "roll <- function(){\n",
    "  a <- sum(sample(1:6,3,replace = T))\n",
    "  return(a)\n",
    "}\n",
    "\n",
    "trials <- 100000\n",
    "run11 <- replicate(trials,roll()==11)\n",
    "#table(run)[\"TRUE\"]/trials\n",
    "'In the long run, only probability of 12% is not good to win the game'\n",
    "'11'\n",
    "sum(run11)/length(run11)\n",
    "\n",
    "run12 <- replicate(trials,roll()==12)\n",
    "#table(run)[\"TRUE\"]/trials\n",
    "'12'\n",
    "sum(run12)/length(run12)\n",
    "\n",
    "run7_15 <- replicate(trials,roll()<=7|roll()>=15)\n",
    "#table(run)[\"TRUE\"]/trials\n",
    "'<=7 or >=15'\n",
    "sum(run7_15)/length(run7_15)\n",
    "\n",
    "run7 <- replicate(trials,roll()<=7)\n",
    "#table(run)[\"TRUE\"]/trials\n",
    "seven <- sum(run7)/length(run7)\n",
    "\n",
    "run15 <- replicate(trials,roll()>=15)\n",
    "#table(run)[\"TRUE\"]/trials\n",
    "fifteen <- sum(run15)/length(run15)\n",
    "sum(seven+fifteen)"
   ]
  },
  {
   "cell_type": "markdown",
   "metadata": {},
   "source": [
    "### 9. In a company 3/4 of the females are single, \n",
    "\n",
    "### <br><br> <font color=blue> Calculate the probability that within the first 5 randomly selected females we find the first single woman? <br> <font color=blue> In average in how many people we need to select before find a single female?</font>"
   ]
  },
  {
   "cell_type": "code",
   "execution_count": 3,
   "metadata": {},
   "outputs": [
    {
     "data": {
      "text/html": [
       "0.0146484375"
      ],
      "text/latex": [
       "0.0146484375"
      ],
      "text/markdown": [
       "0.0146484375"
      ],
      "text/plain": [
       "[1] 0.01464844"
      ]
     },
     "metadata": {},
     "output_type": "display_data"
    },
    {
     "data": {
      "text/html": [
       "'since we have 1.4% chance of having first single woman, in average we need to select 99 people before finding a single female.'"
      ],
      "text/latex": [
       "'since we have 1.4\\% chance of having first single woman, in average we need to select 99 people before finding a single female.'"
      ],
      "text/markdown": [
       "'since we have 1.4% chance of having first single woman, in average we need to select 99 people before finding a single female.'"
      ],
      "text/plain": [
       "[1] \"since we have 1.4% chance of having first single woman, in average we need to select 99 people before finding a single female.\""
      ]
     },
     "metadata": {},
     "output_type": "display_data"
    }
   ],
   "source": [
    "dbinom(1,5,3/4)\n",
    "'since we have 1.4% chance of having first single woman, in average we need to select 99 people before finding a single female.'"
   ]
  },
  {
   "cell_type": "markdown",
   "metadata": {},
   "source": [
    "### 10. Lets use a mouse random walk The Closed Maze, where a mouse always start on the first chamber and can move randomly to different chambers until it finds a cheese in chambers 7 or 9. From the following diagram calculate:\n",
    "\n",
    "![title](Mouse_random.png)\n",
    "\n",
    "<br><br> <font color=blue> 1. The transition matrix\n",
    "<br> <font color=blue>2. Write a function that simulates this random walk (5000 times ) the mouse starts always from the 1st chamber, \n",
    "<br> <font color=blue>3. Plot the mouse random walk simulation using **ONE** of the following vector (steps - N) sizes (10,15, 50,100), \n",
    "<br><font color=blue>4. what are the probabilities of finishing in each chamber at each one of these steps sizes?  (table of 4 rows (vector size -N) vs 9 columns (chambers))<br> \n"
   ]
  },
  {
   "cell_type": "code",
   "execution_count": 7,
   "metadata": {},
   "outputs": [
    {
     "name": "stderr",
     "output_type": "stream",
     "text": [
      "Updating HTML index of packages in '.Library'\n",
      "Making 'packages.html' ... done\n"
     ]
    }
   ],
   "source": [
    "install.packages('markovchain')"
   ]
  },
  {
   "cell_type": "code",
   "execution_count": 15,
   "metadata": {},
   "outputs": [
    {
     "data": {
      "text/html": [
       "<table>\n",
       "<thead><tr><th></th><th scope=col>1</th><th scope=col>2</th><th scope=col>3</th><th scope=col>4</th><th scope=col>5</th><th scope=col>6</th><th scope=col>7</th><th scope=col>8</th><th scope=col>9</th></tr></thead>\n",
       "<tbody>\n",
       "\t<tr><th scope=row>1</th><td>0.0000000</td><td>0.50     </td><td>0.0000000</td><td>0.50     </td><td>0.0000000</td><td>0.00     </td><td>0.0000000</td><td>0.00     </td><td>0.0000000</td></tr>\n",
       "\t<tr><th scope=row>2</th><td>0.3333333</td><td>0.00     </td><td>0.3333333</td><td>0.00     </td><td>0.3333333</td><td>0.00     </td><td>0.0000000</td><td>0.00     </td><td>0.0000000</td></tr>\n",
       "\t<tr><th scope=row>3</th><td>0.0000000</td><td>0.50     </td><td>0.0000000</td><td>0.00     </td><td>0.0000000</td><td>0.50     </td><td>0.0000000</td><td>0.00     </td><td>0.0000000</td></tr>\n",
       "\t<tr><th scope=row>4</th><td>0.3333333</td><td>0.00     </td><td>0.0000000</td><td>0.00     </td><td>0.3333333</td><td>0.00     </td><td>0.3333333</td><td>0.00     </td><td>0.0000000</td></tr>\n",
       "\t<tr><th scope=row>5</th><td>0.0000000</td><td>0.25     </td><td>0.0000000</td><td>0.25     </td><td>0.0000000</td><td>0.25     </td><td>0.0000000</td><td>0.25     </td><td>0.0000000</td></tr>\n",
       "\t<tr><th scope=row>6</th><td>0.0000000</td><td>0.00     </td><td>0.3333333</td><td>0.00     </td><td>0.3333333</td><td>0.00     </td><td>0.0000000</td><td>0.00     </td><td>0.3333333</td></tr>\n",
       "\t<tr><th scope=row>7</th><td>0.0000000</td><td>0.00     </td><td>0.0000000</td><td>0.00     </td><td>0.0000000</td><td>0.00     </td><td>1.0000000</td><td>0.00     </td><td>0.0000000</td></tr>\n",
       "\t<tr><th scope=row>8</th><td>0.0000000</td><td>0.00     </td><td>0.0000000</td><td>0.00     </td><td>0.3333333</td><td>0.00     </td><td>0.3333333</td><td>0.00     </td><td>0.3333333</td></tr>\n",
       "\t<tr><th scope=row>9</th><td>0.0000000</td><td>0.00     </td><td>0.0000000</td><td>0.00     </td><td>0.0000000</td><td>0.00     </td><td>0.0000000</td><td>0.00     </td><td>1.0000000</td></tr>\n",
       "</tbody>\n",
       "</table>\n"
      ],
      "text/latex": [
       "\\begin{tabular}{r|lllllllll}\n",
       "  & 1 & 2 & 3 & 4 & 5 & 6 & 7 & 8 & 9\\\\\n",
       "\\hline\n",
       "\t1 & 0.0000000 & 0.50      & 0.0000000 & 0.50      & 0.0000000 & 0.00      & 0.0000000 & 0.00      & 0.0000000\\\\\n",
       "\t2 & 0.3333333 & 0.00      & 0.3333333 & 0.00      & 0.3333333 & 0.00      & 0.0000000 & 0.00      & 0.0000000\\\\\n",
       "\t3 & 0.0000000 & 0.50      & 0.0000000 & 0.00      & 0.0000000 & 0.50      & 0.0000000 & 0.00      & 0.0000000\\\\\n",
       "\t4 & 0.3333333 & 0.00      & 0.0000000 & 0.00      & 0.3333333 & 0.00      & 0.3333333 & 0.00      & 0.0000000\\\\\n",
       "\t5 & 0.0000000 & 0.25      & 0.0000000 & 0.25      & 0.0000000 & 0.25      & 0.0000000 & 0.25      & 0.0000000\\\\\n",
       "\t6 & 0.0000000 & 0.00      & 0.3333333 & 0.00      & 0.3333333 & 0.00      & 0.0000000 & 0.00      & 0.3333333\\\\\n",
       "\t7 & 0.0000000 & 0.00      & 0.0000000 & 0.00      & 0.0000000 & 0.00      & 1.0000000 & 0.00      & 0.0000000\\\\\n",
       "\t8 & 0.0000000 & 0.00      & 0.0000000 & 0.00      & 0.3333333 & 0.00      & 0.3333333 & 0.00      & 0.3333333\\\\\n",
       "\t9 & 0.0000000 & 0.00      & 0.0000000 & 0.00      & 0.0000000 & 0.00      & 0.0000000 & 0.00      & 1.0000000\\\\\n",
       "\\end{tabular}\n"
      ],
      "text/markdown": [
       "\n",
       "| <!--/--> | 1 | 2 | 3 | 4 | 5 | 6 | 7 | 8 | 9 | \n",
       "|---|---|---|---|---|---|---|---|---|\n",
       "| 1 | 0.0000000 | 0.50      | 0.0000000 | 0.50      | 0.0000000 | 0.00      | 0.0000000 | 0.00      | 0.0000000 | \n",
       "| 2 | 0.3333333 | 0.00      | 0.3333333 | 0.00      | 0.3333333 | 0.00      | 0.0000000 | 0.00      | 0.0000000 | \n",
       "| 3 | 0.0000000 | 0.50      | 0.0000000 | 0.00      | 0.0000000 | 0.50      | 0.0000000 | 0.00      | 0.0000000 | \n",
       "| 4 | 0.3333333 | 0.00      | 0.0000000 | 0.00      | 0.3333333 | 0.00      | 0.3333333 | 0.00      | 0.0000000 | \n",
       "| 5 | 0.0000000 | 0.25      | 0.0000000 | 0.25      | 0.0000000 | 0.25      | 0.0000000 | 0.25      | 0.0000000 | \n",
       "| 6 | 0.0000000 | 0.00      | 0.3333333 | 0.00      | 0.3333333 | 0.00      | 0.0000000 | 0.00      | 0.3333333 | \n",
       "| 7 | 0.0000000 | 0.00      | 0.0000000 | 0.00      | 0.0000000 | 0.00      | 1.0000000 | 0.00      | 0.0000000 | \n",
       "| 8 | 0.0000000 | 0.00      | 0.0000000 | 0.00      | 0.3333333 | 0.00      | 0.3333333 | 0.00      | 0.3333333 | \n",
       "| 9 | 0.0000000 | 0.00      | 0.0000000 | 0.00      | 0.0000000 | 0.00      | 0.0000000 | 0.00      | 1.0000000 | \n",
       "\n",
       "\n"
      ],
      "text/plain": [
       "  1         2    3         4    5         6    7         8    9        \n",
       "1 0.0000000 0.50 0.0000000 0.50 0.0000000 0.00 0.0000000 0.00 0.0000000\n",
       "2 0.3333333 0.00 0.3333333 0.00 0.3333333 0.00 0.0000000 0.00 0.0000000\n",
       "3 0.0000000 0.50 0.0000000 0.00 0.0000000 0.50 0.0000000 0.00 0.0000000\n",
       "4 0.3333333 0.00 0.0000000 0.00 0.3333333 0.00 0.3333333 0.00 0.0000000\n",
       "5 0.0000000 0.25 0.0000000 0.25 0.0000000 0.25 0.0000000 0.25 0.0000000\n",
       "6 0.0000000 0.00 0.3333333 0.00 0.3333333 0.00 0.0000000 0.00 0.3333333\n",
       "7 0.0000000 0.00 0.0000000 0.00 0.0000000 0.00 1.0000000 0.00 0.0000000\n",
       "8 0.0000000 0.00 0.0000000 0.00 0.3333333 0.00 0.3333333 0.00 0.3333333\n",
       "9 0.0000000 0.00 0.0000000 0.00 0.0000000 0.00 0.0000000 0.00 1.0000000"
      ]
     },
     "metadata": {},
     "output_type": "display_data"
    },
    {
     "data": {
      "text/plain": [
       "Chambers \n",
       " A  9 - dimensional discrete Markov Chain defined by the following states: \n",
       " 1, 2, 3, 4, 5, 6, 7, 8, 9 \n",
       " The transition matrix  (by rows)  is defined as follows: \n",
       "          1    2         3    4         5    6         7    8         9\n",
       "1 0.0000000 0.50 0.0000000 0.50 0.0000000 0.00 0.0000000 0.00 0.0000000\n",
       "2 0.3333333 0.00 0.3333333 0.00 0.3333333 0.00 0.0000000 0.00 0.0000000\n",
       "3 0.0000000 0.50 0.0000000 0.00 0.0000000 0.50 0.0000000 0.00 0.0000000\n",
       "4 0.3333333 0.00 0.0000000 0.00 0.3333333 0.00 0.3333333 0.00 0.0000000\n",
       "5 0.0000000 0.25 0.0000000 0.25 0.0000000 0.25 0.0000000 0.25 0.0000000\n",
       "6 0.0000000 0.00 0.3333333 0.00 0.3333333 0.00 0.0000000 0.00 0.3333333\n",
       "7 0.0000000 0.00 0.0000000 0.00 0.0000000 0.00 1.0000000 0.00 0.0000000\n",
       "8 0.0000000 0.00 0.0000000 0.00 0.3333333 0.00 0.3333333 0.00 0.3333333\n",
       "9 0.0000000 0.00 0.0000000 0.00 0.0000000 0.00 0.0000000 0.00 1.0000000\n"
      ]
     },
     "metadata": {},
     "output_type": "display_data"
    }
   ],
   "source": [
    "library(markovchain)\n",
    "chambers <- c('1','2','3','4','5','6','7','8','9')\n",
    "mtrix <- matrix(data = c(0,1/2,0,1/2,0,0,0,0,0,\n",
    "                        1/3,0,1/3,0,1/3,0,0,0,0,\n",
    "                        0,1/2,0,0,0,1/2,0,0,0,\n",
    "                        1/3,0,0,0,1/3,0,1/3,0,0,\n",
    "                        0,1/4,0,1/4,0,1/4,0,1/4,0,\n",
    "                        0,0,1/3,0,1/3,0,0,0,1/3,\n",
    "                        0,0,0,0,0,0,1,0,0,\n",
    "                        0,0,0,0,1/3,0,1/3,0,1/3,\n",
    "                        0,0,0,0,0,0,0,0,1), byrow = T, nrow = 9,\n",
    "                        dimnames = list(chambers, chambers))\n",
    "mcchamber <- new(\"markovchain\", states = chambers, byrow = T,\n",
    "               transitionMatrix = mtrix, name = \"Chambers\")\n",
    "mtrix\n",
    "mcchamber"
   ]
  },
  {
   "cell_type": "code",
   "execution_count": 16,
   "metadata": {},
   "outputs": [],
   "source": [
    "# Create a large random regular matrix\n",
    "randReg <- function(N){\n",
    "M <- matrix(runif(N^2,min=1,max=N),nrow=N,ncol=N)\n",
    "rowS <- rowSums(M)\n",
    "regM <- M/rowS\n",
    "return(regM)\n",
    "}\n",
    "\n",
    "N <- 5000\n",
    "M <-randReg(N)\n",
    "#rowSums(M)"
   ]
  },
  {
   "cell_type": "code",
   "execution_count": 19,
   "metadata": {},
   "outputs": [
    {
     "data": {},
     "metadata": {},
     "output_type": "display_data"
    },
    {
     "data": {
      "image/png": "[encoded data removed]",
      "text/plain": [
       "plot without title"
      ]
     },
     "metadata": {},
     "output_type": "display_data"
    }
   ],
   "source": [
    "#sample from regMC\n",
    "regMCts <- rmarkovchain(n=5000,object=mcchamber)\n",
    "regMCtsDf <- as.data.frame(regMCts,stringsAsFactors = FALSE)\n",
    "regMCtsDf$index <- 1:5000\n",
    "regMCtsDf$regMCts <- as.numeric(regMCtsDf$regMCts)\n",
    "\n",
    "library(ggplot2)\n",
    "p <- ggplot(regMCtsDf,aes(index,regMCts))\n",
    "p + geom_line(colour=\"dark red\") +\n",
    "xlab(\"time\") +\n",
    "ylab(\"state\") +\n",
    "ggtitle(\"Random Markov Chain\")"
   ]
  },
  {
   "cell_type": "code",
   "execution_count": null,
   "metadata": {},
   "outputs": [],
   "source": []
  }
 ],
 "metadata": {
  "kernelspec": {
   "display_name": "R",
   "language": "R",
   "name": "ir"
  },
  "language_info": {
   "codemirror_mode": "r",
   "file_extension": ".r",
   "mimetype": "text/x-r-source",
   "name": "R",
   "pygments_lexer": "r",
   "version": "3.3.2"
  }
 },
 "nbformat": 4,
 "nbformat_minor": 2
}
