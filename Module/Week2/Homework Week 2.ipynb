{
 "cells": [
  {
   "cell_type": "markdown",
   "metadata": {},
   "source": [
    "## Homework"
   ]
  },
  {
   "cell_type": "markdown",
   "metadata": {},
   "source": [
    "### 1. History of Probability\n",
    "It is said that de Mere had been betting that, in four rolls of a die, at least one six would turn up. He was winning consistently and, to get more people to play, he changed the game to bet that, in 24 rolls of two dice, a pair of sixes would turn up. It is claimed that de Mere lost with 24 and felt that 25 rolls were necessary to make the game favorable. It was un grand scandale that mathematics was wrong."
   ]
  },
  {
   "cell_type": "code",
   "execution_count": 1,
   "metadata": {},
   "outputs": [
    {
     "data": {
      "text/html": [
       "<ol class=list-inline>\n",
       "\t<li>2</li>\n",
       "\t<li>4</li>\n",
       "\t<li>1</li>\n",
       "\t<li>3</li>\n",
       "</ol>\n"
      ],
      "text/latex": [
       "\\begin{enumerate*}\n",
       "\\item 2\n",
       "\\item 4\n",
       "\\item 1\n",
       "\\item 3\n",
       "\\end{enumerate*}\n"
      ],
      "text/markdown": [
       "1. 2\n",
       "2. 4\n",
       "3. 1\n",
       "4. 3\n",
       "\n",
       "\n"
      ],
      "text/plain": [
       "[1] 2 4 1 3"
      ]
     },
     "metadata": {},
     "output_type": "display_data"
    }
   ],
   "source": [
    "#1. Write function to sample from die\n",
    "dice <- c(1:6)\n",
    "dice.roll <- function(n){ #general function to roll a dice\n",
    "    rolls <- sample(dice, n, replace = T)\n",
    "    return (rolls)\n",
    "}\n",
    "dice.roll(4)\n"
   ]
  },
  {
   "cell_type": "code",
   "execution_count": 2,
   "metadata": {},
   "outputs": [
    {
     "data": {
      "text/html": [
       "FALSE"
      ],
      "text/latex": [
       "FALSE"
      ],
      "text/markdown": [
       "FALSE"
      ],
      "text/plain": [
       "[1] FALSE"
      ]
     },
     "metadata": {},
     "output_type": "display_data"
    },
    {
     "data": {
      "text/plain": [
       "\n",
       "TRUE \n",
       "   1 "
      ]
     },
     "metadata": {},
     "output_type": "display_data"
    }
   ],
   "source": [
    "#2. Write loop or function to tally sucess vs failure (define sucess?)\n",
    "one.dice <- function(n){\n",
    "    rolls <- sample(dice, n, replace = T)\n",
    "    condition <- sum(rolls ==6) >0  #condition if the roll give 6 is success (TRUE), otherwise failure (FALSE)\n",
    "    return (condition)\n",
    "}\n",
    "one.dice(4)\n",
    "table(one.dice(4))"
   ]
  },
  {
   "cell_type": "code",
   "execution_count": 3,
   "metadata": {},
   "outputs": [
    {
     "data": {
      "text/html": [
       "<strong>TRUE:</strong> 0.5181"
      ],
      "text/latex": [
       "\\textbf{TRUE:} 0.5181"
      ],
      "text/markdown": [
       "**TRUE:** 0.5181"
      ],
      "text/plain": [
       "  TRUE \n",
       "0.5181 "
      ]
     },
     "metadata": {},
     "output_type": "display_data"
    },
    {
     "data": {
      "text/html": [
       "0.5181"
      ],
      "text/latex": [
       "0.5181"
      ],
      "text/markdown": [
       "0.5181"
      ],
      "text/plain": [
       "[1] 0.5181"
      ]
     },
     "metadata": {},
     "output_type": "display_data"
    }
   ],
   "source": [
    "#3. Run 10000 trials\n",
    "one.dice <- function(n){\n",
    "    rolls <- sample(dice, n, replace = T)\n",
    "    condition <- sum(rolls ==6) >0\n",
    "    return (condition)\n",
    "}\n",
    "reps<-10000\n",
    "trials <- replicate(reps, one.dice(4))\n",
    "table(trials)[\"TRUE\"]/reps\n",
    "sum(trials)/length(trials) #probability after 10000x trials"
   ]
  },
  {
   "cell_type": "code",
   "execution_count": 4,
   "metadata": {},
   "outputs": [
    {
     "data": {
      "text/html": [
       "<strong>TRUE:</strong> 0.495"
      ],
      "text/latex": [
       "\\textbf{TRUE:} 0.495"
      ],
      "text/markdown": [
       "**TRUE:** 0.495"
      ],
      "text/plain": [
       " TRUE \n",
       "0.495 "
      ]
     },
     "metadata": {},
     "output_type": "display_data"
    },
    {
     "data": {
      "text/html": [
       "0.495"
      ],
      "text/latex": [
       "0.495"
      ],
      "text/markdown": [
       "0.495"
      ],
      "text/plain": [
       "[1] 0.495"
      ]
     },
     "metadata": {},
     "output_type": "display_data"
    }
   ],
   "source": [
    "#4. Calculate probabilities for 24 rolls and 25 rolls\n",
    "two.dice <- function(n){\n",
    "    first.dice <- sample(dice, n, replace = T)\n",
    "    second.dice <- sample(dice, n, replace = T)\n",
    "    condition <- sum((first.dice == second.dice) & (first.dice ==6)) >0 #the condition so that all dice are 6\n",
    "    return (condition)\n",
    "}\n",
    "reps<-10000\n",
    "n24 <- replicate(reps, two.dice(24))\n",
    "table(n24)[\"TRUE\"]/reps\n",
    "sum(n24)/length(n24) #probability of 24 rolls"
   ]
  },
  {
   "cell_type": "code",
   "execution_count": 5,
   "metadata": {},
   "outputs": [
    {
     "data": {
      "text/html": [
       "<strong>TRUE:</strong> 0.51"
      ],
      "text/latex": [
       "\\textbf{TRUE:} 0.51"
      ],
      "text/markdown": [
       "**TRUE:** 0.51"
      ],
      "text/plain": [
       "TRUE \n",
       "0.51 "
      ]
     },
     "metadata": {},
     "output_type": "display_data"
    },
    {
     "data": {
      "text/html": [
       "0.51"
      ],
      "text/latex": [
       "0.51"
      ],
      "text/markdown": [
       "0.51"
      ],
      "text/plain": [
       "[1] 0.51"
      ]
     },
     "metadata": {},
     "output_type": "display_data"
    }
   ],
   "source": [
    "two.dice <- function(n){\n",
    "    first.dice <- sample(dice, n, replace = T)\n",
    "    second.dice <- sample(dice, n, replace = T)\n",
    "    condition <- sum((first.dice == second.dice) & (first.dice ==6)) >0 #the condition so that all dice are 6\n",
    "    return (condition)\n",
    "}\n",
    "reps<-10000\n",
    "n25 <- replicate(reps, two.dice(25))\n",
    "table(n25)[\"TRUE\"]/reps\n",
    "sum(n25)/length(n25)#probability of 25 rolls"
   ]
  },
  {
   "cell_type": "markdown",
   "metadata": {},
   "source": [
    "## 2. Addition rule\n",
    "\n",
    "#### Find the probabilities using the table\n",
    "\n",
    "\n",
    "> 1. Type O or AB.\n",
    "\n",
    "> 2. Type A or AB.\n",
    "\n",
    "> 3. Type AB or Rh negative. \n",
    "\n",
    "> 4. Type O and Negative. \n",
    "\n",
    "> 5. Type AB"
   ]
  },
  {
   "cell_type": "code",
   "execution_count": 6,
   "metadata": {},
   "outputs": [
    {
     "data": {
      "text/html": [
       "0.4399593289273"
      ],
      "text/latex": [
       "0.4399593289273"
      ],
      "text/markdown": [
       "0.4399593289273"
      ],
      "text/plain": [
       "[1] 0.4399593"
      ]
     },
     "metadata": {},
     "output_type": "display_data"
    },
    {
     "data": {
      "text/html": [
       "0.562785968479919"
      ],
      "text/latex": [
       "0.562785968479919"
      ],
      "text/markdown": [
       "0.562785968479919"
      ],
      "text/plain": [
       "[1] 0.562786"
      ]
     },
     "metadata": {},
     "output_type": "display_data"
    },
    {
     "data": {
      "text/html": [
       "0.771428571428571"
      ],
      "text/latex": [
       "0.771428571428571"
      ],
      "text/markdown": [
       "0.771428571428571"
      ],
      "text/plain": [
       "[1] 0.7714286"
      ]
     },
     "metadata": {},
     "output_type": "display_data"
    },
    {
     "data": {
      "text/html": [
       "0.0227758007117438"
      ],
      "text/latex": [
       "0.0227758007117438"
      ],
      "text/markdown": [
       "0.0227758007117438"
      ],
      "text/plain": [
       "[1] 0.0227758"
      ]
     },
     "metadata": {},
     "output_type": "display_data"
    },
    {
     "data": {
      "text/html": [
       "0.400610066090493"
      ],
      "text/latex": [
       "0.400610066090493"
      ],
      "text/markdown": [
       "0.400610066090493"
      ],
      "text/plain": [
       "[1] 0.4006101"
      ]
     },
     "metadata": {},
     "output_type": "display_data"
    }
   ],
   "source": [
    "\n",
    "#Type O or AB.\n",
    "#P1=P(O.total)+P(AB.total)\n",
    "P1 <- 387/9835+3940/9835\n",
    "P1\n",
    "#Type A or AB.\n",
    "#P2=P(A)+P(AB)\n",
    "P2 <- 1595/9835+3940/9835\n",
    "P2\n",
    "#Type AB or Rh negative. \n",
    "#P3=(P(AB.TOTAL)+P(Rh-))-(P(AB,Rh-))\n",
    "P3 <- (3940/9835+5984/9835)-(2337/9835)\n",
    "P3\n",
    "#Type O and Negative. \n",
    "#P4 = P(O-)\n",
    "P4 <- 224/9835\n",
    "P4\n",
    "#Type AB\n",
    "P5 <- 3940/9835\n",
    "P5"
   ]
  },
  {
   "cell_type": "markdown",
   "metadata": {},
   "source": [
    "|Type     |O    |A    |B    |AB |Total |\n",
    "|:--------|:----|:----|:---------|:-------|:-----|\n",
    "|Positive |163  |662  |1513      |1603    |3941  |\n",
    "|Negative |224  |933  |2400      |2337    |5894  |\n",
    "|Total    |387  |1595 |3913      |3940    |9835  |\n"
   ]
  },
  {
   "cell_type": "markdown",
   "metadata": {},
   "source": [
    "### 3. Multiplication Rule\n",
    "\n",
    "##### From this exercises: If I roll 5 dice, what is the chance of getting all sixes? What is the chance of getting no sixes?\n",
    "\n",
    "Write a simulation in R to obtain the probabilities for each of these two exercises running 10000 trials\n",
    "\n",
    "Hint.\n",
    "\n",
    "Remember that the change to get all 6 in 5 rolls is $(1/6)^5$\n",
    "\n",
    "and to get no sixes is $(5/6)^5$\n"
   ]
  },
  {
   "cell_type": "code",
   "execution_count": null,
   "metadata": {
    "collapsed": true
   },
   "outputs": [],
   "source": [
    "#All sixes\n",
    "#1. Write function to sample from die\n",
    "#2. Write function to determine if in each 5 rolls we get all sixes (6*5) \n",
    "#3. Run 10000 trials - Hint check sapply function\n",
    "#4. Calculate probability\n",
    "\n",
    "#No sixes\n",
    "\n",
    "#1. Write function to sample from die - - Hint check sapply function -\n",
    "#2. Write function to determine if in each 5 rolls we get no sixes (6*5)\n",
    "#3. Run 10000 trials \n",
    "#4. Calculate probability\n"
   ]
  },
  {
   "cell_type": "code",
   "execution_count": 9,
   "metadata": {},
   "outputs": [
    {
     "data": {
      "text/html": [
       "1e-04"
      ],
      "text/latex": [
       "1e-04"
      ],
      "text/markdown": [
       "1e-04"
      ],
      "text/plain": [
       "[1] 1e-04"
      ]
     },
     "metadata": {},
     "output_type": "display_data"
    }
   ],
   "source": [
    "dice <- c(1:6)\n",
    "dice.roll <- function(x){ #general function to roll a dice\n",
    "    rolls <- sample(dice, x, replace = T)\n",
    "    return (rolls)\n",
    "}\n",
    "all.six <- function(x){\n",
    "    counter = 0\n",
    "    a <- sum(dice.roll(x))\n",
    "    if(a == (x*6)){\n",
    "    counter = counter + 1\n",
    "    }\n",
    "    else{\n",
    "    counter = counter + 0\n",
    "    }\n",
    "    return(counter)\n",
    "}\n",
    "\n",
    "reps = 10000\n",
    "\n",
    "sum(sapply(1:reps, function(x) all.six(5)))/reps"
   ]
  },
  {
   "cell_type": "code",
   "execution_count": 10,
   "metadata": {},
   "outputs": [
    {
     "data": {
      "text/html": [
       "0.4089"
      ],
      "text/latex": [
       "0.4089"
      ],
      "text/markdown": [
       "0.4089"
      ],
      "text/plain": [
       "[1] 0.4089"
      ]
     },
     "metadata": {},
     "output_type": "display_data"
    }
   ],
   "source": [
    "none.six <- function(x){\n",
    "    counter = 0\n",
    "    b <- dice.roll(x)\n",
    "    if((x = 6) %in% b){\n",
    "        counter = counter + 0\n",
    "    }\n",
    "    else{\n",
    "        counter = counter + 1\n",
    "    }\n",
    "    return(counter)\n",
    "}\n",
    "\n",
    "reps = 10000\n",
    "\n",
    "sum(sapply(1:reps, function(x) none.six(5)))/reps      \n"
   ]
  },
  {
   "cell_type": "markdown",
   "metadata": {},
   "source": [
    "### 4. Conditional Probability\n",
    "\n",
    "Consider a family that has three children. We are interested in the children's genders. Our sample space is S={(G,G,G),(G,G,B),(G,B,G),(G,B,B),(B,G,G),(B,G,B),(B,B,G),(B,B,B)}. Also assume that all eight possible outcomes are equally likely.\n",
    "\n",
    "1. What is the probability that the three children are girls given that the first child is a girl?\n",
    "\n",
    "2. What is the probability that At least two children are boys given that the first child is a boy?"
   ]
  },
  {
   "cell_type": "code",
   "execution_count": 26,
   "metadata": {},
   "outputs": [
    {
     "data": {
      "text/html": [
       "0.2551"
      ],
      "text/latex": [
       "0.2551"
      ],
      "text/markdown": [
       "0.2551"
      ],
      "text/plain": [
       "[1] 0.2551"
      ]
     },
     "metadata": {},
     "output_type": "display_data"
    }
   ],
   "source": [
    "S <- c(\"G\",\"B\")\n",
    "\n",
    "gender1 <- function(n){\n",
    "    child1<- sample(S, n, replace = T)\n",
    "    child2<- sample(S, n, replace = T)\n",
    "    child3<- sample(S, n, replace = T)\n",
    "    condition <- (child1 == \"G\" & child1 == \"G\" & child2 == \"G\")\n",
    "    return (condition)\n",
    "}\n",
    "reps <- 10000\n",
    "gentest <- replicate(reps, gender1(1))\n",
    "sum(gentest)/length(gentest)"
   ]
  },
  {
   "cell_type": "code",
   "execution_count": 36,
   "metadata": {},
   "outputs": [
    {
     "data": {
      "text/html": [
       "0.6226"
      ],
      "text/latex": [
       "0.6226"
      ],
      "text/markdown": [
       "0.6226"
      ],
      "text/plain": [
       "[1] 0.6226"
      ]
     },
     "metadata": {},
     "output_type": "display_data"
    }
   ],
   "source": [
    "gender2 <- function(n){\n",
    "    child1<- sample(S, n, replace = T)\n",
    "    child2<- sample(S, n, replace = T)\n",
    "    child3<- sample(S, n, replace = T)\n",
    "    condition <- (child1 == \"B\" & child2 == \"B\" | child3 == \"B\")\n",
    "    return (condition)\n",
    "}\n",
    "reps <- 10000\n",
    "gentest2 <- replicate(reps, gender2(1))\n",
    "sum(gentest2)/length(gentest2)"
   ]
  },
  {
   "cell_type": "code",
   "execution_count": 37,
   "metadata": {},
   "outputs": [
    {
     "data": {
      "text/html": [
       "0.1125"
      ],
      "text/latex": [
       "0.1125"
      ],
      "text/markdown": [
       "0.1125"
      ],
      "text/plain": [
       "[1] 0.1125"
      ]
     },
     "metadata": {},
     "output_type": "display_data"
    },
    {
     "data": {
      "text/plain": [
       "\n",
       "FALSE  TRUE \n",
       " 8878  1122 "
      ]
     },
     "metadata": {},
     "output_type": "display_data"
    },
    {
     "data": {
      "text/plain": [
       "\n",
       "FALSE  TRUE \n",
       "   88    12 "
      ]
     },
     "metadata": {},
     "output_type": "display_data"
    }
   ],
   "source": [
    "#quiz1\n",
    "coin.toss <- function(tosses, p1, p2, p3) { \n",
    "          A   <- rbinom(tosses, size=1, prob=p1) \n",
    "          B   <- rbinom(tosses, size=1, prob=p2) \n",
    "          C   <- rbinom(tosses, size=1, prob=p3)\n",
    "    condition <- (A==B & B==C & A==1)\n",
    "    return (condition)\n",
    "    }\n",
    "sum(coin.toss(10000, 0.80, 0.55, 0.25))/length(coin.toss(10000, 0.80, 0.55, 0.25))\n",
    "table(coin.toss(10000, 0.80, 0.55, 0.25))\n",
    "\n",
    "table(coin.toss(100, 0.80, 0.55, 0.25))"
   ]
  },
  {
   "cell_type": "code",
   "execution_count": null,
   "metadata": {
    "collapsed": true
   },
   "outputs": [],
   "source": []
  }
 ],
 "metadata": {
  "kernelspec": {
   "display_name": "R",
   "language": "R",
   "name": "ir"
  },
  "language_info": {
   "codemirror_mode": "r",
   "file_extension": ".r",
   "mimetype": "text/x-r-source",
   "name": "R",
   "pygments_lexer": "r",
   "version": "3.3.2"
  }
 },
 "nbformat": 4,
 "nbformat_minor": 2
}
